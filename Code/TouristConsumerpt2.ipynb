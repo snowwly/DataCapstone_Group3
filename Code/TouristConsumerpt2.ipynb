{
 "cells": [
  {
   "cell_type": "code",
   "execution_count": 0,
   "metadata": {
    "application/vnd.databricks.v1+cell": {
     "cellMetadata": {
      "byteLimit": 2048000,
      "rowLimit": 10000
     },
     "inputWidgets": {},
     "nuid": "f233ce0c-35d1-4c93-ba2d-96265ee49686",
     "showTitle": false,
     "title": ""
    }
   },
   "outputs": [
    {
     "output_type": "display_data",
     "data": {
      "text/plain": [
       "There are no messages to process"
      ]
     },
     "metadata": {
      "application/vnd.databricks.v1+output": {
       "arguments": {},
       "data": "There are no messages to process",
       "metadata": {},
       "type": "exit"
      }
     },
     "output_type": "display_data"
    }
   ],
   "source": [
    "%run \"./TouristConsumer\"\n",
    "\n"
   ]
  },
  {
   "cell_type": "code",
   "execution_count": 0,
   "metadata": {
    "application/vnd.databricks.v1+cell": {
     "cellMetadata": {
      "byteLimit": 2048000,
      "rowLimit": 10000
     },
     "inputWidgets": {},
     "nuid": "2ca8903a-4ed5-483b-8df3-2f1b7e781b48",
     "showTitle": false,
     "title": ""
    }
   },
   "outputs": [],
   "source": [
    "table = db_table\n",
    "user = db_login\n",
    "password = db_password\n",
    "server = server\n",
    "database = database\n",
    "# aJson = {}\n",
    "\n",
    "# kafkaListDictionaries = []\n",
    "\n",
    "# while(True):\n",
    "#     try:\n",
    "#         msg = c.poll(timeout=5.0)\n",
    "#         if msg is None:\n",
    "#             break\n",
    "#         elif msg.error():\n",
    "#             print(\"Consumer error: {}\".format(msg.error()))\n",
    "#             break\n",
    "#         else:\n",
    "#             aJson = json.loads('{}'.format(msg.value().decode('utf-8')))\n",
    "#             aJson['msg_timestamp'] = msg.timestamp()[1]\n",
    "#             display(aJson)\n",
    "#             kafkaListDictionaries.append(aJson)\n",
    "#     except Exception as e:\n",
    "#         print(e)\n",
    "# if len(kafkaListDictionaries) == 0: dbutils.notebook.exit(\"There are no messages to process\")\n",
    "\n",
    "# consumer_df = spark.createDataFrame(kafkaListDictionaries)\n",
    "\n",
    "# consumer_df = consumer_df.replace(float('nan'), None)\n",
    "\n",
    "\n",
    "\n",
    "\n",
    "\n",
    "# consumer_df.write.format(\"jdbc\").option(\n",
    "#     \"url\", f\"jdbc:sqlserver://{server}:1433;databaseName={database};\"\n",
    "#     ) \\\n",
    "#     .mode(\"append\") \\\n",
    "#     .option(\"dbtable\", table) \\\n",
    "#     .option(\"user\", user) \\\n",
    "#     .option(\"password\", password) \\\n",
    "#     .option(\"driver\", \"com.microsoft.sqlserver.jdbc.SQLServerDriver\") \\\n",
    "#     .save()"
   ]
  },
  {
   "cell_type": "code",
   "execution_count": 0,
   "metadata": {
    "application/vnd.databricks.v1+cell": {
     "cellMetadata": {
      "byteLimit": 2048000,
      "rowLimit": 10000
     },
     "inputWidgets": {},
     "nuid": "582ca3ca-2587-44a5-8aec-bcd122c49e48",
     "showTitle": false,
     "title": ""
    }
   },
   "outputs": [],
   "source": [
    "url =f\"jdbc:sqlserver://{server}:1433;databaseName={database};\"\n",
    "driver = \"com.microsoft.sqlserver.jdbc.SQLServerDriver\"\n",
    "remote_table = (spark.read\n",
    "  .format(\"jdbc\")\n",
    "  .option(\"driver\", driver)\n",
    "  .option(\"url\", url)\n",
    "  .option(\"port\", \"1433\") # optional, can use default port 1433 if omitted\n",
    "  .option(\"user\", user)\n",
    "  .option(\"password\", password)\n",
    "  .option(\"database\", database)\n",
    "  .option(\"dbtable\", table) # (if schemaName not provided, default to \"dbo\")\n",
    "  .load()\n",
    ")"
   ]
  },
  {
   "cell_type": "code",
   "execution_count": 0,
   "metadata": {
    "application/vnd.databricks.v1+cell": {
     "cellMetadata": {},
     "inputWidgets": {},
     "nuid": "d175e815-edfa-4f45-8fc3-c4164af9ecc4",
     "showTitle": false,
     "title": ""
    }
   },
   "outputs": [],
   "source": [
    "\n",
    "display(remote_table)\n",
    "remote_table = remote_table.dropDuplicates(['Attraction'])\n",
    "display(remote_table)\n",
    "remote_table.write.format(\"jdbc\").option(\n",
    "    \"url\", f\"jdbc:sqlserver://{server}:1433;databaseName={database};\"\n",
    "    ) \\\n",
    "    .mode(\"overwrite\") \\\n",
    "    .option(\"dbtable\", \"AttractionsDistinct\") \\\n",
    "    .option(\"user\", user) \\\n",
    "    .option(\"password\", password) \\\n",
    "    .option(\"driver\", \"com.microsoft.sqlserver.jdbc.SQLServerDriver\") \\\n",
    "    .save()"
   ]
  },
  {
   "cell_type": "code",
   "execution_count": 0,
   "metadata": {
    "application/vnd.databricks.v1+cell": {
     "cellMetadata": {
      "byteLimit": 2048000,
      "rowLimit": 10000
     },
     "inputWidgets": {},
     "nuid": "bf003e36-b87d-4458-96f5-30e1e188ccd2",
     "showTitle": false,
     "title": ""
    }
   },
   "outputs": [],
   "source": [
    "# consumer_df = spark.createDataFrame(kafkaListDictionaries)\n",
    "\n",
    "# consumer_df = consumer_df.replace(float('nan'), None)"
   ]
  },
  {
   "cell_type": "code",
   "execution_count": 0,
   "metadata": {
    "application/vnd.databricks.v1+cell": {
     "cellMetadata": {
      "byteLimit": 2048000,
      "rowLimit": 10000
     },
     "inputWidgets": {},
     "nuid": "7b2db08d-df11-400d-abbf-ee987d11ff1f",
     "showTitle": false,
     "title": ""
    }
   },
   "outputs": [],
   "source": [
    "\n",
    "# table = db_table\n",
    "# user = db_login\n",
    "# password = db_password\n",
    "# server = server\n",
    "# database = database\n",
    "\n",
    "\n",
    "\n",
    "# consumer_df.write.format(\"jdbc\").option(\n",
    "#     \"url\", f\"jdbc:sqlserver://{server}:1433;databaseName={database};\"\n",
    "#     ) \\\n",
    "#     .mode(\"append\") \\\n",
    "#     .option(\"dbtable\", table) \\\n",
    "#     .option(\"user\", user) \\\n",
    "#     .option(\"password\", password) \\\n",
    "#     .option(\"driver\", \"com.microsoft.sqlserver.jdbc.SQLServerDriver\") \\\n",
    "#     .save()"
   ]
  }
 ],
 "metadata": {
  "application/vnd.databricks.v1+notebook": {
   "dashboards": [],
   "language": "python",
   "notebookMetadata": {
    "pythonIndentUnit": 4
   },
   "notebookName": "TouristConsumerpt2",
   "widgets": {}
  }
 },
 "nbformat": 4,
 "nbformat_minor": 0
}
