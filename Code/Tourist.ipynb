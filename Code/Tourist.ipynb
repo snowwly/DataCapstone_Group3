{
 "cells": [
  {
   "cell_type": "code",
   "execution_count": 0,
   "metadata": {
    "application/vnd.databricks.v1+cell": {
     "cellMetadata": {
      "byteLimit": 2048000,
      "rowLimit": 10000
     },
     "inputWidgets": {},
     "nuid": "d6857241-51e6-458a-92a2-85c4e3c09a26",
     "showTitle": false,
     "title": ""
    }
   },
   "outputs": [],
   "source": [
    "\n",
    "import pandas as pd"
   ]
  },
  {
   "cell_type": "code",
   "execution_count": 0,
   "metadata": {
    "application/vnd.databricks.v1+cell": {
     "cellMetadata": {
      "byteLimit": 2048000,
      "rowLimit": 10000
     },
     "inputWidgets": {},
     "nuid": "efb76044-a0fc-4aa7-aedd-b48b9a2bcc9a",
     "showTitle": false,
     "title": ""
    }
   },
   "outputs": [],
   "source": [
    "%run \"../includes/Touristconfiguration\""
   ]
  },
  {
   "cell_type": "code",
   "execution_count": 0,
   "metadata": {
    "application/vnd.databricks.v1+cell": {
     "cellMetadata": {
      "byteLimit": 2048000,
      "rowLimit": 10000
     },
     "inputWidgets": {},
     "nuid": "385afb54-8b00-4607-8360-47e9ff244346",
     "showTitle": false,
     "title": ""
    }
   },
   "outputs": [
    {
     "output_type": "display_data",
     "data": {
      "text/html": [
       "<style scoped>\n",
       "  .table-result-container {\n",
       "    max-height: 300px;\n",
       "    overflow: auto;\n",
       "  }\n",
       "  table, th, td {\n",
       "    border: 1px solid black;\n",
       "    border-collapse: collapse;\n",
       "  }\n",
       "  th, td {\n",
       "    padding: 5px;\n",
       "  }\n",
       "  th {\n",
       "    text-align: left;\n",
       "  }\n",
       "</style><div class='table-result-container'><table class='table-result'><thead style='background-color: white'><tr><th>Address</th><th>Attraction</th><th>Website</th><th>latitude</th><th>longitude</th><th>Zipcode</th><th>Neighborhood</th></tr></thead><tbody><tr><td>14 E 60th St, Central Park Conservancy, New York City, NY 10022</td><td>Central Park</td><td>https://www.centralparknyc.org</td><td>40.764321</td><td>-73.97182</td><td>10022.0</td><td>Manhattan</td></tr><tr><td>20 W 34th St, New York City, NY 10001</td><td>Empire State Building</td><td>https://www.esbnyc.com</td><td>40.748745</td><td>-73.985709</td><td>10001.0</td><td>Manhattan</td></tr><tr><td>Liberty Island, New York City, NY 10004</td><td>Statue of Liberty</td><td>https://www.nps.gov/stli/index.htm</td><td>40.689555</td><td>-74.044949</td><td>10004.0</td><td>Manhattan</td></tr><tr><td>Manhattan, NY 10036</td><td>Times Square</td><td>null</td><td>40.760249</td><td>-73.99329</td><td>10036.0</td><td>Manhattan</td></tr><tr><td>Theater District, New York City, NY 10019</td><td>Broadway and the Theater District</td><td>https://www.broadway.org/</td><td>40.758984</td><td>-73.984473</td><td>10019.0</td><td>Manhattan</td></tr><tr><td>5th Ave, New York City, NY 10018</td><td>Fifth Avenue</td><td>https://www.flickr.com/photos/mariya_umama_wethemba_monastery</td><td>40.751332</td><td>-73.982482</td><td>10018.0</td><td>Manhattan</td></tr><tr><td>45 Rockefeller Plaza, New York City, NY 10111</td><td>Rockefeller Center and Top of the Rock Observation Deck</td><td>https://www.rockefellercenter.com</td><td>40.759126</td><td>-73.977693</td><td>10111.0</td><td>Manhattan</td></tr><tr><td>89 E 42nd St, New York City, NY 10017</td><td>Grand Central Terminal</td><td>https://www.grandcentralterminal.com</td><td>40.752741</td><td>-73.977216</td><td>10017.0</td><td>Manhattan</td></tr><tr><td>1000 5th Ave, New York City, NY 10028</td><td>The Metropolitan Museum of Art</td><td>https://www.metmuseum.org</td><td>40.779444</td><td>-73.963401</td><td>10028.0</td><td>Manhattan</td></tr><tr><td>180 Greenwich St, New York City, NY 10007</td><td>National September 11 Memorial & Museum</td><td>https://www.911memorial.org</td><td>40.711506</td><td>-74.012484</td><td>10007.0</td><td>Manhattan</td></tr><tr><td>200 Central Park West, New York City, NY 10024</td><td>American Museum of Natural History</td><td>https://www.amnh.org/</td><td>40.781292</td><td>-73.973839</td><td>10024.0</td><td>Manhattan</td></tr><tr><td>11 W 53rd St, New York City, NY 10019</td><td>Museum of Modern Art</td><td>https://www.moma.org/</td><td>40.761332</td><td>-73.977382</td><td>10019.0</td><td>Manhattan</td></tr><tr><td>225 Madison Ave, New York City, NY 10016</td><td>The Morgan Library & Museum</td><td>https://www.themorgan.org/</td><td>40.749184</td><td>-73.981544</td><td>10016.0</td><td>Manhattan</td></tr><tr><td>31 Centre St, New York City, NY, 10007</td><td>City Hall Station</td><td>null</td><td>40.714077</td><td>-74.003046</td><td>10007.0</td><td>Manhattan</td></tr><tr><td>30 Lincoln Center Plaza, New York City, NY 10023</td><td>Metropolitan Opera House</td><td>null</td><td>40.772779</td><td>-73.98387</td><td>10023.0</td><td>Manhattan</td></tr><tr><td>4 Cortlandt Alley, New York, NY 10013</td><td>Mmuseumm</td><td>https://www.mmuseumm.com/</td><td>40.717498</td><td>-74.00271</td><td>10013.0</td><td>Manhattan</td></tr><tr><td>Wall Street, New York City, NY 10005</td><td>Wall Street</td><td>null</td><td>40.706426</td><td>-74.009476</td><td>10005.0</td><td>Manhattan</td></tr><tr><td>90 Kent Ave, Brooklyn, NY 11211</td><td>Smorgasburg Williamsburg</td><td>null</td><td>40.721499</td><td>-73.96089</td><td>11211.0</td><td>Brooklyn</td></tr><tr><td>58 Warren St, New York, NY 10007</td><td>Mysterious Bookshop</td><td>null</td><td>40.714946</td><td>-74.009227</td><td>10007.0</td><td>Manhattan</td></tr><tr><td>103 Orchard St, New York, NY 10002</td><td>Tenement Museum</td><td>https://www.tenement.org/</td><td>40.718707</td><td>-73.990088</td><td>10002.0</td><td>Manhattan</td></tr><tr><td>Pier 86, W 46th St, New York, NY 10036</td><td>Intrepid Sea, Air & Space Museum</td><td>https://www.intrepidmuseum.org/</td><td>40.764608</td><td>-73.999096</td><td>10036.0</td><td>Manhattan</td></tr><tr><td>29 E 4th St, New York, NY 10003</td><td>Merchant's House Museum</td><td>https://www.merchantshouse.org/</td><td>40.727639</td><td>-73.992406</td><td>10003.0</td><td>Manhattan</td></tr><tr><td>New York, NY 10004</td><td>Battery Park</td><td>null</td><td>40.703848</td><td>-74.013834</td><td>10004.0</td><td>Manhattan</td></tr><tr><td>2 E 91st St, New York, NY 10128</td><td>Cooper-Hewitt, Smithsonian Design Museum</td><td>https://www.cooperhewitt.org/</td><td>40.78428</td><td>-73.957813</td><td>10128.0</td><td>Manhattan</td></tr><tr><td>E Rd, New York, NY 10044</td><td>Roosevelt Island Smallpox Hospital Ruins</td><td>null</td><td>40.760637</td><td>-73.949493</td><td>10044.0</td><td>Manhattan</td></tr><tr><td>Governor’s Island, Upper New York Bay, New York City</td><td>Governors Island</td><td>null</td><td>40.689458</td><td>-74.016803</td><td>null</td><td>null</td></tr><tr><td>Union Square W &, E 17th St, New York City, NY 10003</td><td>Union Square and Union Square Greenmarket</td><td>null</td><td>40.737138</td><td>-73.990376</td><td>10003.0</td><td>Manhattan</td></tr><tr><td>1071 5th Ave, New York, NY 10128</td><td>Solomon R. Guggenheim Museum</td><td>https://www.guggenheim.org/</td><td>40.783187</td><td>-73.958789</td><td>10128.0</td><td>Manhattan</td></tr><tr><td>Washington Square, New York City, NY 10012</td><td>Washington Square Park</td><td>null</td><td>40.730862</td><td>-73.997323</td><td>10012.0</td><td>Manhattan</td></tr><tr><td>99 Gansevoort St, New York City, NY 10014</td><td>Whitney Museum of American Art</td><td>https://www.whitney.org/</td><td>40.739508</td><td>-74.009146</td><td>10014.0</td><td>Manhattan</td></tr><tr><td>405 Lexington Ave, New York City, NY 10174</td><td>Chrysler Building</td><td>null</td><td>40.751705</td><td>-73.975598</td><td>10174.0</td><td>Manhattan</td></tr><tr><td>Ellis Island Bridge, Jersey City, NJ 10280</td><td>Ellis Island National Museum of Immigration</td><td>null</td><td>40.701352</td><td>-74.04295</td><td>10280.0</td><td>Manhattan</td></tr><tr><td>45 E 42nd St, New York City, NY 10017</td><td>Summit One Vanderbilt</td><td>null</td><td>40.752951</td><td>-73.976857</td><td>10017.0</td><td>Manhattan</td></tr><tr><td>99 Schermerhorn St, Brooklyn, NY 11201</td><td>New York Transit Museum</td><td>null</td><td>40.690594</td><td>-73.990082</td><td>11201.0</td><td>Brooklyn</td></tr><tr><td>Montague St &, Pierrepont Pl, Brooklyn, NY 11201</td><td>Brooklyn Heights Promenade</td><td>null</td><td>40.695609</td><td>-73.997379</td><td>11201.0</td><td>Brooklyn</td></tr><tr><td>215 Centre St, New York City, NY 10013</td><td>Museum of Chinese in America</td><td>https://www.mocanyc.org/</td><td>40.719478</td><td>-73.999195</td><td>10013.0</td><td>Manhattan</td></tr><tr><td>990 Washington Ave, Brooklyn, NY 11225</td><td>Brooklyn Botanic Garden</td><td>https://www.bbg.org/</td><td>40.66949</td><td>-73.962386</td><td>11225.0</td><td>Brooklyn</td></tr><tr><td>New York City, NY 10011</td><td>The High Line</td><td>https://www.thehighline.org/</td><td>40.746514</td><td>-74.009467</td><td>10011.0</td><td>Manhattan</td></tr><tr><td>5th Ave, New York City, NY 10022</td><td>St. Patrick's Cathedral</td><td>https://www.saintpatrickscathedral.org/</td><td>40.7612</td><td>-73.975267</td><td>10022.0</td><td>Manhattan</td></tr><tr><td>Brooklyn Bridge, New York City, NY 10038</td><td>Brooklyn Bridge</td><td>null</td><td>40.706069</td><td>-73.99685</td><td>10038.0</td><td>Manhattan</td></tr><tr><td>New York City, NY 10018</td><td>Bryant Park</td><td>null</td><td>40.755342</td><td>-73.99329</td><td>10018.0</td><td>Manhattan</td></tr><tr><td>117 West St, New York City, NY 10006</td><td>One World Observatory</td><td>null</td><td>40.712983</td><td>-74.013154</td><td>10006.0</td><td>Manhattan</td></tr><tr><td>1208 Surf Ave, Brooklyn, NY 11224</td><td>Coney Island & Amusement Park</td><td>null</td><td>40.575309</td><td>-73.979902</td><td>11224.0</td><td>Brooklyn</td></tr><tr><td>2900 Southern Blvd, Bronx, NY 10458</td><td>New York Botanical Garden</td><td>https://www.nybg.org/</td><td>40.865472</td><td>-73.881801</td><td>10458.0</td><td>Bronx</td></tr><tr><td>1260 6th Ave, New York City, NY 10020</td><td>Radio City Music Hall</td><td>null</td><td>40.759972</td><td>-73.980055</td><td>10020.0</td><td>Manhattan</td></tr><tr><td>99 Margaret Corbin Dr, New York City, NY 10040</td><td>The Met Cloisters</td><td>null</td><td>40.861879</td><td>-73.932954</td><td>10040.0</td><td>Manhattan</td></tr><tr><td>null</td><td>New York Public Library</td><td>https://www.nypl.org/</td><td>null</td><td>null</td><td>null</td><td>null</td></tr><tr><td>1 E 70th St, New York City, NY 10021</td><td>Frick Collection</td><td>https://www.frick.org/</td><td>40.771366</td><td>-73.967244</td><td>10021.0</td><td>Manhattan</td></tr><tr><td>Brooklyn, NY</td><td>Prospect Park</td><td>null</td><td>40.678153</td><td>-73.94416</td><td>null</td><td>null</td></tr><tr><td>2300 Southern Blvd, Bronx, NY 10460</td><td>Bronx Zoo</td><td>https://www.bronxzoo.com/</td><td>40.850121</td><td>-73.882529</td><td>10460.0</td><td>Bronx</td></tr></tbody></table></div>"
      ]
     },
     "metadata": {
      "application/vnd.databricks.v1+output": {
       "addedWidgets": {},
       "aggData": [],
       "aggError": "",
       "aggOverflow": false,
       "aggSchema": [],
       "aggSeriesLimitReached": false,
       "aggType": "",
       "arguments": {},
       "columnCustomDisplayInfos": {},
       "data": [
        [
         "14 E 60th St, Central Park Conservancy, New York City, NY 10022",
         "Central Park",
         "https://www.centralparknyc.org",
         40.764321,
         -73.97182,
         10022.0,
         "Manhattan"
        ],
        [
         "20 W 34th St, New York City, NY 10001",
         "Empire State Building",
         "https://www.esbnyc.com",
         40.748745,
         -73.985709,
         10001.0,
         "Manhattan"
        ],
        [
         "Liberty Island, New York City, NY 10004",
         "Statue of Liberty",
         "https://www.nps.gov/stli/index.htm",
         40.689555,
         -74.044949,
         10004.0,
         "Manhattan"
        ],
        [
         "Manhattan, NY 10036",
         "Times Square",
         null,
         40.760249,
         -73.99329,
         10036.0,
         "Manhattan"
        ],
        [
         "Theater District, New York City, NY 10019",
         "Broadway and the Theater District",
         "https://www.broadway.org/",
         40.758984,
         -73.984473,
         10019.0,
         "Manhattan"
        ],
        [
         "5th Ave, New York City, NY 10018",
         "Fifth Avenue",
         "https://www.flickr.com/photos/mariya_umama_wethemba_monastery",
         40.751332,
         -73.982482,
         10018.0,
         "Manhattan"
        ],
        [
         "45 Rockefeller Plaza, New York City, NY 10111",
         "Rockefeller Center and Top of the Rock Observation Deck",
         "https://www.rockefellercenter.com",
         40.759126,
         -73.977693,
         10111.0,
         "Manhattan"
        ],
        [
         "89 E 42nd St, New York City, NY 10017",
         "Grand Central Terminal",
         "https://www.grandcentralterminal.com",
         40.752741,
         -73.977216,
         10017.0,
         "Manhattan"
        ],
        [
         "1000 5th Ave, New York City, NY 10028",
         "The Metropolitan Museum of Art",
         "https://www.metmuseum.org",
         40.779444,
         -73.963401,
         10028.0,
         "Manhattan"
        ],
        [
         "180 Greenwich St, New York City, NY 10007",
         "National September 11 Memorial & Museum",
         "https://www.911memorial.org",
         40.711506,
         -74.012484,
         10007.0,
         "Manhattan"
        ],
        [
         "200 Central Park West, New York City, NY 10024",
         "American Museum of Natural History",
         "https://www.amnh.org/",
         40.781292,
         -73.973839,
         10024.0,
         "Manhattan"
        ],
        [
         "11 W 53rd St, New York City, NY 10019",
         "Museum of Modern Art",
         "https://www.moma.org/",
         40.761332,
         -73.977382,
         10019.0,
         "Manhattan"
        ],
        [
         "225 Madison Ave, New York City, NY 10016",
         "The Morgan Library & Museum",
         "https://www.themorgan.org/",
         40.749184,
         -73.981544,
         10016.0,
         "Manhattan"
        ],
        [
         "31 Centre St, New York City, NY, 10007",
         "City Hall Station",
         null,
         40.714077,
         -74.003046,
         10007.0,
         "Manhattan"
        ],
        [
         "30 Lincoln Center Plaza, New York City, NY 10023",
         "Metropolitan Opera House",
         null,
         40.772779,
         -73.98387,
         10023.0,
         "Manhattan"
        ],
        [
         "4 Cortlandt Alley, New York, NY 10013",
         "Mmuseumm",
         "https://www.mmuseumm.com/",
         40.717498,
         -74.00271,
         10013.0,
         "Manhattan"
        ],
        [
         "Wall Street, New York City, NY 10005",
         "Wall Street",
         null,
         40.706426,
         -74.009476,
         10005.0,
         "Manhattan"
        ],
        [
         "90 Kent Ave, Brooklyn, NY 11211",
         "Smorgasburg Williamsburg",
         null,
         40.721499,
         -73.96089,
         11211.0,
         "Brooklyn"
        ],
        [
         "58 Warren St, New York, NY 10007",
         "Mysterious Bookshop",
         null,
         40.714946,
         -74.009227,
         10007.0,
         "Manhattan"
        ],
        [
         "103 Orchard St, New York, NY 10002",
         "Tenement Museum",
         "https://www.tenement.org/",
         40.718707,
         -73.990088,
         10002.0,
         "Manhattan"
        ],
        [
         "Pier 86, W 46th St, New York, NY 10036",
         "Intrepid Sea, Air & Space Museum",
         "https://www.intrepidmuseum.org/",
         40.764608,
         -73.999096,
         10036.0,
         "Manhattan"
        ],
        [
         "29 E 4th St, New York, NY 10003",
         "Merchant's House Museum",
         "https://www.merchantshouse.org/",
         40.727639,
         -73.992406,
         10003.0,
         "Manhattan"
        ],
        [
         "New York, NY 10004",
         "Battery Park",
         null,
         40.703848,
         -74.013834,
         10004.0,
         "Manhattan"
        ],
        [
         "2 E 91st St, New York, NY 10128",
         "Cooper-Hewitt, Smithsonian Design Museum",
         "https://www.cooperhewitt.org/",
         40.78428,
         -73.957813,
         10128.0,
         "Manhattan"
        ],
        [
         "E Rd, New York, NY 10044",
         "Roosevelt Island Smallpox Hospital Ruins",
         null,
         40.760637,
         -73.949493,
         10044.0,
         "Manhattan"
        ],
        [
         "Governor’s Island, Upper New York Bay, New York City",
         "Governors Island",
         null,
         40.689458,
         -74.016803,
         null,
         null
        ],
        [
         "Union Square W &, E 17th St, New York City, NY 10003",
         "Union Square and Union Square Greenmarket",
         null,
         40.737138,
         -73.990376,
         10003.0,
         "Manhattan"
        ],
        [
         "1071 5th Ave, New York, NY 10128",
         "Solomon R. Guggenheim Museum",
         "https://www.guggenheim.org/",
         40.783187,
         -73.958789,
         10128.0,
         "Manhattan"
        ],
        [
         "Washington Square, New York City, NY 10012",
         "Washington Square Park",
         null,
         40.730862,
         -73.997323,
         10012.0,
         "Manhattan"
        ],
        [
         "99 Gansevoort St, New York City, NY 10014",
         "Whitney Museum of American Art",
         "https://www.whitney.org/",
         40.739508,
         -74.009146,
         10014.0,
         "Manhattan"
        ],
        [
         "405 Lexington Ave, New York City, NY 10174",
         "Chrysler Building",
         null,
         40.751705,
         -73.975598,
         10174.0,
         "Manhattan"
        ],
        [
         "Ellis Island Bridge, Jersey City, NJ 10280",
         "Ellis Island National Museum of Immigration",
         null,
         40.701352,
         -74.04295,
         10280.0,
         "Manhattan"
        ],
        [
         "45 E 42nd St, New York City, NY 10017",
         "Summit One Vanderbilt",
         null,
         40.752951,
         -73.976857,
         10017.0,
         "Manhattan"
        ],
        [
         "99 Schermerhorn St, Brooklyn, NY 11201",
         "New York Transit Museum",
         null,
         40.690594,
         -73.990082,
         11201.0,
         "Brooklyn"
        ],
        [
         "Montague St &, Pierrepont Pl, Brooklyn, NY 11201",
         "Brooklyn Heights Promenade",
         null,
         40.695609,
         -73.997379,
         11201.0,
         "Brooklyn"
        ],
        [
         "215 Centre St, New York City, NY 10013",
         "Museum of Chinese in America",
         "https://www.mocanyc.org/",
         40.719478,
         -73.999195,
         10013.0,
         "Manhattan"
        ],
        [
         "990 Washington Ave, Brooklyn, NY 11225",
         "Brooklyn Botanic Garden",
         "https://www.bbg.org/",
         40.66949,
         -73.962386,
         11225.0,
         "Brooklyn"
        ],
        [
         "New York City, NY 10011",
         "The High Line",
         "https://www.thehighline.org/",
         40.746514,
         -74.009467,
         10011.0,
         "Manhattan"
        ],
        [
         "5th Ave, New York City, NY 10022",
         "St. Patrick's Cathedral",
         "https://www.saintpatrickscathedral.org/",
         40.7612,
         -73.975267,
         10022.0,
         "Manhattan"
        ],
        [
         "Brooklyn Bridge, New York City, NY 10038",
         "Brooklyn Bridge",
         null,
         40.706069,
         -73.99685,
         10038.0,
         "Manhattan"
        ],
        [
         "New York City, NY 10018",
         "Bryant Park",
         null,
         40.755342,
         -73.99329,
         10018.0,
         "Manhattan"
        ],
        [
         "117 West St, New York City, NY 10006",
         "One World Observatory",
         null,
         40.712983,
         -74.013154,
         10006.0,
         "Manhattan"
        ],
        [
         "1208 Surf Ave, Brooklyn, NY 11224",
         "Coney Island & Amusement Park",
         null,
         40.575309,
         -73.979902,
         11224.0,
         "Brooklyn"
        ],
        [
         "2900 Southern Blvd, Bronx, NY 10458",
         "New York Botanical Garden",
         "https://www.nybg.org/",
         40.865472,
         -73.881801,
         10458.0,
         "Bronx"
        ],
        [
         "1260 6th Ave, New York City, NY 10020",
         "Radio City Music Hall",
         null,
         40.759972,
         -73.980055,
         10020.0,
         "Manhattan"
        ],
        [
         "99 Margaret Corbin Dr, New York City, NY 10040",
         "The Met Cloisters",
         null,
         40.861879,
         -73.932954,
         10040.0,
         "Manhattan"
        ],
        [
         null,
         "New York Public Library",
         "https://www.nypl.org/",
         null,
         null,
         null,
         null
        ],
        [
         "1 E 70th St, New York City, NY 10021",
         "Frick Collection",
         "https://www.frick.org/",
         40.771366,
         -73.967244,
         10021.0,
         "Manhattan"
        ],
        [
         "Brooklyn, NY",
         "Prospect Park",
         null,
         40.678153,
         -73.94416,
         null,
         null
        ],
        [
         "2300 Southern Blvd, Bronx, NY 10460",
         "Bronx Zoo",
         "https://www.bronxzoo.com/",
         40.850121,
         -73.882529,
         10460.0,
         "Bronx"
        ]
       ],
       "datasetInfos": [],
       "dbfsResultPath": null,
       "isJsonSchema": true,
       "metadata": {},
       "overflow": false,
       "plotOptions": {
        "customPlotOptions": {},
        "displayType": "table",
        "pivotAggregation": null,
        "pivotColumns": null,
        "xColumns": null,
        "yColumns": null
       },
       "removedWidgets": [],
       "schema": [
        {
         "metadata": "{}",
         "name": "Address",
         "type": "\"string\""
        },
        {
         "metadata": "{}",
         "name": "Attraction",
         "type": "\"string\""
        },
        {
         "metadata": "{}",
         "name": "Website",
         "type": "\"string\""
        },
        {
         "metadata": "{}",
         "name": "latitude",
         "type": "\"double\""
        },
        {
         "metadata": "{}",
         "name": "longitude",
         "type": "\"double\""
        },
        {
         "metadata": "{}",
         "name": "Zipcode",
         "type": "\"double\""
        },
        {
         "metadata": "{}",
         "name": "Neighborhood",
         "type": "\"string\""
        }
       ],
       "type": "table"
      }
     },
     "output_type": "display_data"
    }
   ],
   "source": [
    "df = spark.read.csv('/mnt/shirleycho-group3/Attractions_clean/tourist_attractions/*.csv',header=True,inferSchema=True)\n",
    "display(df)"
   ]
  },
  {
   "cell_type": "code",
   "execution_count": 0,
   "metadata": {
    "application/vnd.databricks.v1+cell": {
     "cellMetadata": {
      "byteLimit": 2048000,
      "rowLimit": 10000
     },
     "inputWidgets": {},
     "nuid": "75567325-4f2a-4eee-87a4-cae6f70b2937",
     "showTitle": false,
     "title": ""
    }
   },
   "outputs": [
    {
     "output_type": "display_data",
     "data": {
      "text/html": [
       "<style scoped>\n",
       "  .table-result-container {\n",
       "    max-height: 300px;\n",
       "    overflow: auto;\n",
       "  }\n",
       "  table, th, td {\n",
       "    border: 1px solid black;\n",
       "    border-collapse: collapse;\n",
       "  }\n",
       "  th, td {\n",
       "    padding: 5px;\n",
       "  }\n",
       "  th {\n",
       "    text-align: left;\n",
       "  }\n",
       "</style><div class='table-result-container'><table class='table-result'><thead style='background-color: white'><tr><th>Address</th><th>Attraction</th><th>Website</th><th>latitude</th><th>longitude</th><th>Zipcode</th><th>Neighborhood</th></tr></thead><tbody><tr><td>14 E 60th St, Central Park Conservancy, New York City, NY 10022</td><td>Central Park</td><td>https://www.centralparknyc.org</td><td>40.764321</td><td>-73.97182</td><td>10022.0</td><td>Manhattan</td></tr><tr><td>20 W 34th St, New York City, NY 10001</td><td>Empire State Building</td><td>https://www.esbnyc.com</td><td>40.748745</td><td>-73.985709</td><td>10001.0</td><td>Manhattan</td></tr><tr><td>Liberty Island, New York City, NY 10004</td><td>Statue of Liberty</td><td>https://www.nps.gov/stli/index.htm</td><td>40.689555</td><td>-74.044949</td><td>10004.0</td><td>Manhattan</td></tr><tr><td>Manhattan, NY 10036</td><td>Times Square</td><td>null</td><td>40.760249</td><td>-73.99329</td><td>10036.0</td><td>Manhattan</td></tr><tr><td>Theater District, New York City, NY 10019</td><td>Broadway and the Theater District</td><td>https://www.broadway.org/</td><td>40.758984</td><td>-73.984473</td><td>10019.0</td><td>Manhattan</td></tr><tr><td>5th Ave, New York City, NY 10018</td><td>Fifth Avenue</td><td>https://www.flickr.com/photos/mariya_umama_wethemba_monastery</td><td>40.751332</td><td>-73.982482</td><td>10018.0</td><td>Manhattan</td></tr><tr><td>45 Rockefeller Plaza, New York City, NY 10111</td><td>Rockefeller Center and Top of the Rock Observation Deck</td><td>https://www.rockefellercenter.com</td><td>40.759126</td><td>-73.977693</td><td>10111.0</td><td>Manhattan</td></tr><tr><td>89 E 42nd St, New York City, NY 10017</td><td>Grand Central Terminal</td><td>https://www.grandcentralterminal.com</td><td>40.752741</td><td>-73.977216</td><td>10017.0</td><td>Manhattan</td></tr><tr><td>1000 5th Ave, New York City, NY 10028</td><td>The Metropolitan Museum of Art</td><td>https://www.metmuseum.org</td><td>40.779444</td><td>-73.963401</td><td>10028.0</td><td>Manhattan</td></tr><tr><td>180 Greenwich St, New York City, NY 10007</td><td>National September 11 Memorial & Museum</td><td>https://www.911memorial.org</td><td>40.711506</td><td>-74.012484</td><td>10007.0</td><td>Manhattan</td></tr><tr><td>200 Central Park West, New York City, NY 10024</td><td>American Museum of Natural History</td><td>https://www.amnh.org/</td><td>40.781292</td><td>-73.973839</td><td>10024.0</td><td>Manhattan</td></tr><tr><td>11 W 53rd St, New York City, NY 10019</td><td>Museum of Modern Art</td><td>https://www.moma.org/</td><td>40.761332</td><td>-73.977382</td><td>10019.0</td><td>Manhattan</td></tr><tr><td>225 Madison Ave, New York City, NY 10016</td><td>The Morgan Library & Museum</td><td>https://www.themorgan.org/</td><td>40.749184</td><td>-73.981544</td><td>10016.0</td><td>Manhattan</td></tr><tr><td>31 Centre St, New York City, NY, 10007</td><td>City Hall Station</td><td>null</td><td>40.714077</td><td>-74.003046</td><td>10007.0</td><td>Manhattan</td></tr><tr><td>30 Lincoln Center Plaza, New York City, NY 10023</td><td>Metropolitan Opera House</td><td>null</td><td>40.772779</td><td>-73.98387</td><td>10023.0</td><td>Manhattan</td></tr><tr><td>4 Cortlandt Alley, New York, NY 10013</td><td>Mmuseumm</td><td>https://www.mmuseumm.com/</td><td>40.717498</td><td>-74.00271</td><td>10013.0</td><td>Manhattan</td></tr><tr><td>Wall Street, New York City, NY 10005</td><td>Wall Street</td><td>null</td><td>40.706426</td><td>-74.009476</td><td>10005.0</td><td>Manhattan</td></tr><tr><td>90 Kent Ave, Brooklyn, NY 11211</td><td>Smorgasburg Williamsburg</td><td>null</td><td>40.721499</td><td>-73.96089</td><td>11211.0</td><td>Brooklyn</td></tr><tr><td>58 Warren St, New York, NY 10007</td><td>Mysterious Bookshop</td><td>null</td><td>40.714946</td><td>-74.009227</td><td>10007.0</td><td>Manhattan</td></tr><tr><td>103 Orchard St, New York, NY 10002</td><td>Tenement Museum</td><td>https://www.tenement.org/</td><td>40.718707</td><td>-73.990088</td><td>10002.0</td><td>Manhattan</td></tr><tr><td>Pier 86, W 46th St, New York, NY 10036</td><td>Intrepid Sea, Air & Space Museum</td><td>https://www.intrepidmuseum.org/</td><td>40.764608</td><td>-73.999096</td><td>10036.0</td><td>Manhattan</td></tr><tr><td>29 E 4th St, New York, NY 10003</td><td>Merchant's House Museum</td><td>https://www.merchantshouse.org/</td><td>40.727639</td><td>-73.992406</td><td>10003.0</td><td>Manhattan</td></tr><tr><td>New York, NY 10004</td><td>Battery Park</td><td>null</td><td>40.703848</td><td>-74.013834</td><td>10004.0</td><td>Manhattan</td></tr><tr><td>2 E 91st St, New York, NY 10128</td><td>Cooper-Hewitt, Smithsonian Design Museum</td><td>https://www.cooperhewitt.org/</td><td>40.78428</td><td>-73.957813</td><td>10128.0</td><td>Manhattan</td></tr><tr><td>E Rd, New York, NY 10044</td><td>Roosevelt Island Smallpox Hospital Ruins</td><td>null</td><td>40.760637</td><td>-73.949493</td><td>10044.0</td><td>Manhattan</td></tr><tr><td>Governor’s Island, Upper New York Bay, New York City</td><td>Governors Island</td><td>null</td><td>40.689458</td><td>-74.016803</td><td>null</td><td>null</td></tr><tr><td>Union Square W &, E 17th St, New York City, NY 10003</td><td>Union Square and Union Square Greenmarket</td><td>null</td><td>40.737138</td><td>-73.990376</td><td>10003.0</td><td>Manhattan</td></tr><tr><td>1071 5th Ave, New York, NY 10128</td><td>Solomon R. Guggenheim Museum</td><td>https://www.guggenheim.org/</td><td>40.783187</td><td>-73.958789</td><td>10128.0</td><td>Manhattan</td></tr><tr><td>Washington Square, New York City, NY 10012</td><td>Washington Square Park</td><td>null</td><td>40.730862</td><td>-73.997323</td><td>10012.0</td><td>Manhattan</td></tr><tr><td>99 Gansevoort St, New York City, NY 10014</td><td>Whitney Museum of American Art</td><td>https://www.whitney.org/</td><td>40.739508</td><td>-74.009146</td><td>10014.0</td><td>Manhattan</td></tr><tr><td>405 Lexington Ave, New York City, NY 10174</td><td>Chrysler Building</td><td>null</td><td>40.751705</td><td>-73.975598</td><td>10174.0</td><td>Manhattan</td></tr><tr><td>Ellis Island Bridge, Jersey City, NJ 10280</td><td>Ellis Island National Museum of Immigration</td><td>null</td><td>40.701352</td><td>-74.04295</td><td>10280.0</td><td>Manhattan</td></tr><tr><td>45 E 42nd St, New York City, NY 10017</td><td>Summit One Vanderbilt</td><td>null</td><td>40.752951</td><td>-73.976857</td><td>10017.0</td><td>Manhattan</td></tr><tr><td>99 Schermerhorn St, Brooklyn, NY 11201</td><td>New York Transit Museum</td><td>null</td><td>40.690594</td><td>-73.990082</td><td>11201.0</td><td>Brooklyn</td></tr><tr><td>Montague St &, Pierrepont Pl, Brooklyn, NY 11201</td><td>Brooklyn Heights Promenade</td><td>null</td><td>40.695609</td><td>-73.997379</td><td>11201.0</td><td>Brooklyn</td></tr><tr><td>215 Centre St, New York City, NY 10013</td><td>Museum of Chinese in America</td><td>https://www.mocanyc.org/</td><td>40.719478</td><td>-73.999195</td><td>10013.0</td><td>Manhattan</td></tr><tr><td>990 Washington Ave, Brooklyn, NY 11225</td><td>Brooklyn Botanic Garden</td><td>https://www.bbg.org/</td><td>40.66949</td><td>-73.962386</td><td>11225.0</td><td>Brooklyn</td></tr><tr><td>New York City, NY 10011</td><td>The High Line</td><td>https://www.thehighline.org/</td><td>40.746514</td><td>-74.009467</td><td>10011.0</td><td>Manhattan</td></tr><tr><td>5th Ave, New York City, NY 10022</td><td>St. Patrick's Cathedral</td><td>https://www.saintpatrickscathedral.org/</td><td>40.7612</td><td>-73.975267</td><td>10022.0</td><td>Manhattan</td></tr><tr><td>Brooklyn Bridge, New York City, NY 10038</td><td>Brooklyn Bridge</td><td>null</td><td>40.706069</td><td>-73.99685</td><td>10038.0</td><td>Manhattan</td></tr><tr><td>New York City, NY 10018</td><td>Bryant Park</td><td>null</td><td>40.755342</td><td>-73.99329</td><td>10018.0</td><td>Manhattan</td></tr><tr><td>117 West St, New York City, NY 10006</td><td>One World Observatory</td><td>null</td><td>40.712983</td><td>-74.013154</td><td>10006.0</td><td>Manhattan</td></tr><tr><td>1208 Surf Ave, Brooklyn, NY 11224</td><td>Coney Island & Amusement Park</td><td>null</td><td>40.575309</td><td>-73.979902</td><td>11224.0</td><td>Brooklyn</td></tr><tr><td>2900 Southern Blvd, Bronx, NY 10458</td><td>New York Botanical Garden</td><td>https://www.nybg.org/</td><td>40.865472</td><td>-73.881801</td><td>10458.0</td><td>Bronx</td></tr><tr><td>1260 6th Ave, New York City, NY 10020</td><td>Radio City Music Hall</td><td>null</td><td>40.759972</td><td>-73.980055</td><td>10020.0</td><td>Manhattan</td></tr><tr><td>99 Margaret Corbin Dr, New York City, NY 10040</td><td>The Met Cloisters</td><td>null</td><td>40.861879</td><td>-73.932954</td><td>10040.0</td><td>Manhattan</td></tr><tr><td>null</td><td>New York Public Library</td><td>https://www.nypl.org/</td><td>null</td><td>null</td><td>null</td><td>null</td></tr><tr><td>1 E 70th St, New York City, NY 10021</td><td>Frick Collection</td><td>https://www.frick.org/</td><td>40.771366</td><td>-73.967244</td><td>10021.0</td><td>Manhattan</td></tr><tr><td>Brooklyn, NY</td><td>Prospect Park</td><td>null</td><td>40.678153</td><td>-73.94416</td><td>null</td><td>null</td></tr><tr><td>2300 Southern Blvd, Bronx, NY 10460</td><td>Bronx Zoo</td><td>https://www.bronxzoo.com/</td><td>40.850121</td><td>-73.882529</td><td>10460.0</td><td>Bronx</td></tr></tbody></table></div>"
      ]
     },
     "metadata": {
      "application/vnd.databricks.v1+output": {
       "addedWidgets": {},
       "aggData": [],
       "aggError": "",
       "aggOverflow": false,
       "aggSchema": [],
       "aggSeriesLimitReached": false,
       "aggType": "",
       "arguments": {},
       "columnCustomDisplayInfos": {},
       "data": [
        [
         "14 E 60th St, Central Park Conservancy, New York City, NY 10022",
         "Central Park",
         "https://www.centralparknyc.org",
         40.764321,
         -73.97182,
         10022.0,
         "Manhattan"
        ],
        [
         "20 W 34th St, New York City, NY 10001",
         "Empire State Building",
         "https://www.esbnyc.com",
         40.748745,
         -73.985709,
         10001.0,
         "Manhattan"
        ],
        [
         "Liberty Island, New York City, NY 10004",
         "Statue of Liberty",
         "https://www.nps.gov/stli/index.htm",
         40.689555,
         -74.044949,
         10004.0,
         "Manhattan"
        ],
        [
         "Manhattan, NY 10036",
         "Times Square",
         null,
         40.760249,
         -73.99329,
         10036.0,
         "Manhattan"
        ],
        [
         "Theater District, New York City, NY 10019",
         "Broadway and the Theater District",
         "https://www.broadway.org/",
         40.758984,
         -73.984473,
         10019.0,
         "Manhattan"
        ],
        [
         "5th Ave, New York City, NY 10018",
         "Fifth Avenue",
         "https://www.flickr.com/photos/mariya_umama_wethemba_monastery",
         40.751332,
         -73.982482,
         10018.0,
         "Manhattan"
        ],
        [
         "45 Rockefeller Plaza, New York City, NY 10111",
         "Rockefeller Center and Top of the Rock Observation Deck",
         "https://www.rockefellercenter.com",
         40.759126,
         -73.977693,
         10111.0,
         "Manhattan"
        ],
        [
         "89 E 42nd St, New York City, NY 10017",
         "Grand Central Terminal",
         "https://www.grandcentralterminal.com",
         40.752741,
         -73.977216,
         10017.0,
         "Manhattan"
        ],
        [
         "1000 5th Ave, New York City, NY 10028",
         "The Metropolitan Museum of Art",
         "https://www.metmuseum.org",
         40.779444,
         -73.963401,
         10028.0,
         "Manhattan"
        ],
        [
         "180 Greenwich St, New York City, NY 10007",
         "National September 11 Memorial & Museum",
         "https://www.911memorial.org",
         40.711506,
         -74.012484,
         10007.0,
         "Manhattan"
        ],
        [
         "200 Central Park West, New York City, NY 10024",
         "American Museum of Natural History",
         "https://www.amnh.org/",
         40.781292,
         -73.973839,
         10024.0,
         "Manhattan"
        ],
        [
         "11 W 53rd St, New York City, NY 10019",
         "Museum of Modern Art",
         "https://www.moma.org/",
         40.761332,
         -73.977382,
         10019.0,
         "Manhattan"
        ],
        [
         "225 Madison Ave, New York City, NY 10016",
         "The Morgan Library & Museum",
         "https://www.themorgan.org/",
         40.749184,
         -73.981544,
         10016.0,
         "Manhattan"
        ],
        [
         "31 Centre St, New York City, NY, 10007",
         "City Hall Station",
         null,
         40.714077,
         -74.003046,
         10007.0,
         "Manhattan"
        ],
        [
         "30 Lincoln Center Plaza, New York City, NY 10023",
         "Metropolitan Opera House",
         null,
         40.772779,
         -73.98387,
         10023.0,
         "Manhattan"
        ],
        [
         "4 Cortlandt Alley, New York, NY 10013",
         "Mmuseumm",
         "https://www.mmuseumm.com/",
         40.717498,
         -74.00271,
         10013.0,
         "Manhattan"
        ],
        [
         "Wall Street, New York City, NY 10005",
         "Wall Street",
         null,
         40.706426,
         -74.009476,
         10005.0,
         "Manhattan"
        ],
        [
         "90 Kent Ave, Brooklyn, NY 11211",
         "Smorgasburg Williamsburg",
         null,
         40.721499,
         -73.96089,
         11211.0,
         "Brooklyn"
        ],
        [
         "58 Warren St, New York, NY 10007",
         "Mysterious Bookshop",
         null,
         40.714946,
         -74.009227,
         10007.0,
         "Manhattan"
        ],
        [
         "103 Orchard St, New York, NY 10002",
         "Tenement Museum",
         "https://www.tenement.org/",
         40.718707,
         -73.990088,
         10002.0,
         "Manhattan"
        ],
        [
         "Pier 86, W 46th St, New York, NY 10036",
         "Intrepid Sea, Air & Space Museum",
         "https://www.intrepidmuseum.org/",
         40.764608,
         -73.999096,
         10036.0,
         "Manhattan"
        ],
        [
         "29 E 4th St, New York, NY 10003",
         "Merchant's House Museum",
         "https://www.merchantshouse.org/",
         40.727639,
         -73.992406,
         10003.0,
         "Manhattan"
        ],
        [
         "New York, NY 10004",
         "Battery Park",
         null,
         40.703848,
         -74.013834,
         10004.0,
         "Manhattan"
        ],
        [
         "2 E 91st St, New York, NY 10128",
         "Cooper-Hewitt, Smithsonian Design Museum",
         "https://www.cooperhewitt.org/",
         40.78428,
         -73.957813,
         10128.0,
         "Manhattan"
        ],
        [
         "E Rd, New York, NY 10044",
         "Roosevelt Island Smallpox Hospital Ruins",
         null,
         40.760637,
         -73.949493,
         10044.0,
         "Manhattan"
        ],
        [
         "Governor’s Island, Upper New York Bay, New York City",
         "Governors Island",
         null,
         40.689458,
         -74.016803,
         null,
         null
        ],
        [
         "Union Square W &, E 17th St, New York City, NY 10003",
         "Union Square and Union Square Greenmarket",
         null,
         40.737138,
         -73.990376,
         10003.0,
         "Manhattan"
        ],
        [
         "1071 5th Ave, New York, NY 10128",
         "Solomon R. Guggenheim Museum",
         "https://www.guggenheim.org/",
         40.783187,
         -73.958789,
         10128.0,
         "Manhattan"
        ],
        [
         "Washington Square, New York City, NY 10012",
         "Washington Square Park",
         null,
         40.730862,
         -73.997323,
         10012.0,
         "Manhattan"
        ],
        [
         "99 Gansevoort St, New York City, NY 10014",
         "Whitney Museum of American Art",
         "https://www.whitney.org/",
         40.739508,
         -74.009146,
         10014.0,
         "Manhattan"
        ],
        [
         "405 Lexington Ave, New York City, NY 10174",
         "Chrysler Building",
         null,
         40.751705,
         -73.975598,
         10174.0,
         "Manhattan"
        ],
        [
         "Ellis Island Bridge, Jersey City, NJ 10280",
         "Ellis Island National Museum of Immigration",
         null,
         40.701352,
         -74.04295,
         10280.0,
         "Manhattan"
        ],
        [
         "45 E 42nd St, New York City, NY 10017",
         "Summit One Vanderbilt",
         null,
         40.752951,
         -73.976857,
         10017.0,
         "Manhattan"
        ],
        [
         "99 Schermerhorn St, Brooklyn, NY 11201",
         "New York Transit Museum",
         null,
         40.690594,
         -73.990082,
         11201.0,
         "Brooklyn"
        ],
        [
         "Montague St &, Pierrepont Pl, Brooklyn, NY 11201",
         "Brooklyn Heights Promenade",
         null,
         40.695609,
         -73.997379,
         11201.0,
         "Brooklyn"
        ],
        [
         "215 Centre St, New York City, NY 10013",
         "Museum of Chinese in America",
         "https://www.mocanyc.org/",
         40.719478,
         -73.999195,
         10013.0,
         "Manhattan"
        ],
        [
         "990 Washington Ave, Brooklyn, NY 11225",
         "Brooklyn Botanic Garden",
         "https://www.bbg.org/",
         40.66949,
         -73.962386,
         11225.0,
         "Brooklyn"
        ],
        [
         "New York City, NY 10011",
         "The High Line",
         "https://www.thehighline.org/",
         40.746514,
         -74.009467,
         10011.0,
         "Manhattan"
        ],
        [
         "5th Ave, New York City, NY 10022",
         "St. Patrick's Cathedral",
         "https://www.saintpatrickscathedral.org/",
         40.7612,
         -73.975267,
         10022.0,
         "Manhattan"
        ],
        [
         "Brooklyn Bridge, New York City, NY 10038",
         "Brooklyn Bridge",
         null,
         40.706069,
         -73.99685,
         10038.0,
         "Manhattan"
        ],
        [
         "New York City, NY 10018",
         "Bryant Park",
         null,
         40.755342,
         -73.99329,
         10018.0,
         "Manhattan"
        ],
        [
         "117 West St, New York City, NY 10006",
         "One World Observatory",
         null,
         40.712983,
         -74.013154,
         10006.0,
         "Manhattan"
        ],
        [
         "1208 Surf Ave, Brooklyn, NY 11224",
         "Coney Island & Amusement Park",
         null,
         40.575309,
         -73.979902,
         11224.0,
         "Brooklyn"
        ],
        [
         "2900 Southern Blvd, Bronx, NY 10458",
         "New York Botanical Garden",
         "https://www.nybg.org/",
         40.865472,
         -73.881801,
         10458.0,
         "Bronx"
        ],
        [
         "1260 6th Ave, New York City, NY 10020",
         "Radio City Music Hall",
         null,
         40.759972,
         -73.980055,
         10020.0,
         "Manhattan"
        ],
        [
         "99 Margaret Corbin Dr, New York City, NY 10040",
         "The Met Cloisters",
         null,
         40.861879,
         -73.932954,
         10040.0,
         "Manhattan"
        ],
        [
         null,
         "New York Public Library",
         "https://www.nypl.org/",
         null,
         null,
         null,
         null
        ],
        [
         "1 E 70th St, New York City, NY 10021",
         "Frick Collection",
         "https://www.frick.org/",
         40.771366,
         -73.967244,
         10021.0,
         "Manhattan"
        ],
        [
         "Brooklyn, NY",
         "Prospect Park",
         null,
         40.678153,
         -73.94416,
         null,
         null
        ],
        [
         "2300 Southern Blvd, Bronx, NY 10460",
         "Bronx Zoo",
         "https://www.bronxzoo.com/",
         40.850121,
         -73.882529,
         10460.0,
         "Bronx"
        ]
       ],
       "datasetInfos": [],
       "dbfsResultPath": null,
       "isJsonSchema": true,
       "metadata": {},
       "overflow": false,
       "plotOptions": {
        "customPlotOptions": {},
        "displayType": "table",
        "pivotAggregation": null,
        "pivotColumns": null,
        "xColumns": null,
        "yColumns": null
       },
       "removedWidgets": [],
       "schema": [
        {
         "metadata": "{}",
         "name": "Address",
         "type": "\"string\""
        },
        {
         "metadata": "{}",
         "name": "Attraction",
         "type": "\"string\""
        },
        {
         "metadata": "{}",
         "name": "Website",
         "type": "\"string\""
        },
        {
         "metadata": "{}",
         "name": "latitude",
         "type": "\"double\""
        },
        {
         "metadata": "{}",
         "name": "longitude",
         "type": "\"double\""
        },
        {
         "metadata": "{}",
         "name": "Zipcode",
         "type": "\"double\""
        },
        {
         "metadata": "{}",
         "name": "Neighborhood",
         "type": "\"string\""
        }
       ],
       "type": "table"
      }
     },
     "output_type": "display_data"
    }
   ],
   "source": [
    "pdf = df.toPandas()\n",
    "display(pdf)"
   ]
  },
  {
   "cell_type": "code",
   "execution_count": 0,
   "metadata": {
    "application/vnd.databricks.v1+cell": {
     "cellMetadata": {
      "byteLimit": 2048000,
      "rowLimit": 10000
     },
     "inputWidgets": {},
     "nuid": "6237b14a-16c2-40bb-869c-8e1419c0e398",
     "showTitle": false,
     "title": ""
    }
   },
   "outputs": [
    {
     "output_type": "stream",
     "name": "stdout",
     "output_type": "stream",
     "text": [
      "type(k): <class 'str'>\ntype(v): <class 'concurrent.futures._base.Future'>\nNone\nfinally\n"
     ]
    }
   ],
   "source": [
    "from confluent_kafka import Consumer\n",
    "from time import sleep\n",
    "import uuid\n",
    "from confluent_kafka import Producer, Consumer, KafkaError, KafkaException\n",
    "from confluent_kafka.admin import AdminClient, NewTopic\n",
    "import json\n",
    "\n",
    "from confluent_kafka.admin import AdminClient\n",
    "#talk to kafka server we have class adminclient from kafka \n",
    "#creating an instance of that class and passing it a dictionary to configure itself\n",
    "#i need an instance of an admin client with these settings. build yourself so we can access and do things\n",
    "admin_client = AdminClient({\n",
    "    'bootstrap.servers': confluentBootstrapServers,\n",
    "    'sasl.mechanism': 'PLAIN',\n",
    "    'security.protocol': 'SASL_SSL',\n",
    "    'sasl.username': confluentApiKey,\n",
    "    'sasl.password': confluentSecret,\n",
    "    'group.id': str(uuid.uuid1()),  # this will create a new consumer group on each invocation.\n",
    "    'auto.offset.reset': 'earliest',\n",
    "    'error_cb': error_cb, #use the function we made to error handle\n",
    "})\n",
    "\n",
    "from confluent_kafka.admin import NewTopic\n",
    "\n",
    "#import newtopic class from kafka\n",
    "#create an empty list\n",
    "#add a new topic\n",
    "topic_list = []\n",
    "\n",
    "#this new topic is created, with topic name, number of partitions, and replication factor\n",
    "topic_list.append(NewTopic(confluentTopicName, 1, 3))\n",
    "# admin_client.create_topics(topic_list)\n",
    "futures = admin_client.create_topics(topic_list)#get a promise (this is async) so we have this async process that we might need to handle it with callback functions\n",
    "#futures resolves a create topic and returns a dictionary of features\n",
    "#environment in databricks will handle all the backend stuff for us to create topics\n",
    "#allows us to go through future, do this work, if something goes wrong, go print out error\n",
    "\n",
    "\n",
    "#responds back that they did the thing and just print out the result of it. \n",
    "#the result of this first work is None, and then finally to show we made it to finally.\n",
    "\n",
    "#if topic already exists you get an error here\n",
    "try:\n",
    "    record_metadata = []\n",
    "    for k, future in futures.items():\n",
    "        # f = i.get(timeout=10)\n",
    "        print(f\"type(k): {type(k)}\")\n",
    "        print(f\"type(v): {type(future)}\")\n",
    "        print(future.result())\n",
    "\n",
    "except KafkaError:\n",
    "    # Decide what to do if produce request failed...\n",
    "    print(traceback.format_exc())\n",
    "    result = 'Fail'\n",
    "finally:\n",
    "    print(\"finally\")"
   ]
  }
 ],
 "metadata": {
  "application/vnd.databricks.v1+notebook": {
   "dashboards": [],
   "language": "python",
   "notebookMetadata": {
    "pythonIndentUnit": 4
   },
   "notebookName": "Tourist",
   "widgets": {}
  }
 },
 "nbformat": 4,
 "nbformat_minor": 0
}
