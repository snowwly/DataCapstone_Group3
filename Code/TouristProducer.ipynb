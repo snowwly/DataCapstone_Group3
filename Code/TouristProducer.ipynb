{
 "cells": [
  {
   "cell_type": "code",
   "execution_count": 0,
   "metadata": {
    "application/vnd.databricks.v1+cell": {
     "cellMetadata": {
      "byteLimit": 2048000,
      "rowLimit": 10000
     },
     "inputWidgets": {},
     "nuid": "b88786e6-13f0-4a0a-8f31-5f2ba5e63a9b",
     "showTitle": false,
     "title": ""
    }
   },
   "outputs": [],
   "source": [
    "import pandas as pd\n",
    "# /Users/scho@dev-10.com/includes/Touristconfiguration\n",
    "\n",
    "df = spark.read.csv('/mnt/shirleycho-group3/Attractions_clean/tourist_attractions/*.csv',header=True,inferSchema=True)\n",
    "# display(df)\n",
    "pdf = df.toPandas()\n",
    "# display(pdf)\n",
    "from confluent_kafka import Consumer\n",
    "from time import sleep\n",
    "import uuid\n",
    "from confluent_kafka import Producer, Consumer, KafkaError, KafkaException\n",
    "from confluent_kafka.admin import AdminClient, NewTopic\n",
    "import json"
   ]
  },
  {
   "cell_type": "code",
   "execution_count": 0,
   "metadata": {
    "application/vnd.databricks.v1+cell": {
     "cellMetadata": {
      "byteLimit": 2048000,
      "rowLimit": 10000
     },
     "inputWidgets": {},
     "nuid": "68ae6f5e-7d42-44c8-85e2-e42ac851db01",
     "showTitle": false,
     "title": ""
    }
   },
   "outputs": [],
   "source": [
    "%run \"../includes/Touristconfiguration\""
   ]
  },
  {
   "cell_type": "code",
   "execution_count": 0,
   "metadata": {
    "application/vnd.databricks.v1+cell": {
     "cellMetadata": {
      "byteLimit": 2048000,
      "rowLimit": 10000
     },
     "inputWidgets": {},
     "nuid": "903fe703-75f1-4112-a205-287c5a5f91ff",
     "showTitle": false,
     "title": ""
    }
   },
   "outputs": [],
   "source": [
    "p = Producer({\n",
    "    'bootstrap.servers': confluentBootstrapServers,\n",
    "    'sasl.mechanism': 'PLAIN',\n",
    "    'security.protocol': 'SASL_SSL',\n",
    "    'sasl.username': confluentApiKey,\n",
    "    'sasl.password': confluentSecret,\n",
    "    'auto.offset.reset': 'earliest',\n",
    "    #\"enable.auto.commit\": \"false\", #added this\n",
    "    'error_cb': error_cb,\n",
    "})"
   ]
  },
  {
   "cell_type": "code",
   "execution_count": 0,
   "metadata": {
    "application/vnd.databricks.v1+cell": {
     "cellMetadata": {
      "byteLimit": 2048000,
      "rowLimit": 10000
     },
     "inputWidgets": {},
     "nuid": "1030e544-d6bd-4bdc-b375-80e448a6003e",
     "showTitle": false,
     "title": ""
    }
   },
   "outputs": [
    {
     "output_type": "stream",
     "name": "stdout",
     "output_type": "stream",
     "text": [
      "0\n{'Address': '14 E 60th St, Central Park Conservancy, New York City, NY 10022', 'Attraction': 'Central Park', 'Website': 'https://www.centralparknyc.org', 'latitude': 40.764321, 'longitude': -73.97182, 'Zipcode': 10022.0, 'Neighborhood': 'Manhattan'}\n1\n{'Address': '20 W 34th St, New York City, NY 10001', 'Attraction': 'Empire State Building', 'Website': 'https://www.esbnyc.com', 'latitude': 40.748745, 'longitude': -73.985709, 'Zipcode': 10001.0, 'Neighborhood': 'Manhattan'}\n2\n{'Address': 'Liberty Island, New York City, NY 10004', 'Attraction': 'Statue of Liberty', 'Website': 'https://www.nps.gov/stli/index.htm', 'latitude': 40.689555, 'longitude': -74.044949, 'Zipcode': 10004.0, 'Neighborhood': 'Manhattan'}\n3\n{'Address': 'Manhattan, NY 10036', 'Attraction': 'Times Square', 'Website': None, 'latitude': 40.760249, 'longitude': -73.99329, 'Zipcode': 10036.0, 'Neighborhood': 'Manhattan'}\n4\n{'Address': 'Theater District, New York City, NY 10019', 'Attraction': 'Broadway and the Theater District', 'Website': 'https://www.broadway.org/', 'latitude': 40.758984, 'longitude': -73.984473, 'Zipcode': 10019.0, 'Neighborhood': 'Manhattan'}\n5\n{'Address': '5th Ave, New York City, NY 10018', 'Attraction': 'Fifth Avenue', 'Website': 'https://www.flickr.com/photos/mariya_umama_wethemba_monastery', 'latitude': 40.751332, 'longitude': -73.982482, 'Zipcode': 10018.0, 'Neighborhood': 'Manhattan'}\n6\n{'Address': '45 Rockefeller Plaza, New York City, NY 10111', 'Attraction': 'Rockefeller Center and Top of the Rock Observation Deck', 'Website': 'https://www.rockefellercenter.com', 'latitude': 40.759126, 'longitude': -73.977693, 'Zipcode': 10111.0, 'Neighborhood': 'Manhattan'}\n7\n{'Address': '89 E 42nd St, New York City, NY 10017', 'Attraction': 'Grand Central Terminal', 'Website': 'https://www.grandcentralterminal.com', 'latitude': 40.752741, 'longitude': -73.977216, 'Zipcode': 10017.0, 'Neighborhood': 'Manhattan'}\n8\n{'Address': '1000 5th Ave, New York City, NY 10028', 'Attraction': 'The Metropolitan Museum of Art', 'Website': 'https://www.metmuseum.org', 'latitude': 40.779444, 'longitude': -73.963401, 'Zipcode': 10028.0, 'Neighborhood': 'Manhattan'}\n9\n{'Address': '180 Greenwich St, New York City, NY 10007', 'Attraction': 'National September 11 Memorial & Museum', 'Website': 'https://www.911memorial.org', 'latitude': 40.711506, 'longitude': -74.012484, 'Zipcode': 10007.0, 'Neighborhood': 'Manhattan'}\n10\n{'Address': '200 Central Park West, New York City, NY 10024', 'Attraction': 'American Museum of Natural History', 'Website': 'https://www.amnh.org/', 'latitude': 40.781292, 'longitude': -73.973839, 'Zipcode': 10024.0, 'Neighborhood': 'Manhattan'}\n11\n{'Address': '11 W 53rd St, New York City, NY 10019', 'Attraction': 'Museum of Modern Art', 'Website': 'https://www.moma.org/', 'latitude': 40.761332, 'longitude': -73.977382, 'Zipcode': 10019.0, 'Neighborhood': 'Manhattan'}\n12\n{'Address': '225 Madison Ave, New York City, NY 10016', 'Attraction': 'The Morgan Library & Museum', 'Website': 'https://www.themorgan.org/', 'latitude': 40.749184, 'longitude': -73.981544, 'Zipcode': 10016.0, 'Neighborhood': 'Manhattan'}\n13\n{'Address': '31 Centre St, New York City, NY, 10007', 'Attraction': 'City Hall Station', 'Website': None, 'latitude': 40.714077, 'longitude': -74.003046, 'Zipcode': 10007.0, 'Neighborhood': 'Manhattan'}\n14\n{'Address': '30 Lincoln Center Plaza, New York City, NY 10023', 'Attraction': 'Metropolitan Opera House', 'Website': None, 'latitude': 40.772779, 'longitude': -73.98387, 'Zipcode': 10023.0, 'Neighborhood': 'Manhattan'}\n15\n{'Address': '4 Cortlandt Alley, New York, NY 10013', 'Attraction': 'Mmuseumm', 'Website': 'https://www.mmuseumm.com/', 'latitude': 40.717498, 'longitude': -74.00271, 'Zipcode': 10013.0, 'Neighborhood': 'Manhattan'}\n16\n{'Address': 'Wall Street, New York City, NY 10005', 'Attraction': 'Wall Street', 'Website': None, 'latitude': 40.706426, 'longitude': -74.009476, 'Zipcode': 10005.0, 'Neighborhood': 'Manhattan'}\n17\n{'Address': '90 Kent Ave, Brooklyn, NY 11211', 'Attraction': 'Smorgasburg Williamsburg', 'Website': None, 'latitude': 40.721499, 'longitude': -73.96089, 'Zipcode': 11211.0, 'Neighborhood': 'Brooklyn'}\n18\n{'Address': '58 Warren St, New York, NY 10007', 'Attraction': 'Mysterious Bookshop', 'Website': None, 'latitude': 40.714946, 'longitude': -74.009227, 'Zipcode': 10007.0, 'Neighborhood': 'Manhattan'}\n19\n{'Address': '103 Orchard St, New York, NY 10002', 'Attraction': 'Tenement Museum', 'Website': 'https://www.tenement.org/', 'latitude': 40.718707, 'longitude': -73.990088, 'Zipcode': 10002.0, 'Neighborhood': 'Manhattan'}\n20\n{'Address': 'Pier 86, W 46th St, New York, NY 10036', 'Attraction': 'Intrepid Sea, Air & Space Museum', 'Website': 'https://www.intrepidmuseum.org/', 'latitude': 40.764608, 'longitude': -73.999096, 'Zipcode': 10036.0, 'Neighborhood': 'Manhattan'}\n21\n{'Address': '29 E 4th St, New York, NY 10003', 'Attraction': \"Merchant's House Museum\", 'Website': 'https://www.merchantshouse.org/', 'latitude': 40.727639, 'longitude': -73.992406, 'Zipcode': 10003.0, 'Neighborhood': 'Manhattan'}\n22\n{'Address': 'New York, NY 10004', 'Attraction': 'Battery Park', 'Website': None, 'latitude': 40.703848, 'longitude': -74.013834, 'Zipcode': 10004.0, 'Neighborhood': 'Manhattan'}\n23\n{'Address': '2 E 91st St, New York, NY 10128', 'Attraction': 'Cooper-Hewitt, Smithsonian Design Museum', 'Website': 'https://www.cooperhewitt.org/', 'latitude': 40.78428, 'longitude': -73.957813, 'Zipcode': 10128.0, 'Neighborhood': 'Manhattan'}\n24\n{'Address': 'E Rd, New York, NY 10044', 'Attraction': 'Roosevelt Island Smallpox Hospital Ruins', 'Website': None, 'latitude': 40.760637, 'longitude': -73.949493, 'Zipcode': 10044.0, 'Neighborhood': 'Manhattan'}\n25\n{'Address': 'Governor’s Island, Upper New York Bay, New York City', 'Attraction': 'Governors Island', 'Website': None, 'latitude': 40.689458, 'longitude': -74.016803, 'Zipcode': nan, 'Neighborhood': None}\n26\n{'Address': 'Union Square W &, E 17th St, New York City, NY 10003', 'Attraction': 'Union Square and Union Square Greenmarket', 'Website': None, 'latitude': 40.737138, 'longitude': -73.990376, 'Zipcode': 10003.0, 'Neighborhood': 'Manhattan'}\n27\n{'Address': '1071 5th Ave, New York, NY 10128', 'Attraction': 'Solomon R. Guggenheim Museum', 'Website': 'https://www.guggenheim.org/', 'latitude': 40.783187, 'longitude': -73.958789, 'Zipcode': 10128.0, 'Neighborhood': 'Manhattan'}\n28\n{'Address': 'Washington Square, New York City, NY 10012', 'Attraction': 'Washington Square Park', 'Website': None, 'latitude': 40.730862, 'longitude': -73.997323, 'Zipcode': 10012.0, 'Neighborhood': 'Manhattan'}\n29\n{'Address': '99 Gansevoort St, New York City, NY 10014', 'Attraction': 'Whitney Museum of American Art', 'Website': 'https://www.whitney.org/', 'latitude': 40.739508, 'longitude': -74.009146, 'Zipcode': 10014.0, 'Neighborhood': 'Manhattan'}\n30\n{'Address': '405 Lexington Ave, New York City, NY 10174', 'Attraction': 'Chrysler Building', 'Website': None, 'latitude': 40.751705, 'longitude': -73.975598, 'Zipcode': 10174.0, 'Neighborhood': 'Manhattan'}\n31\n{'Address': 'Ellis Island Bridge, Jersey City, NJ 10280', 'Attraction': 'Ellis Island National Museum of Immigration', 'Website': None, 'latitude': 40.701352, 'longitude': -74.04295, 'Zipcode': 10280.0, 'Neighborhood': 'Manhattan'}\n32\n{'Address': '45 E 42nd St, New York City, NY 10017', 'Attraction': 'Summit One Vanderbilt', 'Website': None, 'latitude': 40.752951, 'longitude': -73.976857, 'Zipcode': 10017.0, 'Neighborhood': 'Manhattan'}\n33\n{'Address': '99 Schermerhorn St, Brooklyn, NY 11201', 'Attraction': 'New York Transit Museum', 'Website': None, 'latitude': 40.690594, 'longitude': -73.990082, 'Zipcode': 11201.0, 'Neighborhood': 'Brooklyn'}\n34\n{'Address': 'Montague St &, Pierrepont Pl, Brooklyn, NY 11201', 'Attraction': 'Brooklyn Heights Promenade', 'Website': None, 'latitude': 40.695609, 'longitude': -73.997379, 'Zipcode': 11201.0, 'Neighborhood': 'Brooklyn'}\n35\n{'Address': '215 Centre St, New York City, NY 10013', 'Attraction': 'Museum of Chinese in America', 'Website': 'https://www.mocanyc.org/', 'latitude': 40.719478, 'longitude': -73.999195, 'Zipcode': 10013.0, 'Neighborhood': 'Manhattan'}\n36\n{'Address': '990 Washington Ave, Brooklyn, NY 11225', 'Attraction': 'Brooklyn Botanic Garden', 'Website': 'https://www.bbg.org/', 'latitude': 40.66949, 'longitude': -73.962386, 'Zipcode': 11225.0, 'Neighborhood': 'Brooklyn'}\n37\n{'Address': 'New York City, NY 10011', 'Attraction': 'The High Line', 'Website': 'https://www.thehighline.org/', 'latitude': 40.746514, 'longitude': -74.009467, 'Zipcode': 10011.0, 'Neighborhood': 'Manhattan'}\n38\n{'Address': '5th Ave, New York City, NY 10022', 'Attraction': \"St. Patrick's Cathedral\", 'Website': 'https://www.saintpatrickscathedral.org/', 'latitude': 40.7612, 'longitude': -73.975267, 'Zipcode': 10022.0, 'Neighborhood': 'Manhattan'}\n39\n{'Address': 'Brooklyn Bridge, New York City, NY 10038', 'Attraction': 'Brooklyn Bridge', 'Website': None, 'latitude': 40.706069, 'longitude': -73.99685, 'Zipcode': 10038.0, 'Neighborhood': 'Manhattan'}\n40\n{'Address': 'New York City, NY 10018', 'Attraction': 'Bryant Park', 'Website': None, 'latitude': 40.755342, 'longitude': -73.99329, 'Zipcode': 10018.0, 'Neighborhood': 'Manhattan'}\n41\n{'Address': '117 West St, New York City, NY 10006', 'Attraction': 'One World Observatory', 'Website': None, 'latitude': 40.712983, 'longitude': -74.013154, 'Zipcode': 10006.0, 'Neighborhood': 'Manhattan'}\n42\n{'Address': '1208 Surf Ave, Brooklyn, NY 11224', 'Attraction': 'Coney Island & Amusement Park', 'Website': None, 'latitude': 40.575309, 'longitude': -73.979902, 'Zipcode': 11224.0, 'Neighborhood': 'Brooklyn'}\n43\n{'Address': '2900 Southern Blvd, Bronx, NY 10458', 'Attraction': 'New York Botanical Garden', 'Website': 'https://www.nybg.org/', 'latitude': 40.865472, 'longitude': -73.881801, 'Zipcode': 10458.0, 'Neighborhood': 'Bronx'}\n44\n{'Address': '1260 6th Ave, New York City, NY 10020', 'Attraction': 'Radio City Music Hall', 'Website': None, 'latitude': 40.759972, 'longitude': -73.980055, 'Zipcode': 10020.0, 'Neighborhood': 'Manhattan'}\n45\n{'Address': '99 Margaret Corbin Dr, New York City, NY 10040', 'Attraction': 'The Met Cloisters', 'Website': None, 'latitude': 40.861879, 'longitude': -73.932954, 'Zipcode': 10040.0, 'Neighborhood': 'Manhattan'}\n46\n{'Address': None, 'Attraction': 'New York Public Library', 'Website': 'https://www.nypl.org/', 'latitude': nan, 'longitude': nan, 'Zipcode': nan, 'Neighborhood': None}\n47\n{'Address': '1 E 70th St, New York City, NY 10021', 'Attraction': 'Frick Collection', 'Website': 'https://www.frick.org/', 'latitude': 40.771366, 'longitude': -73.967244, 'Zipcode': 10021.0, 'Neighborhood': 'Manhattan'}\n48\n{'Address': 'Brooklyn, NY', 'Attraction': 'Prospect Park', 'Website': None, 'latitude': 40.678153, 'longitude': -73.94416, 'Zipcode': nan, 'Neighborhood': None}\n49\n{'Address': '2300 Southern Blvd, Bronx, NY 10460', 'Attraction': 'Bronx Zoo', 'Website': 'https://www.bronxzoo.com/', 'latitude': 40.850121, 'longitude': -73.882529, 'Zipcode': 10460.0, 'Neighborhood': 'Bronx'}\n"
     ]
    }
   ],
   "source": [
    "mylist = pdf.to_dict('records')\n",
    "# print(mylist)\n",
    "for n in range(len(mylist)):\n",
    "    print(n)\n",
    "    print(mylist[n])\n",
    "    record = mylist[n]\n",
    "    # # returns RDD - resilient distributed dataset\n",
    "    # location_rdd = single_location_df.toJSON()\n",
    "\n",
    "    p.produce(confluentTopicName, json.dumps(record))\n",
    "    p.flush\n",
    "    # sleep(3)\n",
    "    # if n >= 3:\n",
    "    #     break\n"
   ]
  }
 ],
 "metadata": {
  "application/vnd.databricks.v1+notebook": {
   "dashboards": [],
   "language": "python",
   "notebookMetadata": {
    "pythonIndentUnit": 4
   },
   "notebookName": "TouristProducer",
   "widgets": {}
  }
 },
 "nbformat": 4,
 "nbformat_minor": 0
}
