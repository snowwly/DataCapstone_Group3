{
 "cells": [
  {
   "cell_type": "code",
   "execution_count": 0,
   "metadata": {
    "application/vnd.databricks.v1+cell": {
     "cellMetadata": {
      "byteLimit": 2048000,
      "rowLimit": 10000
     },
     "inputWidgets": {},
     "nuid": "cc9c6a13-1004-457f-92c5-748390a909bf",
     "showTitle": false,
     "title": ""
    }
   },
   "outputs": [],
   "source": [
    "import requests\n",
    "from bs4 import BeautifulSoup\n",
    "\n",
    "def getSoup(url):\n",
    "    page = requests.get(url)\n",
    "    soup = BeautifulSoup(page.content, \"html.parser\")\n",
    "    return soup\n",
    "    \n",
    "URL = \"https://www.attractionsofamerica.com/attractions/new-york-city-top-10-attractions.php\"\n",
    "page = requests.get(URL)\n",
    "\n",
    "soup = BeautifulSoup(page.content, \"html.parser\")"
   ]
  },
  {
   "cell_type": "code",
   "execution_count": 0,
   "metadata": {
    "application/vnd.databricks.v1+cell": {
     "cellMetadata": {
      "byteLimit": 2048000,
      "rowLimit": 10000
     },
     "inputWidgets": {},
     "nuid": "628dfec8-9713-4d11-90a3-afebe4c261ec",
     "showTitle": false,
     "title": ""
    }
   },
   "outputs": [],
   "source": [
    "%run \"../includes/webscrapeapikey\""
   ]
  },
  {
   "cell_type": "code",
   "execution_count": 0,
   "metadata": {
    "application/vnd.databricks.v1+cell": {
     "cellMetadata": {
      "byteLimit": 2048000,
      "rowLimit": 10000
     },
     "inputWidgets": {},
     "nuid": "0a5225ca-35f6-4ba9-b9ec-5e76ae4534b0",
     "showTitle": false,
     "title": ""
    }
   },
   "outputs": [
    {
     "output_type": "stream",
     "name": "stdout",
     "output_type": "stream",
     "text": [
      "<h2 id=\"1041\">1: Central Park</h2>\n['1', 'Central Park']\n14 E 60th St, Central Park Conservancy, New York City, NY 10022\nhttps://www.centralparknyc.org\n<h2 id=\"1042\">2: Empire State Building</h2>\n['2', 'Empire State Building']\n20 W 34th St, New York City, NY 10001\nhttps://www.esbnyc.com\n<h2 id=\"1043\">3: Statue of Liberty</h2>\n['3', 'Statue of Liberty']\nLiberty Island, New York City, NY 10004\nhttps://www.nps.gov/stli/index.htm\n<h2 id=\"1044\">4: Times Square</h2>\n['4', 'Times Square']\nManhattan, NY 10036\n<h2 id=\"1045\">5: Broadway and the Theater District</h2>\n['5', 'Broadway and the Theater District']\nTheater District, New York City, NY 10019\nhttps://www.broadway.org/\n<h2 id=\"1046\">6: Fifth Avenue</h2>\n['6', 'Fifth Avenue']\n5th Ave, New York City, NY 10018\nhttps://www.flickr.com/photos/mariya_umama_wethemba_monastery\n<h2 id=\"1047\">7: Rockefeller Center and Top of the Rock Observation Deck</h2>\n['7', 'Rockefeller Center and Top of the Rock Observation Deck']\n45 Rockefeller Plaza, New York City, NY 10111\nhttps://www.rockefellercenter.com\n<h2 id=\"1048\">8: Grand Central Terminal</h2>\n['8', 'Grand Central Terminal']\n89 E 42nd St, New York City, NY 10017\nhttps://www.grandcentralterminal.com\n<h2 id=\"1049\">9: The Metropolitan Museum of Art</h2>\n['9', 'The Metropolitan Museum of Art']\n1000 5th Ave, New York City, NY 10028\nhttps://www.metmuseum.org\n<h2 id=\"1050\">10: National September 11 Memorial &amp; Museum</h2>\n['10', 'National September 11 Memorial & Museum']\n180 Greenwich St, New York City, NY 10007\nhttps://www.911memorial.org\n<h2 id=\"6639\">11: American Museum of Natural History</h2>\n['11', 'American Museum of Natural History']\n200 Central Park West, New York City, NY 10024\nhttps://www.amnh.org/\n<h2 id=\"6640\">12: Museum of Modern Art</h2>\n['12', 'Museum of Modern Art']\n11 W 53rd St, New York City, NY 10019\nhttps://www.moma.org/\n<h2 id=\"6641\">13: The High Line</h2>\n['13', 'The High Line']\nNew York City, NY 10011\nhttps://www.thehighline.org/\n<h2 id=\"6642\">14: St. Patrick's Cathedral</h2>\n['14', \"St. Patrick's Cathedral\"]\n5th Ave, New York City, NY 10022\nhttps://www.saintpatrickscathedral.org/\n<h2 id=\"6643\">15: Brooklyn Bridge</h2>\n['15', 'Brooklyn Bridge']\nBrooklyn Bridge, New York City, NY 10038\n<h2 id=\"6644\">16: Bryant Park</h2>\n['16', 'Bryant Park']\nNew York City, NY 10018\n<h2 id=\"6645\">17: One World Observatory</h2>\n['17', 'One World Observatory']\n117 West St, New York City, NY 10006\n<h2 id=\"6646\">18: Coney Island &amp; Amusement Park</h2>\n['18', 'Coney Island & Amusement Park']\n1208 Surf Ave, Brooklyn, NY 11224\n<h2 id=\"6647\">19: New York Botanical Garden</h2>\n['19', 'New York Botanical Garden']\n2900 Southern Blvd, Bronx, NY 10458\nhttps://www.nybg.org/\n<h2 id=\"6648\">20: Radio City Music Hall</h2>\n['20', 'Radio City Music Hall']\n1260 6th Ave, New York City, NY 10020\n<h2 id=\"6649\">21: The Met Cloisters</h2>\n['21', 'The Met Cloisters']\n99 Margaret Corbin Dr, New York City, NY 10040\n<h2 id=\"6650\">22: New York Public Library</h2>\n['22', 'New York Public Library']\nhi----------------------------\nhttps://www.nypl.org/\n<h2 id=\"6651\">23: Frick Collection</h2>\n['23', 'Frick Collection']\n1 E 70th St, New York City, NY 10021\nhttps://www.frick.org/\n<h2 id=\"6652\">24: Prospect Park</h2>\n['24', 'Prospect Park']\nBrooklyn, NY\n<h2 id=\"6653\">25: Bronx Zoo</h2>\n['25', 'Bronx Zoo']\n2300 Southern Blvd, Bronx, NY 10460\nhttps://www.bronxzoo.com/\n<h2 id=\"6654\">26: Governors Island</h2>\n['26', 'Governors Island']\nGovernor’s Island, Upper New York Bay, New York City\n<h2 id=\"6655\">27: Union Square and Union Square Greenmarket</h2>\n['27', 'Union Square and Union Square Greenmarket']\nUnion Square W &, E 17th St, New York City, NY 10003\n<h2 id=\"6656\">28: Solomon R. Guggenheim Museum</h2>\n['28', 'Solomon R. Guggenheim Museum']\n1071 5th Ave, New York, NY 10128\nhttps://www.guggenheim.org/\n<h2 id=\"6657\">29: Washington Square Park</h2>\n['29', 'Washington Square Park']\nWashington Square, New York City, NY 10012\n<h2 id=\"6658\">30: Whitney Museum of American Art</h2>\n['30', 'Whitney Museum of American Art']\n99 Gansevoort St, New York City, NY 10014\nhttps://www.whitney.org/\n<h2 id=\"6659\">31: Chrysler Building</h2>\n['31', 'Chrysler Building']\n405 Lexington Ave, New York City, NY 10174\n<h2 id=\"6660\">32: Ellis Island National Museum of Immigration</h2>\n['32', 'Ellis Island National Museum of Immigration']\nEllis Island Bridge, Jersey City, NJ 10280\n<h2 id=\"6661\">33: Summit One Vanderbilt</h2>\n['33', 'Summit One Vanderbilt']\n45 E 42nd St, New York City, NY 10017\n<h2 id=\"6662\">34: New York Transit Museum</h2>\n['34', 'New York Transit Museum']\n99 Schermerhorn St, Brooklyn, NY 11201\n<h2 id=\"6663\">35: Brooklyn Heights Promenade</h2>\n['35', 'Brooklyn Heights Promenade']\nMontague St &, Pierrepont Pl, Brooklyn, NY 11201\n<h2 id=\"6664\">36: Museum of Chinese in America</h2>\n['36', 'Museum of Chinese in America']\n215 Centre St, New York City, NY 10013\nhttps://www.mocanyc.org/\n<h2 id=\"6665\">37: Brooklyn Botanic Garden</h2>\n['37', 'Brooklyn Botanic Garden']\n990 Washington Ave, Brooklyn, NY 11225\nhttps://www.bbg.org/\n<h2 id=\"6666\">38: The Morgan Library &amp; Museum</h2>\n['38', 'The Morgan Library & Museum']\n225 Madison Ave, New York City, NY 10016\nhttps://www.themorgan.org/\n<h2 id=\"6667\">39: City Hall Station</h2>\n['39', 'City Hall Station']\n31 Centre St, New York City, NY, 10007\n<h2 id=\"6668\">40: Metropolitan Opera House</h2>\n['40', 'Metropolitan Opera House']\n30 Lincoln Center Plaza, New York City, NY 10023\n<h2 id=\"6669\">41: Mmuseumm</h2>\n['41', 'Mmuseumm']\n4 Cortlandt Alley, New York, NY 10013\nhttps://www.mmuseumm.com/\n<h2 id=\"6670\">42: Wall Street</h2>\n['42', 'Wall Street']\nWall Street, New York City, NY 10005\n<h2 id=\"6671\">43: Smorgasburg Williamsburg</h2>\n['43', 'Smorgasburg Williamsburg']\n90 Kent Ave, Brooklyn, NY 11211\n<h2 id=\"6672\">44: Mysterious Bookshop</h2>\n['44', 'Mysterious Bookshop']\n58 Warren St, New York, NY 10007\n<h2 id=\"6673\">45: Tenement Museum</h2>\n['45', 'Tenement Museum']\n103 Orchard St, New York, NY 10002\nhttps://www.tenement.org/\n<h2 id=\"6674\">46: Intrepid Sea, Air &amp; Space Museum</h2>\n['46', 'Intrepid Sea, Air & Space Museum']\nPier 86, W 46th St, New York, NY 10036\nhttps://www.intrepidmuseum.org/\n<h2 id=\"6675\">47: Merchant's House Museum</h2>\n['47', \"Merchant's House Museum\"]\n29 E 4th St, New York, NY 10003\nhttps://www.merchantshouse.org/\n<h2 id=\"6676\">48: Battery Park</h2>\n['48', 'Battery Park']\nNew York, NY 10004\n<h2 id=\"6677\">49: Cooper-Hewitt, Smithsonian Design Museum</h2>\n['49', 'Cooper-Hewitt, Smithsonian Design Museum']\n2 E 91st St, New York, NY 10128\nhttps://www.cooperhewitt.org/\n<h2 id=\"6678\">50: Roosevelt Island Smallpox Hospital Ruins</h2>\n['50', 'Roosevelt Island Smallpox Hospital Ruins']\nE Rd, New York, NY 10044\n"
     ]
    }
   ],
   "source": [
    "results = soup.find_all(\"div\",class_='box_style_1')\n",
    "locs = []\n",
    "for r in results[1:51]:\n",
    "    # print(r)\n",
    "    h2 = r.find('h2')\n",
    "    print(h2)\n",
    "    p = r.find('p',class_=\"pl10 pr10 inner-titles-post\")\n",
    "    a = r.find('a',target=\"_blank\")\n",
    "    # print(a)\n",
    "    # for h2s,ps,aa in zip(h2,p,a):\n",
    "    loc = {}\n",
    "    if h2 is not None:\n",
    "        print(h2.get_text().split(\": \"))\n",
    "        loc['Attraction'] = h2.get_text().split(\": \")[1]\n",
    "    if p.get_text().strip() != '':\n",
    "        print(p.get_text().split(\": \")[1])\n",
    "        loc['Address'] = p.get_text().split(\": \")[1]\n",
    "        # print(p[0])\n",
    "    else:\n",
    "        loc['Address'] = None\n",
    "        print(\"hi----------------------------\")\n",
    "    if a is not None:\n",
    "        if a.get('href') == None:\n",
    "            print(\"what------------------\")\n",
    "            loc['Website'] = None\n",
    "        else:\n",
    "            print(a['href'])\n",
    "            loc['Website'] = a['href']\n",
    "    locs.append(loc)"
   ]
  },
  {
   "cell_type": "code",
   "execution_count": 0,
   "metadata": {
    "application/vnd.databricks.v1+cell": {
     "cellMetadata": {
      "byteLimit": 2048000,
      "rowLimit": 10000
     },
     "inputWidgets": {},
     "nuid": "719a98ce-833b-4664-a3ee-2348b3cdb0cc",
     "showTitle": false,
     "title": ""
    }
   },
   "outputs": [
    {
     "output_type": "stream",
     "name": "stdout",
     "output_type": "stream",
     "text": [
      "Attraction\nCentral Park\nAddress\n14 E 60th St, Central Park Conservancy, New York City, NY 10022\nWebsite\nhttps://www.centralparknyc.org\nAttraction\nEmpire State Building\nAddress\n20 W 34th St, New York City, NY 10001\nWebsite\nhttps://www.esbnyc.com\nAttraction\nStatue of Liberty\nAddress\nLiberty Island, New York City, NY 10004\nWebsite\nhttps://www.nps.gov/stli/index.htm\nAttraction\nTimes Square\nAddress\nManhattan, NY 10036\nAttraction\nBroadway and the Theater District\nAddress\nTheater District, New York City, NY 10019\nWebsite\nhttps://www.broadway.org/\nAttraction\nFifth Avenue\nAddress\n5th Ave, New York City, NY 10018\nWebsite\nhttps://www.flickr.com/photos/mariya_umama_wethemba_monastery\nAttraction\nRockefeller Center and Top of the Rock Observation Deck\nAddress\n45 Rockefeller Plaza, New York City, NY 10111\nWebsite\nhttps://www.rockefellercenter.com\nAttraction\nGrand Central Terminal\nAddress\n89 E 42nd St, New York City, NY 10017\nWebsite\nhttps://www.grandcentralterminal.com\nAttraction\nThe Metropolitan Museum of Art\nAddress\n1000 5th Ave, New York City, NY 10028\nWebsite\nhttps://www.metmuseum.org\nAttraction\nNational September 11 Memorial & Museum\nAddress\n180 Greenwich St, New York City, NY 10007\nWebsite\nhttps://www.911memorial.org\nAttraction\nAmerican Museum of Natural History\nAddress\n200 Central Park West, New York City, NY 10024\nWebsite\nhttps://www.amnh.org/\nAttraction\nMuseum of Modern Art\nAddress\n11 W 53rd St, New York City, NY 10019\nWebsite\nhttps://www.moma.org/\nAttraction\nThe High Line\nAddress\nNew York City, NY 10011\nWebsite\nhttps://www.thehighline.org/\nAttraction\nSt. Patrick's Cathedral\nAddress\n5th Ave, New York City, NY 10022\nWebsite\nhttps://www.saintpatrickscathedral.org/\nAttraction\nBrooklyn Bridge\nAddress\nBrooklyn Bridge, New York City, NY 10038\nAttraction\nBryant Park\nAddress\nNew York City, NY 10018\nAttraction\nOne World Observatory\nAddress\n117 West St, New York City, NY 10006\nAttraction\nConey Island & Amusement Park\nAddress\n1208 Surf Ave, Brooklyn, NY 11224\nAttraction\nNew York Botanical Garden\nAddress\n2900 Southern Blvd, Bronx, NY 10458\nWebsite\nhttps://www.nybg.org/\nAttraction\nRadio City Music Hall\nAddress\n1260 6th Ave, New York City, NY 10020\nAttraction\nThe Met Cloisters\nAddress\n99 Margaret Corbin Dr, New York City, NY 10040\nAttraction\nNew York Public Library\nAddress\nNone\nWebsite\nhttps://www.nypl.org/\nAttraction\nFrick Collection\nAddress\n1 E 70th St, New York City, NY 10021\nWebsite\nhttps://www.frick.org/\nAttraction\nProspect Park\nAddress\nBrooklyn, NY\nAttraction\nBronx Zoo\nAddress\n2300 Southern Blvd, Bronx, NY 10460\nWebsite\nhttps://www.bronxzoo.com/\nAttraction\nGovernors Island\nAddress\nGovernor’s Island, Upper New York Bay, New York City\nAttraction\nUnion Square and Union Square Greenmarket\nAddress\nUnion Square W &, E 17th St, New York City, NY 10003\nAttraction\nSolomon R. Guggenheim Museum\nAddress\n1071 5th Ave, New York, NY 10128\nWebsite\nhttps://www.guggenheim.org/\nAttraction\nWashington Square Park\nAddress\nWashington Square, New York City, NY 10012\nAttraction\nWhitney Museum of American Art\nAddress\n99 Gansevoort St, New York City, NY 10014\nWebsite\nhttps://www.whitney.org/\nAttraction\nChrysler Building\nAddress\n405 Lexington Ave, New York City, NY 10174\nAttraction\nEllis Island National Museum of Immigration\nAddress\nEllis Island Bridge, Jersey City, NJ 10280\nAttraction\nSummit One Vanderbilt\nAddress\n45 E 42nd St, New York City, NY 10017\nAttraction\nNew York Transit Museum\nAddress\n99 Schermerhorn St, Brooklyn, NY 11201\nAttraction\nBrooklyn Heights Promenade\nAddress\nMontague St &, Pierrepont Pl, Brooklyn, NY 11201\nAttraction\nMuseum of Chinese in America\nAddress\n215 Centre St, New York City, NY 10013\nWebsite\nhttps://www.mocanyc.org/\nAttraction\nBrooklyn Botanic Garden\nAddress\n990 Washington Ave, Brooklyn, NY 11225\nWebsite\nhttps://www.bbg.org/\nAttraction\nThe Morgan Library & Museum\nAddress\n225 Madison Ave, New York City, NY 10016\nWebsite\nhttps://www.themorgan.org/\nAttraction\nCity Hall Station\nAddress\n31 Centre St, New York City, NY, 10007\nAttraction\nMetropolitan Opera House\nAddress\n30 Lincoln Center Plaza, New York City, NY 10023\nAttraction\nMmuseumm\nAddress\n4 Cortlandt Alley, New York, NY 10013\nWebsite\nhttps://www.mmuseumm.com/\nAttraction\nWall Street\nAddress\nWall Street, New York City, NY 10005\nAttraction\nSmorgasburg Williamsburg\nAddress\n90 Kent Ave, Brooklyn, NY 11211\nAttraction\nMysterious Bookshop\nAddress\n58 Warren St, New York, NY 10007\nAttraction\nTenement Museum\nAddress\n103 Orchard St, New York, NY 10002\nWebsite\nhttps://www.tenement.org/\nAttraction\nIntrepid Sea, Air & Space Museum\nAddress\nPier 86, W 46th St, New York, NY 10036\nWebsite\nhttps://www.intrepidmuseum.org/\nAttraction\nMerchant's House Museum\nAddress\n29 E 4th St, New York, NY 10003\nWebsite\nhttps://www.merchantshouse.org/\nAttraction\nBattery Park\nAddress\nNew York, NY 10004\nAttraction\nCooper-Hewitt, Smithsonian Design Museum\nAddress\n2 E 91st St, New York, NY 10128\nWebsite\nhttps://www.cooperhewitt.org/\nAttraction\nRoosevelt Island Smallpox Hospital Ruins\nAddress\nE Rd, New York, NY 10044\n"
     ]
    },
    {
     "output_type": "display_data",
     "data": {
      "text/html": [
       "<style scoped>\n",
       "  .table-result-container {\n",
       "    max-height: 300px;\n",
       "    overflow: auto;\n",
       "  }\n",
       "  table, th, td {\n",
       "    border: 1px solid black;\n",
       "    border-collapse: collapse;\n",
       "  }\n",
       "  th, td {\n",
       "    padding: 5px;\n",
       "  }\n",
       "  th {\n",
       "    text-align: left;\n",
       "  }\n",
       "</style><div class='table-result-container'><table class='table-result'><thead style='background-color: white'><tr><th>Attraction</th><th>Address</th><th>Website</th></tr></thead><tbody><tr><td>Central Park</td><td>14 E 60th St, Central Park Conservancy, New York City, NY 10022</td><td>https://www.centralparknyc.org</td></tr><tr><td>Empire State Building</td><td>20 W 34th St, New York City, NY 10001</td><td>https://www.esbnyc.com</td></tr><tr><td>Statue of Liberty</td><td>Liberty Island, New York City, NY 10004</td><td>https://www.nps.gov/stli/index.htm</td></tr><tr><td>Times Square</td><td>Manhattan, NY 10036</td><td>null</td></tr><tr><td>Broadway and the Theater District</td><td>Theater District, New York City, NY 10019</td><td>https://www.broadway.org/</td></tr><tr><td>Fifth Avenue</td><td>5th Ave, New York City, NY 10018</td><td>https://www.flickr.com/photos/mariya_umama_wethemba_monastery</td></tr><tr><td>Rockefeller Center and Top of the Rock Observation Deck</td><td>45 Rockefeller Plaza, New York City, NY 10111</td><td>https://www.rockefellercenter.com</td></tr><tr><td>Grand Central Terminal</td><td>89 E 42nd St, New York City, NY 10017</td><td>https://www.grandcentralterminal.com</td></tr><tr><td>The Metropolitan Museum of Art</td><td>1000 5th Ave, New York City, NY 10028</td><td>https://www.metmuseum.org</td></tr><tr><td>National September 11 Memorial & Museum</td><td>180 Greenwich St, New York City, NY 10007</td><td>https://www.911memorial.org</td></tr><tr><td>American Museum of Natural History</td><td>200 Central Park West, New York City, NY 10024</td><td>https://www.amnh.org/</td></tr><tr><td>Museum of Modern Art</td><td>11 W 53rd St, New York City, NY 10019</td><td>https://www.moma.org/</td></tr><tr><td>The High Line</td><td>New York City, NY 10011</td><td>https://www.thehighline.org/</td></tr><tr><td>St. Patrick's Cathedral</td><td>5th Ave, New York City, NY 10022</td><td>https://www.saintpatrickscathedral.org/</td></tr><tr><td>Brooklyn Bridge</td><td>Brooklyn Bridge, New York City, NY 10038</td><td>null</td></tr><tr><td>Bryant Park</td><td>New York City, NY 10018</td><td>null</td></tr><tr><td>One World Observatory</td><td>117 West St, New York City, NY 10006</td><td>null</td></tr><tr><td>Coney Island & Amusement Park</td><td>1208 Surf Ave, Brooklyn, NY 11224</td><td>null</td></tr><tr><td>New York Botanical Garden</td><td>2900 Southern Blvd, Bronx, NY 10458</td><td>https://www.nybg.org/</td></tr><tr><td>Radio City Music Hall</td><td>1260 6th Ave, New York City, NY 10020</td><td>null</td></tr><tr><td>The Met Cloisters</td><td>99 Margaret Corbin Dr, New York City, NY 10040</td><td>null</td></tr><tr><td>New York Public Library</td><td>null</td><td>https://www.nypl.org/</td></tr><tr><td>Frick Collection</td><td>1 E 70th St, New York City, NY 10021</td><td>https://www.frick.org/</td></tr><tr><td>Prospect Park</td><td>Brooklyn, NY</td><td>null</td></tr><tr><td>Bronx Zoo</td><td>2300 Southern Blvd, Bronx, NY 10460</td><td>https://www.bronxzoo.com/</td></tr><tr><td>Governors Island</td><td>Governor’s Island, Upper New York Bay, New York City</td><td>null</td></tr><tr><td>Union Square and Union Square Greenmarket</td><td>Union Square W &, E 17th St, New York City, NY 10003</td><td>null</td></tr><tr><td>Solomon R. Guggenheim Museum</td><td>1071 5th Ave, New York, NY 10128</td><td>https://www.guggenheim.org/</td></tr><tr><td>Washington Square Park</td><td>Washington Square, New York City, NY 10012</td><td>null</td></tr><tr><td>Whitney Museum of American Art</td><td>99 Gansevoort St, New York City, NY 10014</td><td>https://www.whitney.org/</td></tr><tr><td>Chrysler Building</td><td>405 Lexington Ave, New York City, NY 10174</td><td>null</td></tr><tr><td>Ellis Island National Museum of Immigration</td><td>Ellis Island Bridge, Jersey City, NJ 10280</td><td>null</td></tr><tr><td>Summit One Vanderbilt</td><td>45 E 42nd St, New York City, NY 10017</td><td>null</td></tr><tr><td>New York Transit Museum</td><td>99 Schermerhorn St, Brooklyn, NY 11201</td><td>null</td></tr><tr><td>Brooklyn Heights Promenade</td><td>Montague St &, Pierrepont Pl, Brooklyn, NY 11201</td><td>null</td></tr><tr><td>Museum of Chinese in America</td><td>215 Centre St, New York City, NY 10013</td><td>https://www.mocanyc.org/</td></tr><tr><td>Brooklyn Botanic Garden</td><td>990 Washington Ave, Brooklyn, NY 11225</td><td>https://www.bbg.org/</td></tr><tr><td>The Morgan Library & Museum</td><td>225 Madison Ave, New York City, NY 10016</td><td>https://www.themorgan.org/</td></tr><tr><td>City Hall Station</td><td>31 Centre St, New York City, NY, 10007</td><td>null</td></tr><tr><td>Metropolitan Opera House</td><td>30 Lincoln Center Plaza, New York City, NY 10023</td><td>null</td></tr><tr><td>Mmuseumm</td><td>4 Cortlandt Alley, New York, NY 10013</td><td>https://www.mmuseumm.com/</td></tr><tr><td>Wall Street</td><td>Wall Street, New York City, NY 10005</td><td>null</td></tr><tr><td>Smorgasburg Williamsburg</td><td>90 Kent Ave, Brooklyn, NY 11211</td><td>null</td></tr><tr><td>Mysterious Bookshop</td><td>58 Warren St, New York, NY 10007</td><td>null</td></tr><tr><td>Tenement Museum</td><td>103 Orchard St, New York, NY 10002</td><td>https://www.tenement.org/</td></tr><tr><td>Intrepid Sea, Air & Space Museum</td><td>Pier 86, W 46th St, New York, NY 10036</td><td>https://www.intrepidmuseum.org/</td></tr><tr><td>Merchant's House Museum</td><td>29 E 4th St, New York, NY 10003</td><td>https://www.merchantshouse.org/</td></tr><tr><td>Battery Park</td><td>New York, NY 10004</td><td>null</td></tr><tr><td>Cooper-Hewitt, Smithsonian Design Museum</td><td>2 E 91st St, New York, NY 10128</td><td>https://www.cooperhewitt.org/</td></tr><tr><td>Roosevelt Island Smallpox Hospital Ruins</td><td>E Rd, New York, NY 10044</td><td>null</td></tr></tbody></table></div>"
      ]
     },
     "metadata": {
      "application/vnd.databricks.v1+output": {
       "addedWidgets": {},
       "aggData": [],
       "aggError": "",
       "aggOverflow": false,
       "aggSchema": [],
       "aggSeriesLimitReached": false,
       "aggType": "",
       "arguments": {},
       "columnCustomDisplayInfos": {},
       "data": [
        [
         "Central Park",
         "14 E 60th St, Central Park Conservancy, New York City, NY 10022",
         "https://www.centralparknyc.org"
        ],
        [
         "Empire State Building",
         "20 W 34th St, New York City, NY 10001",
         "https://www.esbnyc.com"
        ],
        [
         "Statue of Liberty",
         "Liberty Island, New York City, NY 10004",
         "https://www.nps.gov/stli/index.htm"
        ],
        [
         "Times Square",
         "Manhattan, NY 10036",
         null
        ],
        [
         "Broadway and the Theater District",
         "Theater District, New York City, NY 10019",
         "https://www.broadway.org/"
        ],
        [
         "Fifth Avenue",
         "5th Ave, New York City, NY 10018",
         "https://www.flickr.com/photos/mariya_umama_wethemba_monastery"
        ],
        [
         "Rockefeller Center and Top of the Rock Observation Deck",
         "45 Rockefeller Plaza, New York City, NY 10111",
         "https://www.rockefellercenter.com"
        ],
        [
         "Grand Central Terminal",
         "89 E 42nd St, New York City, NY 10017",
         "https://www.grandcentralterminal.com"
        ],
        [
         "The Metropolitan Museum of Art",
         "1000 5th Ave, New York City, NY 10028",
         "https://www.metmuseum.org"
        ],
        [
         "National September 11 Memorial & Museum",
         "180 Greenwich St, New York City, NY 10007",
         "https://www.911memorial.org"
        ],
        [
         "American Museum of Natural History",
         "200 Central Park West, New York City, NY 10024",
         "https://www.amnh.org/"
        ],
        [
         "Museum of Modern Art",
         "11 W 53rd St, New York City, NY 10019",
         "https://www.moma.org/"
        ],
        [
         "The High Line",
         "New York City, NY 10011",
         "https://www.thehighline.org/"
        ],
        [
         "St. Patrick's Cathedral",
         "5th Ave, New York City, NY 10022",
         "https://www.saintpatrickscathedral.org/"
        ],
        [
         "Brooklyn Bridge",
         "Brooklyn Bridge, New York City, NY 10038",
         null
        ],
        [
         "Bryant Park",
         "New York City, NY 10018",
         null
        ],
        [
         "One World Observatory",
         "117 West St, New York City, NY 10006",
         null
        ],
        [
         "Coney Island & Amusement Park",
         "1208 Surf Ave, Brooklyn, NY 11224",
         null
        ],
        [
         "New York Botanical Garden",
         "2900 Southern Blvd, Bronx, NY 10458",
         "https://www.nybg.org/"
        ],
        [
         "Radio City Music Hall",
         "1260 6th Ave, New York City, NY 10020",
         null
        ],
        [
         "The Met Cloisters",
         "99 Margaret Corbin Dr, New York City, NY 10040",
         null
        ],
        [
         "New York Public Library",
         null,
         "https://www.nypl.org/"
        ],
        [
         "Frick Collection",
         "1 E 70th St, New York City, NY 10021",
         "https://www.frick.org/"
        ],
        [
         "Prospect Park",
         "Brooklyn, NY",
         null
        ],
        [
         "Bronx Zoo",
         "2300 Southern Blvd, Bronx, NY 10460",
         "https://www.bronxzoo.com/"
        ],
        [
         "Governors Island",
         "Governor’s Island, Upper New York Bay, New York City",
         null
        ],
        [
         "Union Square and Union Square Greenmarket",
         "Union Square W &, E 17th St, New York City, NY 10003",
         null
        ],
        [
         "Solomon R. Guggenheim Museum",
         "1071 5th Ave, New York, NY 10128",
         "https://www.guggenheim.org/"
        ],
        [
         "Washington Square Park",
         "Washington Square, New York City, NY 10012",
         null
        ],
        [
         "Whitney Museum of American Art",
         "99 Gansevoort St, New York City, NY 10014",
         "https://www.whitney.org/"
        ],
        [
         "Chrysler Building",
         "405 Lexington Ave, New York City, NY 10174",
         null
        ],
        [
         "Ellis Island National Museum of Immigration",
         "Ellis Island Bridge, Jersey City, NJ 10280",
         null
        ],
        [
         "Summit One Vanderbilt",
         "45 E 42nd St, New York City, NY 10017",
         null
        ],
        [
         "New York Transit Museum",
         "99 Schermerhorn St, Brooklyn, NY 11201",
         null
        ],
        [
         "Brooklyn Heights Promenade",
         "Montague St &, Pierrepont Pl, Brooklyn, NY 11201",
         null
        ],
        [
         "Museum of Chinese in America",
         "215 Centre St, New York City, NY 10013",
         "https://www.mocanyc.org/"
        ],
        [
         "Brooklyn Botanic Garden",
         "990 Washington Ave, Brooklyn, NY 11225",
         "https://www.bbg.org/"
        ],
        [
         "The Morgan Library & Museum",
         "225 Madison Ave, New York City, NY 10016",
         "https://www.themorgan.org/"
        ],
        [
         "City Hall Station",
         "31 Centre St, New York City, NY, 10007",
         null
        ],
        [
         "Metropolitan Opera House",
         "30 Lincoln Center Plaza, New York City, NY 10023",
         null
        ],
        [
         "Mmuseumm",
         "4 Cortlandt Alley, New York, NY 10013",
         "https://www.mmuseumm.com/"
        ],
        [
         "Wall Street",
         "Wall Street, New York City, NY 10005",
         null
        ],
        [
         "Smorgasburg Williamsburg",
         "90 Kent Ave, Brooklyn, NY 11211",
         null
        ],
        [
         "Mysterious Bookshop",
         "58 Warren St, New York, NY 10007",
         null
        ],
        [
         "Tenement Museum",
         "103 Orchard St, New York, NY 10002",
         "https://www.tenement.org/"
        ],
        [
         "Intrepid Sea, Air & Space Museum",
         "Pier 86, W 46th St, New York, NY 10036",
         "https://www.intrepidmuseum.org/"
        ],
        [
         "Merchant's House Museum",
         "29 E 4th St, New York, NY 10003",
         "https://www.merchantshouse.org/"
        ],
        [
         "Battery Park",
         "New York, NY 10004",
         null
        ],
        [
         "Cooper-Hewitt, Smithsonian Design Museum",
         "2 E 91st St, New York, NY 10128",
         "https://www.cooperhewitt.org/"
        ],
        [
         "Roosevelt Island Smallpox Hospital Ruins",
         "E Rd, New York, NY 10044",
         null
        ]
       ],
       "datasetInfos": [],
       "dbfsResultPath": null,
       "isJsonSchema": true,
       "metadata": {},
       "overflow": false,
       "plotOptions": {
        "customPlotOptions": {},
        "displayType": "table",
        "pivotAggregation": null,
        "pivotColumns": null,
        "xColumns": null,
        "yColumns": null
       },
       "removedWidgets": [],
       "schema": [
        {
         "metadata": "{}",
         "name": "Attraction",
         "type": "\"string\""
        },
        {
         "metadata": "{}",
         "name": "Address",
         "type": "\"string\""
        },
        {
         "metadata": "{}",
         "name": "Website",
         "type": "\"string\""
        }
       ],
       "type": "table"
      }
     },
     "output_type": "display_data"
    },
    {
     "output_type": "display_data",
     "data": {
      "text/html": [
       "<style scoped>\n",
       "  .table-result-container {\n",
       "    max-height: 300px;\n",
       "    overflow: auto;\n",
       "  }\n",
       "  table, th, td {\n",
       "    border: 1px solid black;\n",
       "    border-collapse: collapse;\n",
       "  }\n",
       "  th, td {\n",
       "    padding: 5px;\n",
       "  }\n",
       "  th {\n",
       "    text-align: left;\n",
       "  }\n",
       "</style><div class='table-result-container'><table class='table-result'><thead style='background-color: white'><tr><th>Attraction</th><th>Address</th><th>Website</th></tr></thead><tbody><tr><td>Central Park</td><td>14 E 60th St, Central Park Conservancy, New York City, NY 10022</td><td>https://www.centralparknyc.org</td></tr><tr><td>Empire State Building</td><td>20 W 34th St, New York City, NY 10001</td><td>https://www.esbnyc.com</td></tr><tr><td>Statue of Liberty</td><td>Liberty Island, New York City, NY 10004</td><td>https://www.nps.gov/stli/index.htm</td></tr><tr><td>Times Square</td><td>Manhattan, NY 10036</td><td>null</td></tr><tr><td>Broadway and the Theater District</td><td>Theater District, New York City, NY 10019</td><td>https://www.broadway.org/</td></tr><tr><td>Fifth Avenue</td><td>5th Ave, New York City, NY 10018</td><td>https://www.flickr.com/photos/mariya_umama_wethemba_monastery</td></tr><tr><td>Rockefeller Center and Top of the Rock Observation Deck</td><td>45 Rockefeller Plaza, New York City, NY 10111</td><td>https://www.rockefellercenter.com</td></tr><tr><td>Grand Central Terminal</td><td>89 E 42nd St, New York City, NY 10017</td><td>https://www.grandcentralterminal.com</td></tr><tr><td>The Metropolitan Museum of Art</td><td>1000 5th Ave, New York City, NY 10028</td><td>https://www.metmuseum.org</td></tr><tr><td>National September 11 Memorial & Museum</td><td>180 Greenwich St, New York City, NY 10007</td><td>https://www.911memorial.org</td></tr><tr><td>American Museum of Natural History</td><td>200 Central Park West, New York City, NY 10024</td><td>https://www.amnh.org/</td></tr><tr><td>Museum of Modern Art</td><td>11 W 53rd St, New York City, NY 10019</td><td>https://www.moma.org/</td></tr><tr><td>The High Line</td><td>New York City, NY 10011</td><td>https://www.thehighline.org/</td></tr><tr><td>St. Patrick's Cathedral</td><td>5th Ave, New York City, NY 10022</td><td>https://www.saintpatrickscathedral.org/</td></tr><tr><td>Brooklyn Bridge</td><td>Brooklyn Bridge, New York City, NY 10038</td><td>null</td></tr><tr><td>Bryant Park</td><td>New York City, NY 10018</td><td>null</td></tr><tr><td>One World Observatory</td><td>117 West St, New York City, NY 10006</td><td>null</td></tr><tr><td>Coney Island & Amusement Park</td><td>1208 Surf Ave, Brooklyn, NY 11224</td><td>null</td></tr><tr><td>New York Botanical Garden</td><td>2900 Southern Blvd, Bronx, NY 10458</td><td>https://www.nybg.org/</td></tr><tr><td>Radio City Music Hall</td><td>1260 6th Ave, New York City, NY 10020</td><td>null</td></tr><tr><td>The Met Cloisters</td><td>99 Margaret Corbin Dr, New York City, NY 10040</td><td>null</td></tr><tr><td>New York Public Library</td><td>null</td><td>https://www.nypl.org/</td></tr><tr><td>Frick Collection</td><td>1 E 70th St, New York City, NY 10021</td><td>https://www.frick.org/</td></tr><tr><td>Prospect Park</td><td>Brooklyn, NY</td><td>null</td></tr><tr><td>Bronx Zoo</td><td>2300 Southern Blvd, Bronx, NY 10460</td><td>https://www.bronxzoo.com/</td></tr><tr><td>Governors Island</td><td>Governor’s Island, Upper New York Bay, New York City</td><td>null</td></tr><tr><td>Union Square and Union Square Greenmarket</td><td>Union Square W &, E 17th St, New York City, NY 10003</td><td>null</td></tr><tr><td>Solomon R. Guggenheim Museum</td><td>1071 5th Ave, New York, NY 10128</td><td>https://www.guggenheim.org/</td></tr><tr><td>Washington Square Park</td><td>Washington Square, New York City, NY 10012</td><td>null</td></tr><tr><td>Whitney Museum of American Art</td><td>99 Gansevoort St, New York City, NY 10014</td><td>https://www.whitney.org/</td></tr><tr><td>Chrysler Building</td><td>405 Lexington Ave, New York City, NY 10174</td><td>null</td></tr><tr><td>Ellis Island National Museum of Immigration</td><td>Ellis Island Bridge, Jersey City, NJ 10280</td><td>null</td></tr><tr><td>Summit One Vanderbilt</td><td>45 E 42nd St, New York City, NY 10017</td><td>null</td></tr><tr><td>New York Transit Museum</td><td>99 Schermerhorn St, Brooklyn, NY 11201</td><td>null</td></tr><tr><td>Brooklyn Heights Promenade</td><td>Montague St &, Pierrepont Pl, Brooklyn, NY 11201</td><td>null</td></tr><tr><td>Museum of Chinese in America</td><td>215 Centre St, New York City, NY 10013</td><td>https://www.mocanyc.org/</td></tr><tr><td>Brooklyn Botanic Garden</td><td>990 Washington Ave, Brooklyn, NY 11225</td><td>https://www.bbg.org/</td></tr><tr><td>The Morgan Library & Museum</td><td>225 Madison Ave, New York City, NY 10016</td><td>https://www.themorgan.org/</td></tr><tr><td>City Hall Station</td><td>31 Centre St, New York City, NY, 10007</td><td>null</td></tr><tr><td>Metropolitan Opera House</td><td>30 Lincoln Center Plaza, New York City, NY 10023</td><td>null</td></tr><tr><td>Mmuseumm</td><td>4 Cortlandt Alley, New York, NY 10013</td><td>https://www.mmuseumm.com/</td></tr><tr><td>Wall Street</td><td>Wall Street, New York City, NY 10005</td><td>null</td></tr><tr><td>Smorgasburg Williamsburg</td><td>90 Kent Ave, Brooklyn, NY 11211</td><td>null</td></tr><tr><td>Mysterious Bookshop</td><td>58 Warren St, New York, NY 10007</td><td>null</td></tr><tr><td>Tenement Museum</td><td>103 Orchard St, New York, NY 10002</td><td>https://www.tenement.org/</td></tr><tr><td>Intrepid Sea, Air & Space Museum</td><td>Pier 86, W 46th St, New York, NY 10036</td><td>https://www.intrepidmuseum.org/</td></tr><tr><td>Merchant's House Museum</td><td>29 E 4th St, New York, NY 10003</td><td>https://www.merchantshouse.org/</td></tr><tr><td>Battery Park</td><td>New York, NY 10004</td><td>null</td></tr><tr><td>Cooper-Hewitt, Smithsonian Design Museum</td><td>2 E 91st St, New York, NY 10128</td><td>https://www.cooperhewitt.org/</td></tr><tr><td>Roosevelt Island Smallpox Hospital Ruins</td><td>E Rd, New York, NY 10044</td><td>null</td></tr></tbody></table></div>"
      ]
     },
     "metadata": {
      "application/vnd.databricks.v1+output": {
       "addedWidgets": {},
       "aggData": [],
       "aggError": "",
       "aggOverflow": false,
       "aggSchema": [],
       "aggSeriesLimitReached": false,
       "aggType": "",
       "arguments": {},
       "columnCustomDisplayInfos": {},
       "data": [
        [
         "Central Park",
         "14 E 60th St, Central Park Conservancy, New York City, NY 10022",
         "https://www.centralparknyc.org"
        ],
        [
         "Empire State Building",
         "20 W 34th St, New York City, NY 10001",
         "https://www.esbnyc.com"
        ],
        [
         "Statue of Liberty",
         "Liberty Island, New York City, NY 10004",
         "https://www.nps.gov/stli/index.htm"
        ],
        [
         "Times Square",
         "Manhattan, NY 10036",
         null
        ],
        [
         "Broadway and the Theater District",
         "Theater District, New York City, NY 10019",
         "https://www.broadway.org/"
        ],
        [
         "Fifth Avenue",
         "5th Ave, New York City, NY 10018",
         "https://www.flickr.com/photos/mariya_umama_wethemba_monastery"
        ],
        [
         "Rockefeller Center and Top of the Rock Observation Deck",
         "45 Rockefeller Plaza, New York City, NY 10111",
         "https://www.rockefellercenter.com"
        ],
        [
         "Grand Central Terminal",
         "89 E 42nd St, New York City, NY 10017",
         "https://www.grandcentralterminal.com"
        ],
        [
         "The Metropolitan Museum of Art",
         "1000 5th Ave, New York City, NY 10028",
         "https://www.metmuseum.org"
        ],
        [
         "National September 11 Memorial & Museum",
         "180 Greenwich St, New York City, NY 10007",
         "https://www.911memorial.org"
        ],
        [
         "American Museum of Natural History",
         "200 Central Park West, New York City, NY 10024",
         "https://www.amnh.org/"
        ],
        [
         "Museum of Modern Art",
         "11 W 53rd St, New York City, NY 10019",
         "https://www.moma.org/"
        ],
        [
         "The High Line",
         "New York City, NY 10011",
         "https://www.thehighline.org/"
        ],
        [
         "St. Patrick's Cathedral",
         "5th Ave, New York City, NY 10022",
         "https://www.saintpatrickscathedral.org/"
        ],
        [
         "Brooklyn Bridge",
         "Brooklyn Bridge, New York City, NY 10038",
         null
        ],
        [
         "Bryant Park",
         "New York City, NY 10018",
         null
        ],
        [
         "One World Observatory",
         "117 West St, New York City, NY 10006",
         null
        ],
        [
         "Coney Island & Amusement Park",
         "1208 Surf Ave, Brooklyn, NY 11224",
         null
        ],
        [
         "New York Botanical Garden",
         "2900 Southern Blvd, Bronx, NY 10458",
         "https://www.nybg.org/"
        ],
        [
         "Radio City Music Hall",
         "1260 6th Ave, New York City, NY 10020",
         null
        ],
        [
         "The Met Cloisters",
         "99 Margaret Corbin Dr, New York City, NY 10040",
         null
        ],
        [
         "New York Public Library",
         null,
         "https://www.nypl.org/"
        ],
        [
         "Frick Collection",
         "1 E 70th St, New York City, NY 10021",
         "https://www.frick.org/"
        ],
        [
         "Prospect Park",
         "Brooklyn, NY",
         null
        ],
        [
         "Bronx Zoo",
         "2300 Southern Blvd, Bronx, NY 10460",
         "https://www.bronxzoo.com/"
        ],
        [
         "Governors Island",
         "Governor’s Island, Upper New York Bay, New York City",
         null
        ],
        [
         "Union Square and Union Square Greenmarket",
         "Union Square W &, E 17th St, New York City, NY 10003",
         null
        ],
        [
         "Solomon R. Guggenheim Museum",
         "1071 5th Ave, New York, NY 10128",
         "https://www.guggenheim.org/"
        ],
        [
         "Washington Square Park",
         "Washington Square, New York City, NY 10012",
         null
        ],
        [
         "Whitney Museum of American Art",
         "99 Gansevoort St, New York City, NY 10014",
         "https://www.whitney.org/"
        ],
        [
         "Chrysler Building",
         "405 Lexington Ave, New York City, NY 10174",
         null
        ],
        [
         "Ellis Island National Museum of Immigration",
         "Ellis Island Bridge, Jersey City, NJ 10280",
         null
        ],
        [
         "Summit One Vanderbilt",
         "45 E 42nd St, New York City, NY 10017",
         null
        ],
        [
         "New York Transit Museum",
         "99 Schermerhorn St, Brooklyn, NY 11201",
         null
        ],
        [
         "Brooklyn Heights Promenade",
         "Montague St &, Pierrepont Pl, Brooklyn, NY 11201",
         null
        ],
        [
         "Museum of Chinese in America",
         "215 Centre St, New York City, NY 10013",
         "https://www.mocanyc.org/"
        ],
        [
         "Brooklyn Botanic Garden",
         "990 Washington Ave, Brooklyn, NY 11225",
         "https://www.bbg.org/"
        ],
        [
         "The Morgan Library & Museum",
         "225 Madison Ave, New York City, NY 10016",
         "https://www.themorgan.org/"
        ],
        [
         "City Hall Station",
         "31 Centre St, New York City, NY, 10007",
         null
        ],
        [
         "Metropolitan Opera House",
         "30 Lincoln Center Plaza, New York City, NY 10023",
         null
        ],
        [
         "Mmuseumm",
         "4 Cortlandt Alley, New York, NY 10013",
         "https://www.mmuseumm.com/"
        ],
        [
         "Wall Street",
         "Wall Street, New York City, NY 10005",
         null
        ],
        [
         "Smorgasburg Williamsburg",
         "90 Kent Ave, Brooklyn, NY 11211",
         null
        ],
        [
         "Mysterious Bookshop",
         "58 Warren St, New York, NY 10007",
         null
        ],
        [
         "Tenement Museum",
         "103 Orchard St, New York, NY 10002",
         "https://www.tenement.org/"
        ],
        [
         "Intrepid Sea, Air & Space Museum",
         "Pier 86, W 46th St, New York, NY 10036",
         "https://www.intrepidmuseum.org/"
        ],
        [
         "Merchant's House Museum",
         "29 E 4th St, New York, NY 10003",
         "https://www.merchantshouse.org/"
        ],
        [
         "Battery Park",
         "New York, NY 10004",
         null
        ],
        [
         "Cooper-Hewitt, Smithsonian Design Museum",
         "2 E 91st St, New York, NY 10128",
         "https://www.cooperhewitt.org/"
        ],
        [
         "Roosevelt Island Smallpox Hospital Ruins",
         "E Rd, New York, NY 10044",
         null
        ]
       ],
       "datasetInfos": [],
       "dbfsResultPath": null,
       "isJsonSchema": true,
       "metadata": {},
       "overflow": false,
       "plotOptions": {
        "customPlotOptions": {},
        "displayType": "table",
        "pivotAggregation": null,
        "pivotColumns": null,
        "xColumns": null,
        "yColumns": null
       },
       "removedWidgets": [],
       "schema": [
        {
         "metadata": "{}",
         "name": "Attraction",
         "type": "\"string\""
        },
        {
         "metadata": "{}",
         "name": "Address",
         "type": "\"string\""
        },
        {
         "metadata": "{}",
         "name": "Website",
         "type": "\"string\""
        }
       ],
       "type": "table"
      }
     },
     "output_type": "display_data"
    }
   ],
   "source": [
    "for values in locs:\n",
    "    for keys in values:\n",
    "        print(keys)\n",
    "        print(values[keys])\n",
    "\n",
    "import pandas as pd\n",
    "\n",
    "df= pd.DataFrame(locs)\n",
    "display(df)\n",
    "\n",
    "dataframe = spark.createDataFrame(locs)\n",
    "display(df)"
   ]
  },
  {
   "cell_type": "code",
   "execution_count": 0,
   "metadata": {
    "application/vnd.databricks.v1+cell": {
     "cellMetadata": {
      "byteLimit": 2048000,
      "rowLimit": 10000
     },
     "inputWidgets": {},
     "nuid": "e249b1ca-6ff4-490f-a85b-11d01b2a6af7",
     "showTitle": false,
     "title": ""
    }
   },
   "outputs": [],
   "source": []
  },
  {
   "cell_type": "code",
   "execution_count": 0,
   "metadata": {
    "application/vnd.databricks.v1+cell": {
     "cellMetadata": {
      "byteLimit": 2048000,
      "rowLimit": 10000
     },
     "inputWidgets": {},
     "nuid": "9ca1597f-8534-43d3-b2e3-4cb12214218e",
     "showTitle": false,
     "title": ""
    }
   },
   "outputs": [
    {
     "output_type": "stream",
     "name": "stdout",
     "output_type": "stream",
     "text": [
      "dict_items([('Attraction', 'Roosevelt Island Smallpox Hospital Ruins'), ('Address', 'E Rd, New York, NY 10044')])\nAddress\n14 E 60th St, Central Park Conservancy, New York City, NY 10022\n{'results': [{'address': '717 5th Ave, New York, NY 10022, USA', 'postal_code': '10022', 'country': 'United States', 'region': 'New York', 'area': 'New York County', 'locality': 'New York', 'sublocality': 'Manhattan', 'street': '5th Avenue', 'house': '717', 'location': {'lat': 40.764321, 'lng': -73.97182}, 'location_type': 'exact', 'type': 'poi'}, {'address': '14 E 60th St, New York, NY 10022, USA', 'postal_code': '10022', 'country': 'United States', 'region': 'New York', 'area': 'New York County', 'locality': 'New York', 'sublocality': 'Manhattan', 'street': 'East 60th Street', 'house': '14', 'location': {'lat': 40.764323, 'lng': -73.971767}, 'location_type': 'exact', 'type': 'street_address'}]}\nAddress\n20 W 34th St, New York City, NY 10001\n{'results': [{'address': '20 W 34th St., New York, NY 10118, USA', 'postal_code': '10118', 'country': 'United States', 'region': 'New York', 'area': 'New York County', 'locality': 'New York', 'sublocality': 'Manhattan', 'street': 'West 34th Street', 'house': '20', 'location': {'lat': 40.748745, 'lng': -73.985709}, 'location_type': 'exact', 'type': 'street_address'}]}\nAddress\nLiberty Island, New York City, NY 10004\n{'results': [{'address': 'Liberty Island, New York, NY 10004, USA', 'postal_code': '10004', 'country': 'United States', 'region': 'New York', 'area': 'New York County', 'locality': 'New York', 'location': {'lat': 40.689555, 'lng': -74.044949}, 'location_type': 'approximate', 'type': 'poi'}]}\nAddress\nManhattan, NY 10036\n{'results': [{'address': 'New York, NY 10036, USA', 'postal_code': '10036', 'country': 'United States', 'region': 'New York', 'area': 'New York County', 'locality': 'New York', 'sublocality': 'Manhattan', 'location': {'lat': 40.760249, 'lng': -73.99329}, 'location_type': 'approximate', 'type': 'postal_code'}]}\nAddress\nTheater District, New York City, NY 10019\n{'results': [{'address': 'Theater District, New York, NY, USA', 'country': 'United States', 'region': 'New York', 'area': 'New York County', 'locality': 'New York', 'sublocality': 'Manhattan', 'neighborhood': 'Theater District', 'location': {'lat': 40.758984, 'lng': -73.984473}, 'location_type': 'approximate', 'type': 'neighborhood'}]}\nAddress\n5th Ave, New York City, NY 10018\n{'results': [{'address': '5th Ave, New York, NY 10018, USA', 'postal_code': '10018', 'country': 'United States', 'region': 'New York', 'area': 'New York County', 'locality': 'New York', 'sublocality': 'Manhattan', 'street': '5th Avenue', 'location': {'lat': 40.751332, 'lng': -73.982482}, 'location_type': 'centroid', 'type': 'route'}]}\nAddress\n45 Rockefeller Plaza, New York City, NY 10111\n{'results': [{'address': '45 Rockefeller Plaza, New York, NY 10020, USA', 'postal_code': '10020', 'country': 'United States', 'region': 'New York', 'area': 'New York County', 'locality': 'New York', 'sublocality': 'Manhattan', 'street': 'Rockefeller Plaza', 'house': '45', 'location': {'lat': 40.759126, 'lng': -73.977693}, 'location_type': 'exact', 'type': 'street_address'}]}\nAddress\n89 E 42nd St, New York City, NY 10017\n{'results': [{'address': '89 E 42nd St, New York, NY 10017, USA', 'postal_code': '10017', 'country': 'United States', 'region': 'New York', 'area': 'New York County', 'locality': 'New York', 'sublocality': 'Manhattan', 'street': 'East 42nd Street', 'house': '89', 'location': {'lat': 40.752741, 'lng': -73.977216}, 'location_type': 'exact', 'type': 'street_address'}]}\nAddress\n1000 5th Ave, New York City, NY 10028\n{'results': [{'address': '1000 5th Ave, New York, NY 10028, USA', 'postal_code': '10028', 'country': 'United States', 'region': 'New York', 'area': 'New York County', 'locality': 'New York', 'sublocality': 'Manhattan', 'street': '5th Avenue', 'house': '1000', 'location': {'lat': 40.779444, 'lng': -73.963401}, 'location_type': 'exact', 'type': 'street_address'}]}\nAddress\n180 Greenwich St, New York City, NY 10007\n{'results': [{'address': '180 Greenwich St, New York, NY 10007, USA', 'postal_code': '10007', 'country': 'United States', 'region': 'New York', 'area': 'New York County', 'locality': 'New York', 'sublocality': 'Manhattan', 'street': 'Greenwich Street', 'house': '180', 'location': {'lat': 40.711506, 'lng': -74.012484}, 'location_type': 'exact', 'type': 'street_address'}]}\nAddress\n200 Central Park West, New York City, NY 10024\n{'results': [{'address': '200 Central Park West, New York, NY 10024, USA', 'postal_code': '10024', 'country': 'United States', 'region': 'New York', 'area': 'New York County', 'locality': 'New York', 'sublocality': 'Manhattan', 'street': 'Central Park West', 'house': '200', 'location': {'lat': 40.781292, 'lng': -73.973839}, 'location_type': 'exact', 'type': 'street_address'}]}\nAddress\n11 W 53rd St, New York City, NY 10019\n{'results': [{'address': '11 W 53rd St, New York, NY 10019, USA', 'postal_code': '10019', 'country': 'United States', 'region': 'New York', 'area': 'New York County', 'locality': 'New York', 'sublocality': 'Manhattan', 'street': 'West 53rd Street', 'house': '11', 'location': {'lat': 40.761332, 'lng': -73.977382}, 'location_type': 'exact', 'type': 'street_address'}]}\nAddress\nNew York City, NY 10011\n{'results': [{'address': 'New York, NY 10011, USA', 'postal_code': '10011', 'country': 'United States', 'region': 'New York', 'area': 'New York County', 'locality': 'New York', 'sublocality': 'Manhattan', 'location': {'lat': 40.746514, 'lng': -74.009467}, 'location_type': 'approximate', 'type': 'postal_code'}]}\nAddress\n5th Ave, New York City, NY 10022\n{'results': [{'address': '5th Ave, New York, NY 10022, USA', 'postal_code': '10022', 'country': 'United States', 'region': 'New York', 'area': 'New York County', 'locality': 'New York', 'sublocality': 'Manhattan', 'street': '5th Avenue', 'location': {'lat': 40.7612, 'lng': -73.975267}, 'location_type': 'centroid', 'type': 'route'}]}\nAddress\nBrooklyn Bridge, New York City, NY 10038\n{'results': [{'address': 'Brooklyn Bridge, New York, NY 10038, USA', 'postal_code': '10038', 'country': 'United States', 'region': 'New York', 'area': 'New York County', 'locality': 'New York', 'sublocality': 'Manhattan', 'location': {'lat': 40.706069, 'lng': -73.99685}, 'location_type': 'centroid', 'type': 'poi'}]}\nAddress\nNew York City, NY 10018\n{'results': [{'address': 'New York, NY 10018, USA', 'postal_code': '10018', 'country': 'United States', 'region': 'New York', 'area': 'New York County', 'locality': 'New York', 'sublocality': 'Manhattan', 'location': {'lat': 40.755342, 'lng': -73.99329}, 'location_type': 'approximate', 'type': 'postal_code'}]}\nAddress\n117 West St, New York City, NY 10006\n{'results': [{'address': '117 West St, New York, NY 10007, USA', 'postal_code': '10007', 'country': 'United States', 'region': 'New York', 'area': 'New York County', 'locality': 'New York', 'sublocality': 'Manhattan', 'street': 'West Street', 'house': '117', 'location': {'lat': 40.712983, 'lng': -74.013154}, 'location_type': 'exact', 'type': 'street_address'}]}\nAddress\n1208 Surf Ave, Brooklyn, NY 11224\n{'results': [{'address': '1208 Surf Ave, Brooklyn, NY 11224, USA', 'postal_code': '11224', 'country': 'United States', 'region': 'New York', 'area': 'Kings County', 'sublocality': 'Brooklyn', 'neighborhood': 'Coney Island', 'street': 'Surf Avenue', 'house': '1208', 'location': {'lat': 40.575309, 'lng': -73.979902}, 'location_type': 'exact', 'type': 'street_address'}]}\nAddress\n2900 Southern Blvd, Bronx, NY 10458\n{'results': [{'address': '2900 South Blvd, Bronx, NY 10458, USA', 'postal_code': '10458', 'country': 'United States', 'region': 'New York', 'area': 'Bronx County', 'sublocality': 'The Bronx', 'street': 'South Boulevard', 'house': '2900', 'location': {'lat': 40.865472, 'lng': -73.881801}, 'location_type': 'exact', 'type': 'street_address'}, {'address': '2900 Southern Blvd, Bronx, NY 10458, USA', 'postal_code': '10458', 'country': 'United States', 'region': 'New York', 'area': 'Bronx County', 'sublocality': 'The Bronx', 'neighborhood': 'West Bronx', 'street': 'Southern Boulevard', 'house': '2900', 'location': {'lat': 40.861677, 'lng': -73.880926}, 'location_type': 'exact', 'type': 'street_address'}]}\nAddress\n1260 6th Ave, New York City, NY 10020\n{'results': [{'address': 'Showplace of the Nation, 1260 6th Ave, New York, NY 10020, USA', 'postal_code': '10020', 'country': 'United States', 'region': 'New York', 'area': 'New York County', 'locality': 'New York', 'sublocality': 'Manhattan', 'street': '6th Avenue', 'house': '1260', 'location': {'lat': 40.759972, 'lng': -73.980055}, 'location_type': 'exact', 'type': 'street_address'}]}\nAddress\n99 Margaret Corbin Dr, New York City, NY 10040\n{'results': [{'address': '99 Margaret Corbin Dr, New York, NY 10040, USA', 'postal_code': '10040', 'country': 'United States', 'region': 'New York', 'area': 'New York County', 'locality': 'New York', 'sublocality': 'Manhattan', 'street': 'Margaret Corbin Drive', 'house': '99', 'location': {'lat': 40.861879, 'lng': -73.932954}, 'location_type': 'exact', 'type': 'street_address'}]}\nAddress\n1 E 70th St, New York City, NY 10021\n{'results': [{'address': 'Henry Clay Frick House, 1 E 70th St, New York, NY 10021, USA', 'postal_code': '10021', 'country': 'United States', 'region': 'New York', 'area': 'New York County', 'locality': 'New York', 'sublocality': 'Manhattan', 'street': 'East 70th Street', 'house': '1', 'location': {'lat': 40.771366, 'lng': -73.967244}, 'location_type': 'exact', 'type': 'street_address'}]}\nAddress\nBrooklyn, NY\n{'results': [{'address': 'Brooklyn, NY, USA', 'country': 'United States', 'region': 'New York', 'area': 'Kings County', 'sublocality': 'Brooklyn', 'location': {'lat': 40.678153, 'lng': -73.94416}, 'location_type': 'approximate', 'type': 'admin_area'}]}\nAddress\n2300 Southern Blvd, Bronx, NY 10460\n{'results': [{'address': '2300 Southern Blvd, Bronx, NY 10460, USA', 'postal_code': '10460', 'country': 'United States', 'region': 'New York', 'area': 'Bronx County', 'sublocality': 'The Bronx', 'neighborhood': 'Belmont', 'street': 'Southern Boulevard', 'house': '2300', 'location': {'lat': 40.850121, 'lng': -73.882529}, 'location_type': 'exact', 'type': 'street_address'}]}\nAddress\nGovernor’s Island, Upper New York Bay, New York City\n{'results': [{'address': 'Governors Island, New York, NY 11231, USA', 'postal_code': '11231', 'country': 'United States', 'region': 'New York', 'area': 'New York County', 'locality': 'New York', 'sublocality': 'Manhattan', 'location': {'lat': 40.689458, 'lng': -74.016803}, 'location_type': 'approximate', 'type': 'poi'}]}\nAddress\nUnion Square W &, E 17th St, New York City, NY 10003\n{'results': [{'address': 'Union Square W & E 17th St, New York, NY 10003, USA', 'postal_code': '10003', 'country': 'United States', 'region': 'New York', 'area': 'New York County', 'locality': 'New York', 'sublocality': 'Manhattan', 'location': {'lat': 40.737138, 'lng': -73.990376}, 'location_type': 'centroid', 'type': 'road_intersection'}]}\nAddress\n1071 5th Ave, New York, NY 10128\n{'results': [{'address': '1071 5th Ave, New York, NY 10128, USA', 'postal_code': '10128', 'country': 'United States', 'region': 'New York', 'area': 'New York County', 'locality': 'New York', 'sublocality': 'Manhattan', 'street': '5th Avenue', 'house': '1071', 'location': {'lat': 40.783187, 'lng': -73.958789}, 'location_type': 'exact', 'type': 'street_address'}]}\nAddress\nWashington Square, New York City, NY 10012\n{'results': [{'address': 'Washington Square Park, Washington Square, New York, NY 10012, USA', 'postal_code': '10012', 'country': 'United States', 'region': 'New York', 'area': 'New York County', 'locality': 'New York', 'sublocality': 'Manhattan', 'street': 'Washington Square', 'location': {'lat': 40.730862, 'lng': -73.997323}, 'location_type': 'centroid', 'type': 'poi'}]}\nAddress\n99 Gansevoort St, New York City, NY 10014\n{'results': [{'address': '99 Gansevoort St, New York, NY 10014, USA', 'postal_code': '10014', 'country': 'United States', 'region': 'New York', 'area': 'New York County', 'locality': 'New York', 'sublocality': 'Manhattan', 'street': 'Gansevoort Street', 'house': '99', 'location': {'lat': 40.739508, 'lng': -74.009146}, 'location_type': 'exact', 'type': 'street_address'}]}\nAddress\n405 Lexington Ave, New York City, NY 10174\n{'results': [{'address': '405 Lexington Ave, New York, NY 10174, USA', 'postal_code': '10174', 'country': 'United States', 'region': 'New York', 'area': 'New York County', 'locality': 'New York', 'sublocality': 'Manhattan', 'street': 'Lexington Avenue', 'house': '405', 'location': {'lat': 40.751705, 'lng': -73.975598}, 'location_type': 'exact', 'type': 'street_address'}]}\nAddress\nEllis Island Bridge, Jersey City, NJ 10280\n{'results': [{'address': 'Ellis Island Bridge, Jersey City, NJ, USA', 'country': 'United States', 'region': 'New Jersey', 'area': 'Hudson County', 'locality': 'Jersey City', 'street': 'Ellis Island Bridge', 'location': {'lat': 40.701352, 'lng': -74.04295}, 'location_type': 'centroid', 'type': 'route'}]}\nAddress\n45 E 42nd St, New York City, NY 10017\n{'results': [{'address': '45 E 42nd St, New York, NY 10017, USA', 'postal_code': '10017', 'country': 'United States', 'region': 'New York', 'area': 'New York County', 'locality': 'New York', 'sublocality': 'Manhattan', 'street': 'East 42nd Street', 'house': '45', 'location': {'lat': 40.752951, 'lng': -73.976857}, 'location_type': 'exact', 'type': 'building'}]}\nAddress\n99 Schermerhorn St, Brooklyn, NY 11201\n{'results': [{'address': '99 Schermerhorn St, Brooklyn, NY 11201, USA', 'postal_code': '11201', 'country': 'United States', 'region': 'New York', 'area': 'Kings County', 'sublocality': 'Brooklyn', 'neighborhood': 'Downtown Brooklyn', 'street': 'Schermerhorn Street', 'house': '99', 'location': {'lat': 40.690594, 'lng': -73.990082}, 'location_type': 'exact', 'type': 'street_address'}]}\nAddress\nMontague St &, Pierrepont Pl, Brooklyn, NY 11201\n{'results': [{'address': 'Montague St & Pierrepont Pl, Brooklyn, NY 11201, USA', 'postal_code': '11201', 'country': 'United States', 'region': 'New York', 'area': 'Kings County', 'sublocality': 'Brooklyn', 'neighborhood': 'Brooklyn Heights', 'location': {'lat': 40.695609, 'lng': -73.997379}, 'location_type': 'centroid', 'type': 'road_intersection'}]}\nAddress\n215 Centre St, New York City, NY 10013\n{'results': [{'address': '215 Centre St, New York, NY 10013, USA', 'postal_code': '10013', 'country': 'United States', 'region': 'New York', 'area': 'New York County', 'locality': 'New York', 'sublocality': 'Manhattan', 'street': 'Centre Street', 'house': '215', 'location': {'lat': 40.719478, 'lng': -73.999195}, 'location_type': 'exact', 'type': 'street_address'}]}\nAddress\n990 Washington Ave, Brooklyn, NY 11225\n{'results': [{'address': '990 Washington Ave, Brooklyn, NY 11225, USA', 'postal_code': '11225', 'country': 'United States', 'region': 'New York', 'area': 'Kings County', 'sublocality': 'Brooklyn', 'street': 'Washington Avenue', 'house': '990', 'location': {'lat': 40.66949, 'lng': -73.962386}, 'location_type': 'exact', 'type': 'street_address'}]}\nAddress\n225 Madison Ave, New York City, NY 10016\n{'results': [{'address': '225 Madison Ave, New York, NY 10016, USA', 'postal_code': '10016', 'country': 'United States', 'region': 'New York', 'area': 'New York County', 'locality': 'New York', 'sublocality': 'Manhattan', 'street': 'Madison Avenue', 'house': '225', 'location': {'lat': 40.749184, 'lng': -73.981544}, 'location_type': 'exact', 'type': 'building'}]}\nAddress\n31 Centre St, New York City, NY, 10007\n{'results': [{'address': '31 Centre St, New York, NY 10007, USA', 'postal_code': '10007', 'country': 'United States', 'region': 'New York', 'area': 'New York County', 'locality': 'New York', 'sublocality': 'Manhattan', 'street': 'Centre Street', 'house': '31', 'location': {'lat': 40.714077, 'lng': -74.003046}, 'location_type': 'exact', 'type': 'street_address'}]}\nAddress\n30 Lincoln Center Plaza, New York City, NY 10023\n{'results': [{'address': '30 Lincoln Center Plaza, New York, NY 10023, USA', 'postal_code': '10023', 'country': 'United States', 'region': 'New York', 'area': 'New York County', 'locality': 'New York', 'sublocality': 'Manhattan', 'street': 'Lincoln Center Plaza', 'house': '30', 'location': {'lat': 40.772779, 'lng': -73.98387}, 'location_type': 'exact', 'type': 'street_address'}]}\nAddress\n4 Cortlandt Alley, New York, NY 10013\n{'results': [{'address': '4 Cortlandt Alley, New York, NY 10013, USA', 'postal_code': '10013', 'country': 'United States', 'region': 'New York', 'area': 'New York County', 'locality': 'New York', 'sublocality': 'Manhattan', 'street': 'Cortlandt Alley', 'house': '4', 'location': {'lat': 40.717498, 'lng': -74.00271}, 'location_type': 'exact', 'type': 'street_address'}]}\nAddress\nWall Street, New York City, NY 10005\n{'results': [{'address': 'New York, NY 10005, USA', 'postal_code': '10005', 'country': 'United States', 'region': 'New York', 'area': 'New York County', 'locality': 'New York', 'sublocality': 'Manhattan', 'location': {'lat': 40.706426, 'lng': -74.009476}, 'location_type': 'approximate', 'type': 'postal_code'}, {'address': 'Wall St, New York, NY 10005, USA', 'postal_code': '10005', 'country': 'United States', 'region': 'New York', 'area': 'New York County', 'locality': 'New York', 'sublocality': 'Manhattan', 'street': 'Wall Street', 'location': {'lat': 40.70591, 'lng': -74.008637}, 'location_type': 'centroid', 'type': 'route'}]}\nAddress\n90 Kent Ave, Brooklyn, NY 11211\n{'results': [{'address': '90 Kent Ave, Brooklyn, NY 11249, USA', 'postal_code': '11249', 'country': 'United States', 'region': 'New York', 'area': 'Kings County', 'sublocality': 'Brooklyn', 'neighborhood': 'Williamsburg', 'street': 'Kent Avenue', 'house': '90', 'location': {'lat': 40.721499, 'lng': -73.96089}, 'location_type': 'exact', 'type': 'street_address'}]}\nAddress\n58 Warren St, New York, NY 10007\n{'results': [{'address': '58 Warren St, New York, NY 10007, USA', 'postal_code': '10007', 'country': 'United States', 'region': 'New York', 'area': 'New York County', 'locality': 'New York', 'sublocality': 'Manhattan', 'street': 'Warren Street', 'house': '58', 'location': {'lat': 40.714946, 'lng': -74.009227}, 'location_type': 'exact', 'type': 'street_address'}]}\nAddress\n103 Orchard St, New York, NY 10002\n{'results': [{'address': '103 Orchard St, New York, NY 10002, USA', 'postal_code': '10002', 'country': 'United States', 'region': 'New York', 'area': 'New York County', 'locality': 'New York', 'sublocality': 'Manhattan', 'street': 'Orchard Street', 'house': '103', 'location': {'lat': 40.718707, 'lng': -73.990088}, 'location_type': 'exact', 'type': 'street_address'}]}\nAddress\nPier 86, W 46th St, New York, NY 10036\n{'results': [{'address': 'New York, NY 10036, USA', 'postal_code': '10036', 'country': 'United States', 'region': 'New York', 'area': 'New York County', 'locality': 'New York', 'sublocality': 'Manhattan', 'location': {'lat': 40.764608, 'lng': -73.999096}, 'location_type': 'centroid', 'type': 'poi'}]}\nAddress\n29 E 4th St, New York, NY 10003\n{'results': [{'address': '29 E 4th St, New York, NY 10003, USA', 'postal_code': '10003', 'country': 'United States', 'region': 'New York', 'area': 'New York County', 'locality': 'New York', 'sublocality': 'Manhattan', 'street': 'East 4th Street', 'house': '29', 'location': {'lat': 40.727639, 'lng': -73.992406}, 'location_type': 'exact', 'type': 'street_address'}]}\nAddress\nNew York, NY 10004\n{'results': [{'address': 'BOWLING GREEN, NY 10004, USA', 'postal_code': '10004', 'country': 'United States', 'region': 'New York', 'area': 'New York County', 'locality': 'BOWLING GREEN', 'sublocality': 'Manhattan', 'location': {'lat': 40.703848, 'lng': -74.013834}, 'location_type': 'approximate', 'type': 'postal_code'}]}\nAddress\n2 E 91st St, New York, NY 10128\n{'results': [{'address': '2 E 91st St, New York, NY 10128, USA', 'postal_code': '10128', 'country': 'United States', 'region': 'New York', 'area': 'New York County', 'locality': 'New York', 'sublocality': 'Manhattan', 'street': 'East 91st Street', 'house': '2', 'location': {'lat': 40.78428, 'lng': -73.957813}, 'location_type': 'exact', 'type': 'street_address'}]}\nAddress\nE Rd, New York, NY 10044\n{'results': [{'address': 'E Rd, New York, NY 10044, USA', 'postal_code': '10044', 'country': 'United States', 'region': 'New York', 'area': 'New York County', 'locality': 'New York', 'sublocality': 'Manhattan', 'street': 'East Road', 'location': {'lat': 40.760637, 'lng': -73.949493}, 'location_type': 'centroid', 'type': 'route'}]}\n"
     ]
    }
   ],
   "source": [
    "from time import sleep\n",
    "\n",
    "import requests\n",
    "\n",
    "\n",
    "\n",
    "\n",
    "import copy\n",
    "count = 0\n",
    "places = []\n",
    "items = values.items()\n",
    "print(items)\n",
    "locscopy =  copy.deepcopy(locs)\n",
    "for i in range(len(locs)):\n",
    "    values = locs[i]\n",
    "    for keys,value in values.items():\n",
    "        if keys == 'Address':\n",
    "            if value is not None:\n",
    "                print(keys)\n",
    "                print(value)\n",
    "                \n",
    "               \n",
    "                place = value\n",
    "                count +=1\n",
    "                # querystring = {\"street\":place,'city' :'New York',\"accept-language\":\"en\"}\n",
    "                querystring = {\"address\":place,\"language\":\"en\"}\n",
    "\n",
    "                if count == 2:\n",
    "                    sleep(2)\n",
    "                    count = 0\n",
    "                response = requests.get(url, headers=headers, params=querystring)\n",
    "\n",
    "        #print(response.json())\n",
    "                response =response.json()\n",
    "                print(response)\n",
    "                \n",
    "                r = response.get('results')\n",
    "                if r is not None:\n",
    "                    r=r[0]['location']\n",
    "\n",
    "\n",
    "                    long=r['lng']\n",
    "                    lat=r['lat']\n",
    "                    locscopy[i]['latitude'] = lat\n",
    "                    locscopy[i]['longitude'] = long\n",
    "                else:\n",
    "                    locscopy[i]['latitude'] = None\n",
    "                    locscopy[i]['longitude'] = None\n",
    "\n",
    "\n",
    "                \n",
    "                # print(f\"{long} - {lat}\")"
   ]
  },
  {
   "cell_type": "code",
   "execution_count": 0,
   "metadata": {
    "application/vnd.databricks.v1+cell": {
     "cellMetadata": {
      "byteLimit": 2048000,
      "rowLimit": 10000
     },
     "inputWidgets": {},
     "nuid": "b73cb66c-7953-4ea3-b9a8-0ff015546801",
     "showTitle": false,
     "title": ""
    }
   },
   "outputs": [
    {
     "output_type": "stream",
     "name": "stdout",
     "output_type": "stream",
     "text": [
      "Attraction\nCentral Park\nAddress\n14 E 60th St, Central Park Conservancy, New York City, NY 10022\nWebsite\nhttps://www.centralparknyc.org\nlatitude\n40.764321\nlongitude\n-73.97182\nAttraction\nEmpire State Building\nAddress\n20 W 34th St, New York City, NY 10001\nWebsite\nhttps://www.esbnyc.com\nlatitude\n40.748745\nlongitude\n-73.985709\nAttraction\nStatue of Liberty\nAddress\nLiberty Island, New York City, NY 10004\nWebsite\nhttps://www.nps.gov/stli/index.htm\nlatitude\n40.689555\nlongitude\n-74.044949\nAttraction\nTimes Square\nAddress\nManhattan, NY 10036\nlatitude\n40.760249\nlongitude\n-73.99329\nAttraction\nBroadway and the Theater District\nAddress\nTheater District, New York City, NY 10019\nWebsite\nhttps://www.broadway.org/\nlatitude\n40.758984\nlongitude\n-73.984473\nAttraction\nFifth Avenue\nAddress\n5th Ave, New York City, NY 10018\nWebsite\nhttps://www.flickr.com/photos/mariya_umama_wethemba_monastery\nlatitude\n40.751332\nlongitude\n-73.982482\nAttraction\nRockefeller Center and Top of the Rock Observation Deck\nAddress\n45 Rockefeller Plaza, New York City, NY 10111\nWebsite\nhttps://www.rockefellercenter.com\nlatitude\n40.759126\nlongitude\n-73.977693\nAttraction\nGrand Central Terminal\nAddress\n89 E 42nd St, New York City, NY 10017\nWebsite\nhttps://www.grandcentralterminal.com\nlatitude\n40.752741\nlongitude\n-73.977216\nAttraction\nThe Metropolitan Museum of Art\nAddress\n1000 5th Ave, New York City, NY 10028\nWebsite\nhttps://www.metmuseum.org\nlatitude\n40.779444\nlongitude\n-73.963401\nAttraction\nNational September 11 Memorial & Museum\nAddress\n180 Greenwich St, New York City, NY 10007\nWebsite\nhttps://www.911memorial.org\nlatitude\n40.711506\nlongitude\n-74.012484\nAttraction\nAmerican Museum of Natural History\nAddress\n200 Central Park West, New York City, NY 10024\nWebsite\nhttps://www.amnh.org/\nlatitude\n40.781292\nlongitude\n-73.973839\nAttraction\nMuseum of Modern Art\nAddress\n11 W 53rd St, New York City, NY 10019\nWebsite\nhttps://www.moma.org/\nlatitude\n40.761332\nlongitude\n-73.977382\nAttraction\nThe High Line\nAddress\nNew York City, NY 10011\nWebsite\nhttps://www.thehighline.org/\nlatitude\n40.746514\nlongitude\n-74.009467\nAttraction\nSt. Patrick's Cathedral\nAddress\n5th Ave, New York City, NY 10022\nWebsite\nhttps://www.saintpatrickscathedral.org/\nlatitude\n40.7612\nlongitude\n-73.975267\nAttraction\nBrooklyn Bridge\nAddress\nBrooklyn Bridge, New York City, NY 10038\nlatitude\n40.706069\nlongitude\n-73.99685\nAttraction\nBryant Park\nAddress\nNew York City, NY 10018\nlatitude\n40.755342\nlongitude\n-73.99329\nAttraction\nOne World Observatory\nAddress\n117 West St, New York City, NY 10006\nlatitude\n40.712983\nlongitude\n-74.013154\nAttraction\nConey Island & Amusement Park\nAddress\n1208 Surf Ave, Brooklyn, NY 11224\nlatitude\n40.575309\nlongitude\n-73.979902\nAttraction\nNew York Botanical Garden\nAddress\n2900 Southern Blvd, Bronx, NY 10458\nWebsite\nhttps://www.nybg.org/\nlatitude\n40.865472\nlongitude\n-73.881801\nAttraction\nRadio City Music Hall\nAddress\n1260 6th Ave, New York City, NY 10020\nlatitude\n40.759972\nlongitude\n-73.980055\nAttraction\nThe Met Cloisters\nAddress\n99 Margaret Corbin Dr, New York City, NY 10040\nlatitude\n40.861879\nlongitude\n-73.932954\nAttraction\nNew York Public Library\nAddress\nNone\nWebsite\nhttps://www.nypl.org/\nAttraction\nFrick Collection\nAddress\n1 E 70th St, New York City, NY 10021\nWebsite\nhttps://www.frick.org/\nlatitude\n40.771366\nlongitude\n-73.967244\nAttraction\nProspect Park\nAddress\nBrooklyn, NY\nlatitude\n40.678153\nlongitude\n-73.94416\nAttraction\nBronx Zoo\nAddress\n2300 Southern Blvd, Bronx, NY 10460\nWebsite\nhttps://www.bronxzoo.com/\nlatitude\n40.850121\nlongitude\n-73.882529\nAttraction\nGovernors Island\nAddress\nGovernor’s Island, Upper New York Bay, New York City\nlatitude\n40.689458\nlongitude\n-74.016803\nAttraction\nUnion Square and Union Square Greenmarket\nAddress\nUnion Square W &, E 17th St, New York City, NY 10003\nlatitude\n40.737138\nlongitude\n-73.990376\nAttraction\nSolomon R. Guggenheim Museum\nAddress\n1071 5th Ave, New York, NY 10128\nWebsite\nhttps://www.guggenheim.org/\nlatitude\n40.783187\nlongitude\n-73.958789\nAttraction\nWashington Square Park\nAddress\nWashington Square, New York City, NY 10012\nlatitude\n40.730862\nlongitude\n-73.997323\nAttraction\nWhitney Museum of American Art\nAddress\n99 Gansevoort St, New York City, NY 10014\nWebsite\nhttps://www.whitney.org/\nlatitude\n40.739508\nlongitude\n-74.009146\nAttraction\nChrysler Building\nAddress\n405 Lexington Ave, New York City, NY 10174\nlatitude\n40.751705\nlongitude\n-73.975598\nAttraction\nEllis Island National Museum of Immigration\nAddress\nEllis Island Bridge, Jersey City, NJ 10280\nlatitude\n40.701352\nlongitude\n-74.04295\nAttraction\nSummit One Vanderbilt\nAddress\n45 E 42nd St, New York City, NY 10017\nlatitude\n40.752951\nlongitude\n-73.976857\nAttraction\nNew York Transit Museum\nAddress\n99 Schermerhorn St, Brooklyn, NY 11201\nlatitude\n40.690594\nlongitude\n-73.990082\nAttraction\nBrooklyn Heights Promenade\nAddress\nMontague St &, Pierrepont Pl, Brooklyn, NY 11201\nlatitude\n40.695609\nlongitude\n-73.997379\nAttraction\nMuseum of Chinese in America\nAddress\n215 Centre St, New York City, NY 10013\nWebsite\nhttps://www.mocanyc.org/\nlatitude\n40.719478\nlongitude\n-73.999195\nAttraction\nBrooklyn Botanic Garden\nAddress\n990 Washington Ave, Brooklyn, NY 11225\nWebsite\nhttps://www.bbg.org/\nlatitude\n40.66949\nlongitude\n-73.962386\nAttraction\nThe Morgan Library & Museum\nAddress\n225 Madison Ave, New York City, NY 10016\nWebsite\nhttps://www.themorgan.org/\nlatitude\n40.749184\nlongitude\n-73.981544\nAttraction\nCity Hall Station\nAddress\n31 Centre St, New York City, NY, 10007\nlatitude\n40.714077\nlongitude\n-74.003046\nAttraction\nMetropolitan Opera House\nAddress\n30 Lincoln Center Plaza, New York City, NY 10023\nlatitude\n40.772779\nlongitude\n-73.98387\nAttraction\nMmuseumm\nAddress\n4 Cortlandt Alley, New York, NY 10013\nWebsite\nhttps://www.mmuseumm.com/\nlatitude\n40.717498\nlongitude\n-74.00271\nAttraction\nWall Street\nAddress\nWall Street, New York City, NY 10005\nlatitude\n40.706426\nlongitude\n-74.009476\nAttraction\nSmorgasburg Williamsburg\nAddress\n90 Kent Ave, Brooklyn, NY 11211\nlatitude\n40.721499\nlongitude\n-73.96089\nAttraction\nMysterious Bookshop\nAddress\n58 Warren St, New York, NY 10007\nlatitude\n40.714946\nlongitude\n-74.009227\nAttraction\nTenement Museum\nAddress\n103 Orchard St, New York, NY 10002\nWebsite\nhttps://www.tenement.org/\nlatitude\n40.718707\nlongitude\n-73.990088\nAttraction\nIntrepid Sea, Air & Space Museum\nAddress\nPier 86, W 46th St, New York, NY 10036\nWebsite\nhttps://www.intrepidmuseum.org/\nlatitude\n40.764608\nlongitude\n-73.999096\nAttraction\nMerchant's House Museum\nAddress\n29 E 4th St, New York, NY 10003\nWebsite\nhttps://www.merchantshouse.org/\nlatitude\n40.727639\nlongitude\n-73.992406\nAttraction\nBattery Park\nAddress\nNew York, NY 10004\nlatitude\n40.703848\nlongitude\n-74.013834\nAttraction\nCooper-Hewitt, Smithsonian Design Museum\nAddress\n2 E 91st St, New York, NY 10128\nWebsite\nhttps://www.cooperhewitt.org/\nlatitude\n40.78428\nlongitude\n-73.957813\nAttraction\nRoosevelt Island Smallpox Hospital Ruins\nAddress\nE Rd, New York, NY 10044\nlatitude\n40.760637\nlongitude\n-73.949493\n"
     ]
    }
   ],
   "source": [
    "for i in range(len(locscopy)):\n",
    "    values = locscopy[i]\n",
    "    for keys,value in values.items():\n",
    "        print(keys)\n",
    "        print(value)"
   ]
  },
  {
   "cell_type": "code",
   "execution_count": 0,
   "metadata": {
    "application/vnd.databricks.v1+cell": {
     "cellMetadata": {
      "byteLimit": 2048000,
      "rowLimit": 10000
     },
     "inputWidgets": {},
     "nuid": "09af9203-c08a-4830-a474-06879f5635d6",
     "showTitle": false,
     "title": ""
    }
   },
   "outputs": [
    {
     "output_type": "display_data",
     "data": {
      "text/html": [
       "<style scoped>\n",
       "  .table-result-container {\n",
       "    max-height: 300px;\n",
       "    overflow: auto;\n",
       "  }\n",
       "  table, th, td {\n",
       "    border: 1px solid black;\n",
       "    border-collapse: collapse;\n",
       "  }\n",
       "  th, td {\n",
       "    padding: 5px;\n",
       "  }\n",
       "  th {\n",
       "    text-align: left;\n",
       "  }\n",
       "</style><div class='table-result-container'><table class='table-result'><thead style='background-color: white'><tr><th>Address</th><th>Attraction</th><th>Website</th><th>latitude</th><th>longitude</th></tr></thead><tbody><tr><td>14 E 60th St, Central Park Conservancy, New York City, NY 10022</td><td>Central Park</td><td>https://www.centralparknyc.org</td><td>40.764321</td><td>-73.97182</td></tr><tr><td>20 W 34th St, New York City, NY 10001</td><td>Empire State Building</td><td>https://www.esbnyc.com</td><td>40.748745</td><td>-73.985709</td></tr><tr><td>Liberty Island, New York City, NY 10004</td><td>Statue of Liberty</td><td>https://www.nps.gov/stli/index.htm</td><td>40.689555</td><td>-74.044949</td></tr><tr><td>Manhattan, NY 10036</td><td>Times Square</td><td>null</td><td>40.760249</td><td>-73.99329</td></tr><tr><td>Theater District, New York City, NY 10019</td><td>Broadway and the Theater District</td><td>https://www.broadway.org/</td><td>40.758984</td><td>-73.984473</td></tr><tr><td>5th Ave, New York City, NY 10018</td><td>Fifth Avenue</td><td>https://www.flickr.com/photos/mariya_umama_wethemba_monastery</td><td>40.751332</td><td>-73.982482</td></tr><tr><td>45 Rockefeller Plaza, New York City, NY 10111</td><td>Rockefeller Center and Top of the Rock Observation Deck</td><td>https://www.rockefellercenter.com</td><td>40.759126</td><td>-73.977693</td></tr><tr><td>89 E 42nd St, New York City, NY 10017</td><td>Grand Central Terminal</td><td>https://www.grandcentralterminal.com</td><td>40.752741</td><td>-73.977216</td></tr><tr><td>1000 5th Ave, New York City, NY 10028</td><td>The Metropolitan Museum of Art</td><td>https://www.metmuseum.org</td><td>40.779444</td><td>-73.963401</td></tr><tr><td>180 Greenwich St, New York City, NY 10007</td><td>National September 11 Memorial & Museum</td><td>https://www.911memorial.org</td><td>40.711506</td><td>-74.012484</td></tr><tr><td>200 Central Park West, New York City, NY 10024</td><td>American Museum of Natural History</td><td>https://www.amnh.org/</td><td>40.781292</td><td>-73.973839</td></tr><tr><td>11 W 53rd St, New York City, NY 10019</td><td>Museum of Modern Art</td><td>https://www.moma.org/</td><td>40.761332</td><td>-73.977382</td></tr><tr><td>New York City, NY 10011</td><td>The High Line</td><td>https://www.thehighline.org/</td><td>40.746514</td><td>-74.009467</td></tr><tr><td>5th Ave, New York City, NY 10022</td><td>St. Patrick's Cathedral</td><td>https://www.saintpatrickscathedral.org/</td><td>40.7612</td><td>-73.975267</td></tr><tr><td>Brooklyn Bridge, New York City, NY 10038</td><td>Brooklyn Bridge</td><td>null</td><td>40.706069</td><td>-73.99685</td></tr><tr><td>New York City, NY 10018</td><td>Bryant Park</td><td>null</td><td>40.755342</td><td>-73.99329</td></tr><tr><td>117 West St, New York City, NY 10006</td><td>One World Observatory</td><td>null</td><td>40.712983</td><td>-74.013154</td></tr><tr><td>1208 Surf Ave, Brooklyn, NY 11224</td><td>Coney Island & Amusement Park</td><td>null</td><td>40.575309</td><td>-73.979902</td></tr><tr><td>2900 Southern Blvd, Bronx, NY 10458</td><td>New York Botanical Garden</td><td>https://www.nybg.org/</td><td>40.865472</td><td>-73.881801</td></tr><tr><td>1260 6th Ave, New York City, NY 10020</td><td>Radio City Music Hall</td><td>null</td><td>40.759972</td><td>-73.980055</td></tr><tr><td>99 Margaret Corbin Dr, New York City, NY 10040</td><td>The Met Cloisters</td><td>null</td><td>40.861879</td><td>-73.932954</td></tr><tr><td>null</td><td>New York Public Library</td><td>https://www.nypl.org/</td><td>null</td><td>null</td></tr><tr><td>1 E 70th St, New York City, NY 10021</td><td>Frick Collection</td><td>https://www.frick.org/</td><td>40.771366</td><td>-73.967244</td></tr><tr><td>Brooklyn, NY</td><td>Prospect Park</td><td>null</td><td>40.678153</td><td>-73.94416</td></tr><tr><td>2300 Southern Blvd, Bronx, NY 10460</td><td>Bronx Zoo</td><td>https://www.bronxzoo.com/</td><td>40.850121</td><td>-73.882529</td></tr><tr><td>Governor’s Island, Upper New York Bay, New York City</td><td>Governors Island</td><td>null</td><td>40.689458</td><td>-74.016803</td></tr><tr><td>Union Square W &, E 17th St, New York City, NY 10003</td><td>Union Square and Union Square Greenmarket</td><td>null</td><td>40.737138</td><td>-73.990376</td></tr><tr><td>1071 5th Ave, New York, NY 10128</td><td>Solomon R. Guggenheim Museum</td><td>https://www.guggenheim.org/</td><td>40.783187</td><td>-73.958789</td></tr><tr><td>Washington Square, New York City, NY 10012</td><td>Washington Square Park</td><td>null</td><td>40.730862</td><td>-73.997323</td></tr><tr><td>99 Gansevoort St, New York City, NY 10014</td><td>Whitney Museum of American Art</td><td>https://www.whitney.org/</td><td>40.739508</td><td>-74.009146</td></tr><tr><td>405 Lexington Ave, New York City, NY 10174</td><td>Chrysler Building</td><td>null</td><td>40.751705</td><td>-73.975598</td></tr><tr><td>Ellis Island Bridge, Jersey City, NJ 10280</td><td>Ellis Island National Museum of Immigration</td><td>null</td><td>40.701352</td><td>-74.04295</td></tr><tr><td>45 E 42nd St, New York City, NY 10017</td><td>Summit One Vanderbilt</td><td>null</td><td>40.752951</td><td>-73.976857</td></tr><tr><td>99 Schermerhorn St, Brooklyn, NY 11201</td><td>New York Transit Museum</td><td>null</td><td>40.690594</td><td>-73.990082</td></tr><tr><td>Montague St &, Pierrepont Pl, Brooklyn, NY 11201</td><td>Brooklyn Heights Promenade</td><td>null</td><td>40.695609</td><td>-73.997379</td></tr><tr><td>215 Centre St, New York City, NY 10013</td><td>Museum of Chinese in America</td><td>https://www.mocanyc.org/</td><td>40.719478</td><td>-73.999195</td></tr><tr><td>990 Washington Ave, Brooklyn, NY 11225</td><td>Brooklyn Botanic Garden</td><td>https://www.bbg.org/</td><td>40.66949</td><td>-73.962386</td></tr><tr><td>225 Madison Ave, New York City, NY 10016</td><td>The Morgan Library & Museum</td><td>https://www.themorgan.org/</td><td>40.749184</td><td>-73.981544</td></tr><tr><td>31 Centre St, New York City, NY, 10007</td><td>City Hall Station</td><td>null</td><td>40.714077</td><td>-74.003046</td></tr><tr><td>30 Lincoln Center Plaza, New York City, NY 10023</td><td>Metropolitan Opera House</td><td>null</td><td>40.772779</td><td>-73.98387</td></tr><tr><td>4 Cortlandt Alley, New York, NY 10013</td><td>Mmuseumm</td><td>https://www.mmuseumm.com/</td><td>40.717498</td><td>-74.00271</td></tr><tr><td>Wall Street, New York City, NY 10005</td><td>Wall Street</td><td>null</td><td>40.706426</td><td>-74.009476</td></tr><tr><td>90 Kent Ave, Brooklyn, NY 11211</td><td>Smorgasburg Williamsburg</td><td>null</td><td>40.721499</td><td>-73.96089</td></tr><tr><td>58 Warren St, New York, NY 10007</td><td>Mysterious Bookshop</td><td>null</td><td>40.714946</td><td>-74.009227</td></tr><tr><td>103 Orchard St, New York, NY 10002</td><td>Tenement Museum</td><td>https://www.tenement.org/</td><td>40.718707</td><td>-73.990088</td></tr><tr><td>Pier 86, W 46th St, New York, NY 10036</td><td>Intrepid Sea, Air & Space Museum</td><td>https://www.intrepidmuseum.org/</td><td>40.764608</td><td>-73.999096</td></tr><tr><td>29 E 4th St, New York, NY 10003</td><td>Merchant's House Museum</td><td>https://www.merchantshouse.org/</td><td>40.727639</td><td>-73.992406</td></tr><tr><td>New York, NY 10004</td><td>Battery Park</td><td>null</td><td>40.703848</td><td>-74.013834</td></tr><tr><td>2 E 91st St, New York, NY 10128</td><td>Cooper-Hewitt, Smithsonian Design Museum</td><td>https://www.cooperhewitt.org/</td><td>40.78428</td><td>-73.957813</td></tr><tr><td>E Rd, New York, NY 10044</td><td>Roosevelt Island Smallpox Hospital Ruins</td><td>null</td><td>40.760637</td><td>-73.949493</td></tr></tbody></table></div>"
      ]
     },
     "metadata": {
      "application/vnd.databricks.v1+output": {
       "addedWidgets": {},
       "aggData": [],
       "aggError": "",
       "aggOverflow": false,
       "aggSchema": [],
       "aggSeriesLimitReached": false,
       "aggType": "",
       "arguments": {},
       "columnCustomDisplayInfos": {},
       "data": [
        [
         "14 E 60th St, Central Park Conservancy, New York City, NY 10022",
         "Central Park",
         "https://www.centralparknyc.org",
         40.764321,
         -73.97182
        ],
        [
         "20 W 34th St, New York City, NY 10001",
         "Empire State Building",
         "https://www.esbnyc.com",
         40.748745,
         -73.985709
        ],
        [
         "Liberty Island, New York City, NY 10004",
         "Statue of Liberty",
         "https://www.nps.gov/stli/index.htm",
         40.689555,
         -74.044949
        ],
        [
         "Manhattan, NY 10036",
         "Times Square",
         null,
         40.760249,
         -73.99329
        ],
        [
         "Theater District, New York City, NY 10019",
         "Broadway and the Theater District",
         "https://www.broadway.org/",
         40.758984,
         -73.984473
        ],
        [
         "5th Ave, New York City, NY 10018",
         "Fifth Avenue",
         "https://www.flickr.com/photos/mariya_umama_wethemba_monastery",
         40.751332,
         -73.982482
        ],
        [
         "45 Rockefeller Plaza, New York City, NY 10111",
         "Rockefeller Center and Top of the Rock Observation Deck",
         "https://www.rockefellercenter.com",
         40.759126,
         -73.977693
        ],
        [
         "89 E 42nd St, New York City, NY 10017",
         "Grand Central Terminal",
         "https://www.grandcentralterminal.com",
         40.752741,
         -73.977216
        ],
        [
         "1000 5th Ave, New York City, NY 10028",
         "The Metropolitan Museum of Art",
         "https://www.metmuseum.org",
         40.779444,
         -73.963401
        ],
        [
         "180 Greenwich St, New York City, NY 10007",
         "National September 11 Memorial & Museum",
         "https://www.911memorial.org",
         40.711506,
         -74.012484
        ],
        [
         "200 Central Park West, New York City, NY 10024",
         "American Museum of Natural History",
         "https://www.amnh.org/",
         40.781292,
         -73.973839
        ],
        [
         "11 W 53rd St, New York City, NY 10019",
         "Museum of Modern Art",
         "https://www.moma.org/",
         40.761332,
         -73.977382
        ],
        [
         "New York City, NY 10011",
         "The High Line",
         "https://www.thehighline.org/",
         40.746514,
         -74.009467
        ],
        [
         "5th Ave, New York City, NY 10022",
         "St. Patrick's Cathedral",
         "https://www.saintpatrickscathedral.org/",
         40.7612,
         -73.975267
        ],
        [
         "Brooklyn Bridge, New York City, NY 10038",
         "Brooklyn Bridge",
         null,
         40.706069,
         -73.99685
        ],
        [
         "New York City, NY 10018",
         "Bryant Park",
         null,
         40.755342,
         -73.99329
        ],
        [
         "117 West St, New York City, NY 10006",
         "One World Observatory",
         null,
         40.712983,
         -74.013154
        ],
        [
         "1208 Surf Ave, Brooklyn, NY 11224",
         "Coney Island & Amusement Park",
         null,
         40.575309,
         -73.979902
        ],
        [
         "2900 Southern Blvd, Bronx, NY 10458",
         "New York Botanical Garden",
         "https://www.nybg.org/",
         40.865472,
         -73.881801
        ],
        [
         "1260 6th Ave, New York City, NY 10020",
         "Radio City Music Hall",
         null,
         40.759972,
         -73.980055
        ],
        [
         "99 Margaret Corbin Dr, New York City, NY 10040",
         "The Met Cloisters",
         null,
         40.861879,
         -73.932954
        ],
        [
         null,
         "New York Public Library",
         "https://www.nypl.org/",
         null,
         null
        ],
        [
         "1 E 70th St, New York City, NY 10021",
         "Frick Collection",
         "https://www.frick.org/",
         40.771366,
         -73.967244
        ],
        [
         "Brooklyn, NY",
         "Prospect Park",
         null,
         40.678153,
         -73.94416
        ],
        [
         "2300 Southern Blvd, Bronx, NY 10460",
         "Bronx Zoo",
         "https://www.bronxzoo.com/",
         40.850121,
         -73.882529
        ],
        [
         "Governor’s Island, Upper New York Bay, New York City",
         "Governors Island",
         null,
         40.689458,
         -74.016803
        ],
        [
         "Union Square W &, E 17th St, New York City, NY 10003",
         "Union Square and Union Square Greenmarket",
         null,
         40.737138,
         -73.990376
        ],
        [
         "1071 5th Ave, New York, NY 10128",
         "Solomon R. Guggenheim Museum",
         "https://www.guggenheim.org/",
         40.783187,
         -73.958789
        ],
        [
         "Washington Square, New York City, NY 10012",
         "Washington Square Park",
         null,
         40.730862,
         -73.997323
        ],
        [
         "99 Gansevoort St, New York City, NY 10014",
         "Whitney Museum of American Art",
         "https://www.whitney.org/",
         40.739508,
         -74.009146
        ],
        [
         "405 Lexington Ave, New York City, NY 10174",
         "Chrysler Building",
         null,
         40.751705,
         -73.975598
        ],
        [
         "Ellis Island Bridge, Jersey City, NJ 10280",
         "Ellis Island National Museum of Immigration",
         null,
         40.701352,
         -74.04295
        ],
        [
         "45 E 42nd St, New York City, NY 10017",
         "Summit One Vanderbilt",
         null,
         40.752951,
         -73.976857
        ],
        [
         "99 Schermerhorn St, Brooklyn, NY 11201",
         "New York Transit Museum",
         null,
         40.690594,
         -73.990082
        ],
        [
         "Montague St &, Pierrepont Pl, Brooklyn, NY 11201",
         "Brooklyn Heights Promenade",
         null,
         40.695609,
         -73.997379
        ],
        [
         "215 Centre St, New York City, NY 10013",
         "Museum of Chinese in America",
         "https://www.mocanyc.org/",
         40.719478,
         -73.999195
        ],
        [
         "990 Washington Ave, Brooklyn, NY 11225",
         "Brooklyn Botanic Garden",
         "https://www.bbg.org/",
         40.66949,
         -73.962386
        ],
        [
         "225 Madison Ave, New York City, NY 10016",
         "The Morgan Library & Museum",
         "https://www.themorgan.org/",
         40.749184,
         -73.981544
        ],
        [
         "31 Centre St, New York City, NY, 10007",
         "City Hall Station",
         null,
         40.714077,
         -74.003046
        ],
        [
         "30 Lincoln Center Plaza, New York City, NY 10023",
         "Metropolitan Opera House",
         null,
         40.772779,
         -73.98387
        ],
        [
         "4 Cortlandt Alley, New York, NY 10013",
         "Mmuseumm",
         "https://www.mmuseumm.com/",
         40.717498,
         -74.00271
        ],
        [
         "Wall Street, New York City, NY 10005",
         "Wall Street",
         null,
         40.706426,
         -74.009476
        ],
        [
         "90 Kent Ave, Brooklyn, NY 11211",
         "Smorgasburg Williamsburg",
         null,
         40.721499,
         -73.96089
        ],
        [
         "58 Warren St, New York, NY 10007",
         "Mysterious Bookshop",
         null,
         40.714946,
         -74.009227
        ],
        [
         "103 Orchard St, New York, NY 10002",
         "Tenement Museum",
         "https://www.tenement.org/",
         40.718707,
         -73.990088
        ],
        [
         "Pier 86, W 46th St, New York, NY 10036",
         "Intrepid Sea, Air & Space Museum",
         "https://www.intrepidmuseum.org/",
         40.764608,
         -73.999096
        ],
        [
         "29 E 4th St, New York, NY 10003",
         "Merchant's House Museum",
         "https://www.merchantshouse.org/",
         40.727639,
         -73.992406
        ],
        [
         "New York, NY 10004",
         "Battery Park",
         null,
         40.703848,
         -74.013834
        ],
        [
         "2 E 91st St, New York, NY 10128",
         "Cooper-Hewitt, Smithsonian Design Museum",
         "https://www.cooperhewitt.org/",
         40.78428,
         -73.957813
        ],
        [
         "E Rd, New York, NY 10044",
         "Roosevelt Island Smallpox Hospital Ruins",
         null,
         40.760637,
         -73.949493
        ]
       ],
       "datasetInfos": [],
       "dbfsResultPath": null,
       "isJsonSchema": true,
       "metadata": {},
       "overflow": false,
       "plotOptions": {
        "customPlotOptions": {},
        "displayType": "table",
        "pivotAggregation": null,
        "pivotColumns": null,
        "xColumns": null,
        "yColumns": null
       },
       "removedWidgets": [],
       "schema": [
        {
         "metadata": "{}",
         "name": "Address",
         "type": "\"string\""
        },
        {
         "metadata": "{}",
         "name": "Attraction",
         "type": "\"string\""
        },
        {
         "metadata": "{}",
         "name": "Website",
         "type": "\"string\""
        },
        {
         "metadata": "{}",
         "name": "latitude",
         "type": "\"double\""
        },
        {
         "metadata": "{}",
         "name": "longitude",
         "type": "\"double\""
        }
       ],
       "type": "table"
      }
     },
     "output_type": "display_data"
    }
   ],
   "source": [
    "touristdf = spark.createDataFrame(locscopy)\n",
    "display(touristdf)\n",
    "import pandas as pd\n",
    "touristdf = touristdf.toPandas()"
   ]
  },
  {
   "cell_type": "code",
   "execution_count": 0,
   "metadata": {
    "application/vnd.databricks.v1+cell": {
     "cellMetadata": {
      "byteLimit": 2048000,
      "rowLimit": 10000
     },
     "inputWidgets": {},
     "nuid": "973d1900-0ff3-4ba7-8e0d-ec94d86dc6eb",
     "showTitle": false,
     "title": ""
    }
   },
   "outputs": [],
   "source": []
  },
  {
   "cell_type": "code",
   "execution_count": 0,
   "metadata": {
    "application/vnd.databricks.v1+cell": {
     "cellMetadata": {
      "byteLimit": 2048000,
      "rowLimit": 10000
     },
     "inputWidgets": {},
     "nuid": "74007484-8dee-4c84-a135-a148890075c2",
     "showTitle": false,
     "title": ""
    }
   },
   "outputs": [
    {
     "output_type": "display_data",
     "data": {
      "text/html": [
       "<style scoped>\n",
       "  .table-result-container {\n",
       "    max-height: 300px;\n",
       "    overflow: auto;\n",
       "  }\n",
       "  table, th, td {\n",
       "    border: 1px solid black;\n",
       "    border-collapse: collapse;\n",
       "  }\n",
       "  th, td {\n",
       "    padding: 5px;\n",
       "  }\n",
       "  th {\n",
       "    text-align: left;\n",
       "  }\n",
       "</style><div class='table-result-container'><table class='table-result'><thead style='background-color: white'><tr><th>Address</th><th>Attraction</th><th>Website</th><th>latitude</th><th>longitude</th></tr></thead><tbody><tr><td>14 E 60th St, Central Park Conservancy, New York City, NY 10022</td><td>Central Park</td><td>https://www.centralparknyc.org</td><td>40.764321</td><td>-73.97182</td></tr><tr><td>20 W 34th St, New York City, NY 10001</td><td>Empire State Building</td><td>https://www.esbnyc.com</td><td>40.748745</td><td>-73.985709</td></tr><tr><td>Liberty Island, New York City, NY 10004</td><td>Statue of Liberty</td><td>https://www.nps.gov/stli/index.htm</td><td>40.689555</td><td>-74.044949</td></tr><tr><td>Manhattan, NY 10036</td><td>Times Square</td><td>null</td><td>40.760249</td><td>-73.99329</td></tr><tr><td>Theater District, New York City, NY 10019</td><td>Broadway and the Theater District</td><td>https://www.broadway.org/</td><td>40.758984</td><td>-73.984473</td></tr><tr><td>5th Ave, New York City, NY 10018</td><td>Fifth Avenue</td><td>https://www.flickr.com/photos/mariya_umama_wethemba_monastery</td><td>40.751332</td><td>-73.982482</td></tr><tr><td>45 Rockefeller Plaza, New York City, NY 10111</td><td>Rockefeller Center and Top of the Rock Observation Deck</td><td>https://www.rockefellercenter.com</td><td>40.759126</td><td>-73.977693</td></tr><tr><td>89 E 42nd St, New York City, NY 10017</td><td>Grand Central Terminal</td><td>https://www.grandcentralterminal.com</td><td>40.752741</td><td>-73.977216</td></tr><tr><td>1000 5th Ave, New York City, NY 10028</td><td>The Metropolitan Museum of Art</td><td>https://www.metmuseum.org</td><td>40.779444</td><td>-73.963401</td></tr><tr><td>180 Greenwich St, New York City, NY 10007</td><td>National September 11 Memorial & Museum</td><td>https://www.911memorial.org</td><td>40.711506</td><td>-74.012484</td></tr><tr><td>200 Central Park West, New York City, NY 10024</td><td>American Museum of Natural History</td><td>https://www.amnh.org/</td><td>40.781292</td><td>-73.973839</td></tr><tr><td>11 W 53rd St, New York City, NY 10019</td><td>Museum of Modern Art</td><td>https://www.moma.org/</td><td>40.761332</td><td>-73.977382</td></tr><tr><td>New York City, NY 10011</td><td>The High Line</td><td>https://www.thehighline.org/</td><td>40.746514</td><td>-74.009467</td></tr><tr><td>5th Ave, New York City, NY 10022</td><td>St. Patrick's Cathedral</td><td>https://www.saintpatrickscathedral.org/</td><td>40.7612</td><td>-73.975267</td></tr><tr><td>Brooklyn Bridge, New York City, NY 10038</td><td>Brooklyn Bridge</td><td>null</td><td>40.706069</td><td>-73.99685</td></tr><tr><td>New York City, NY 10018</td><td>Bryant Park</td><td>null</td><td>40.755342</td><td>-73.99329</td></tr><tr><td>117 West St, New York City, NY 10006</td><td>One World Observatory</td><td>null</td><td>40.712983</td><td>-74.013154</td></tr><tr><td>1208 Surf Ave, Brooklyn, NY 11224</td><td>Coney Island & Amusement Park</td><td>null</td><td>40.575309</td><td>-73.979902</td></tr><tr><td>2900 Southern Blvd, Bronx, NY 10458</td><td>New York Botanical Garden</td><td>https://www.nybg.org/</td><td>40.865472</td><td>-73.881801</td></tr><tr><td>1260 6th Ave, New York City, NY 10020</td><td>Radio City Music Hall</td><td>null</td><td>40.759972</td><td>-73.980055</td></tr><tr><td>99 Margaret Corbin Dr, New York City, NY 10040</td><td>The Met Cloisters</td><td>null</td><td>40.861879</td><td>-73.932954</td></tr><tr><td>null</td><td>New York Public Library</td><td>https://www.nypl.org/</td><td>null</td><td>null</td></tr><tr><td>1 E 70th St, New York City, NY 10021</td><td>Frick Collection</td><td>https://www.frick.org/</td><td>40.771366</td><td>-73.967244</td></tr><tr><td>Brooklyn, NY</td><td>Prospect Park</td><td>null</td><td>40.678153</td><td>-73.94416</td></tr><tr><td>2300 Southern Blvd, Bronx, NY 10460</td><td>Bronx Zoo</td><td>https://www.bronxzoo.com/</td><td>40.850121</td><td>-73.882529</td></tr><tr><td>Governor’s Island, Upper New York Bay, New York City</td><td>Governors Island</td><td>null</td><td>40.689458</td><td>-74.016803</td></tr><tr><td>Union Square W &, E 17th St, New York City, NY 10003</td><td>Union Square and Union Square Greenmarket</td><td>null</td><td>40.737138</td><td>-73.990376</td></tr><tr><td>1071 5th Ave, New York, NY 10128</td><td>Solomon R. Guggenheim Museum</td><td>https://www.guggenheim.org/</td><td>40.783187</td><td>-73.958789</td></tr><tr><td>Washington Square, New York City, NY 10012</td><td>Washington Square Park</td><td>null</td><td>40.730862</td><td>-73.997323</td></tr><tr><td>99 Gansevoort St, New York City, NY 10014</td><td>Whitney Museum of American Art</td><td>https://www.whitney.org/</td><td>40.739508</td><td>-74.009146</td></tr><tr><td>405 Lexington Ave, New York City, NY 10174</td><td>Chrysler Building</td><td>null</td><td>40.751705</td><td>-73.975598</td></tr><tr><td>Ellis Island Bridge, Jersey City, NJ 10280</td><td>Ellis Island National Museum of Immigration</td><td>null</td><td>40.701352</td><td>-74.04295</td></tr><tr><td>45 E 42nd St, New York City, NY 10017</td><td>Summit One Vanderbilt</td><td>null</td><td>40.752951</td><td>-73.976857</td></tr><tr><td>99 Schermerhorn St, Brooklyn, NY 11201</td><td>New York Transit Museum</td><td>null</td><td>40.690594</td><td>-73.990082</td></tr><tr><td>Montague St &, Pierrepont Pl, Brooklyn, NY 11201</td><td>Brooklyn Heights Promenade</td><td>null</td><td>40.695609</td><td>-73.997379</td></tr><tr><td>215 Centre St, New York City, NY 10013</td><td>Museum of Chinese in America</td><td>https://www.mocanyc.org/</td><td>40.719478</td><td>-73.999195</td></tr><tr><td>990 Washington Ave, Brooklyn, NY 11225</td><td>Brooklyn Botanic Garden</td><td>https://www.bbg.org/</td><td>40.66949</td><td>-73.962386</td></tr><tr><td>225 Madison Ave, New York City, NY 10016</td><td>The Morgan Library & Museum</td><td>https://www.themorgan.org/</td><td>40.749184</td><td>-73.981544</td></tr><tr><td>31 Centre St, New York City, NY, 10007</td><td>City Hall Station</td><td>null</td><td>40.714077</td><td>-74.003046</td></tr><tr><td>30 Lincoln Center Plaza, New York City, NY 10023</td><td>Metropolitan Opera House</td><td>null</td><td>40.772779</td><td>-73.98387</td></tr><tr><td>4 Cortlandt Alley, New York, NY 10013</td><td>Mmuseumm</td><td>https://www.mmuseumm.com/</td><td>40.717498</td><td>-74.00271</td></tr><tr><td>Wall Street, New York City, NY 10005</td><td>Wall Street</td><td>null</td><td>40.706426</td><td>-74.009476</td></tr><tr><td>90 Kent Ave, Brooklyn, NY 11211</td><td>Smorgasburg Williamsburg</td><td>null</td><td>40.721499</td><td>-73.96089</td></tr><tr><td>58 Warren St, New York, NY 10007</td><td>Mysterious Bookshop</td><td>null</td><td>40.714946</td><td>-74.009227</td></tr><tr><td>103 Orchard St, New York, NY 10002</td><td>Tenement Museum</td><td>https://www.tenement.org/</td><td>40.718707</td><td>-73.990088</td></tr><tr><td>Pier 86, W 46th St, New York, NY 10036</td><td>Intrepid Sea, Air & Space Museum</td><td>https://www.intrepidmuseum.org/</td><td>40.764608</td><td>-73.999096</td></tr><tr><td>29 E 4th St, New York, NY 10003</td><td>Merchant's House Museum</td><td>https://www.merchantshouse.org/</td><td>40.727639</td><td>-73.992406</td></tr><tr><td>New York, NY 10004</td><td>Battery Park</td><td>null</td><td>40.703848</td><td>-74.013834</td></tr><tr><td>2 E 91st St, New York, NY 10128</td><td>Cooper-Hewitt, Smithsonian Design Museum</td><td>https://www.cooperhewitt.org/</td><td>40.78428</td><td>-73.957813</td></tr><tr><td>E Rd, New York, NY 10044</td><td>Roosevelt Island Smallpox Hospital Ruins</td><td>null</td><td>40.760637</td><td>-73.949493</td></tr></tbody></table></div>"
      ]
     },
     "metadata": {
      "application/vnd.databricks.v1+output": {
       "addedWidgets": {},
       "aggData": [],
       "aggError": "",
       "aggOverflow": false,
       "aggSchema": [],
       "aggSeriesLimitReached": false,
       "aggType": "",
       "arguments": {},
       "columnCustomDisplayInfos": {},
       "data": [
        [
         "14 E 60th St, Central Park Conservancy, New York City, NY 10022",
         "Central Park",
         "https://www.centralparknyc.org",
         40.764321,
         -73.97182
        ],
        [
         "20 W 34th St, New York City, NY 10001",
         "Empire State Building",
         "https://www.esbnyc.com",
         40.748745,
         -73.985709
        ],
        [
         "Liberty Island, New York City, NY 10004",
         "Statue of Liberty",
         "https://www.nps.gov/stli/index.htm",
         40.689555,
         -74.044949
        ],
        [
         "Manhattan, NY 10036",
         "Times Square",
         null,
         40.760249,
         -73.99329
        ],
        [
         "Theater District, New York City, NY 10019",
         "Broadway and the Theater District",
         "https://www.broadway.org/",
         40.758984,
         -73.984473
        ],
        [
         "5th Ave, New York City, NY 10018",
         "Fifth Avenue",
         "https://www.flickr.com/photos/mariya_umama_wethemba_monastery",
         40.751332,
         -73.982482
        ],
        [
         "45 Rockefeller Plaza, New York City, NY 10111",
         "Rockefeller Center and Top of the Rock Observation Deck",
         "https://www.rockefellercenter.com",
         40.759126,
         -73.977693
        ],
        [
         "89 E 42nd St, New York City, NY 10017",
         "Grand Central Terminal",
         "https://www.grandcentralterminal.com",
         40.752741,
         -73.977216
        ],
        [
         "1000 5th Ave, New York City, NY 10028",
         "The Metropolitan Museum of Art",
         "https://www.metmuseum.org",
         40.779444,
         -73.963401
        ],
        [
         "180 Greenwich St, New York City, NY 10007",
         "National September 11 Memorial & Museum",
         "https://www.911memorial.org",
         40.711506,
         -74.012484
        ],
        [
         "200 Central Park West, New York City, NY 10024",
         "American Museum of Natural History",
         "https://www.amnh.org/",
         40.781292,
         -73.973839
        ],
        [
         "11 W 53rd St, New York City, NY 10019",
         "Museum of Modern Art",
         "https://www.moma.org/",
         40.761332,
         -73.977382
        ],
        [
         "New York City, NY 10011",
         "The High Line",
         "https://www.thehighline.org/",
         40.746514,
         -74.009467
        ],
        [
         "5th Ave, New York City, NY 10022",
         "St. Patrick's Cathedral",
         "https://www.saintpatrickscathedral.org/",
         40.7612,
         -73.975267
        ],
        [
         "Brooklyn Bridge, New York City, NY 10038",
         "Brooklyn Bridge",
         null,
         40.706069,
         -73.99685
        ],
        [
         "New York City, NY 10018",
         "Bryant Park",
         null,
         40.755342,
         -73.99329
        ],
        [
         "117 West St, New York City, NY 10006",
         "One World Observatory",
         null,
         40.712983,
         -74.013154
        ],
        [
         "1208 Surf Ave, Brooklyn, NY 11224",
         "Coney Island & Amusement Park",
         null,
         40.575309,
         -73.979902
        ],
        [
         "2900 Southern Blvd, Bronx, NY 10458",
         "New York Botanical Garden",
         "https://www.nybg.org/",
         40.865472,
         -73.881801
        ],
        [
         "1260 6th Ave, New York City, NY 10020",
         "Radio City Music Hall",
         null,
         40.759972,
         -73.980055
        ],
        [
         "99 Margaret Corbin Dr, New York City, NY 10040",
         "The Met Cloisters",
         null,
         40.861879,
         -73.932954
        ],
        [
         null,
         "New York Public Library",
         "https://www.nypl.org/",
         null,
         null
        ],
        [
         "1 E 70th St, New York City, NY 10021",
         "Frick Collection",
         "https://www.frick.org/",
         40.771366,
         -73.967244
        ],
        [
         "Brooklyn, NY",
         "Prospect Park",
         null,
         40.678153,
         -73.94416
        ],
        [
         "2300 Southern Blvd, Bronx, NY 10460",
         "Bronx Zoo",
         "https://www.bronxzoo.com/",
         40.850121,
         -73.882529
        ],
        [
         "Governor’s Island, Upper New York Bay, New York City",
         "Governors Island",
         null,
         40.689458,
         -74.016803
        ],
        [
         "Union Square W &, E 17th St, New York City, NY 10003",
         "Union Square and Union Square Greenmarket",
         null,
         40.737138,
         -73.990376
        ],
        [
         "1071 5th Ave, New York, NY 10128",
         "Solomon R. Guggenheim Museum",
         "https://www.guggenheim.org/",
         40.783187,
         -73.958789
        ],
        [
         "Washington Square, New York City, NY 10012",
         "Washington Square Park",
         null,
         40.730862,
         -73.997323
        ],
        [
         "99 Gansevoort St, New York City, NY 10014",
         "Whitney Museum of American Art",
         "https://www.whitney.org/",
         40.739508,
         -74.009146
        ],
        [
         "405 Lexington Ave, New York City, NY 10174",
         "Chrysler Building",
         null,
         40.751705,
         -73.975598
        ],
        [
         "Ellis Island Bridge, Jersey City, NJ 10280",
         "Ellis Island National Museum of Immigration",
         null,
         40.701352,
         -74.04295
        ],
        [
         "45 E 42nd St, New York City, NY 10017",
         "Summit One Vanderbilt",
         null,
         40.752951,
         -73.976857
        ],
        [
         "99 Schermerhorn St, Brooklyn, NY 11201",
         "New York Transit Museum",
         null,
         40.690594,
         -73.990082
        ],
        [
         "Montague St &, Pierrepont Pl, Brooklyn, NY 11201",
         "Brooklyn Heights Promenade",
         null,
         40.695609,
         -73.997379
        ],
        [
         "215 Centre St, New York City, NY 10013",
         "Museum of Chinese in America",
         "https://www.mocanyc.org/",
         40.719478,
         -73.999195
        ],
        [
         "990 Washington Ave, Brooklyn, NY 11225",
         "Brooklyn Botanic Garden",
         "https://www.bbg.org/",
         40.66949,
         -73.962386
        ],
        [
         "225 Madison Ave, New York City, NY 10016",
         "The Morgan Library & Museum",
         "https://www.themorgan.org/",
         40.749184,
         -73.981544
        ],
        [
         "31 Centre St, New York City, NY, 10007",
         "City Hall Station",
         null,
         40.714077,
         -74.003046
        ],
        [
         "30 Lincoln Center Plaza, New York City, NY 10023",
         "Metropolitan Opera House",
         null,
         40.772779,
         -73.98387
        ],
        [
         "4 Cortlandt Alley, New York, NY 10013",
         "Mmuseumm",
         "https://www.mmuseumm.com/",
         40.717498,
         -74.00271
        ],
        [
         "Wall Street, New York City, NY 10005",
         "Wall Street",
         null,
         40.706426,
         -74.009476
        ],
        [
         "90 Kent Ave, Brooklyn, NY 11211",
         "Smorgasburg Williamsburg",
         null,
         40.721499,
         -73.96089
        ],
        [
         "58 Warren St, New York, NY 10007",
         "Mysterious Bookshop",
         null,
         40.714946,
         -74.009227
        ],
        [
         "103 Orchard St, New York, NY 10002",
         "Tenement Museum",
         "https://www.tenement.org/",
         40.718707,
         -73.990088
        ],
        [
         "Pier 86, W 46th St, New York, NY 10036",
         "Intrepid Sea, Air & Space Museum",
         "https://www.intrepidmuseum.org/",
         40.764608,
         -73.999096
        ],
        [
         "29 E 4th St, New York, NY 10003",
         "Merchant's House Museum",
         "https://www.merchantshouse.org/",
         40.727639,
         -73.992406
        ],
        [
         "New York, NY 10004",
         "Battery Park",
         null,
         40.703848,
         -74.013834
        ],
        [
         "2 E 91st St, New York, NY 10128",
         "Cooper-Hewitt, Smithsonian Design Museum",
         "https://www.cooperhewitt.org/",
         40.78428,
         -73.957813
        ],
        [
         "E Rd, New York, NY 10044",
         "Roosevelt Island Smallpox Hospital Ruins",
         null,
         40.760637,
         -73.949493
        ]
       ],
       "datasetInfos": [],
       "dbfsResultPath": null,
       "isJsonSchema": true,
       "metadata": {},
       "overflow": false,
       "plotOptions": {
        "customPlotOptions": {},
        "displayType": "table",
        "pivotAggregation": null,
        "pivotColumns": null,
        "xColumns": null,
        "yColumns": null
       },
       "removedWidgets": [],
       "schema": [
        {
         "metadata": "{}",
         "name": "Address",
         "type": "\"string\""
        },
        {
         "metadata": "{}",
         "name": "Attraction",
         "type": "\"string\""
        },
        {
         "metadata": "{}",
         "name": "Website",
         "type": "\"string\""
        },
        {
         "metadata": "{}",
         "name": "latitude",
         "type": "\"double\""
        },
        {
         "metadata": "{}",
         "name": "longitude",
         "type": "\"double\""
        }
       ],
       "type": "table"
      }
     },
     "output_type": "display_data"
    },
    {
     "output_type": "display_data",
     "data": {
      "text/html": [
       "<style scoped>\n",
       "  .table-result-container {\n",
       "    max-height: 300px;\n",
       "    overflow: auto;\n",
       "  }\n",
       "  table, th, td {\n",
       "    border: 1px solid black;\n",
       "    border-collapse: collapse;\n",
       "  }\n",
       "  th, td {\n",
       "    padding: 5px;\n",
       "  }\n",
       "  th {\n",
       "    text-align: left;\n",
       "  }\n",
       "</style><div class='table-result-container'><table class='table-result'><thead style='background-color: white'><tr><th>Address</th><th>Attraction</th><th>Website</th><th>latitude</th><th>longitude</th><th>Zipcode</th></tr></thead><tbody><tr><td>14 E 60th St, Central Park Conservancy, New York City, NY 10022</td><td>Central Park</td><td>https://www.centralparknyc.org</td><td>40.764321</td><td>-73.97182</td><td>10022</td></tr><tr><td>20 W 34th St, New York City, NY 10001</td><td>Empire State Building</td><td>https://www.esbnyc.com</td><td>40.748745</td><td>-73.985709</td><td>10001</td></tr><tr><td>Liberty Island, New York City, NY 10004</td><td>Statue of Liberty</td><td>https://www.nps.gov/stli/index.htm</td><td>40.689555</td><td>-74.044949</td><td>10004</td></tr><tr><td>Manhattan, NY 10036</td><td>Times Square</td><td>null</td><td>40.760249</td><td>-73.99329</td><td>10036</td></tr><tr><td>Theater District, New York City, NY 10019</td><td>Broadway and the Theater District</td><td>https://www.broadway.org/</td><td>40.758984</td><td>-73.984473</td><td>10019</td></tr><tr><td>5th Ave, New York City, NY 10018</td><td>Fifth Avenue</td><td>https://www.flickr.com/photos/mariya_umama_wethemba_monastery</td><td>40.751332</td><td>-73.982482</td><td>10018</td></tr><tr><td>45 Rockefeller Plaza, New York City, NY 10111</td><td>Rockefeller Center and Top of the Rock Observation Deck</td><td>https://www.rockefellercenter.com</td><td>40.759126</td><td>-73.977693</td><td>10111</td></tr><tr><td>89 E 42nd St, New York City, NY 10017</td><td>Grand Central Terminal</td><td>https://www.grandcentralterminal.com</td><td>40.752741</td><td>-73.977216</td><td>10017</td></tr><tr><td>1000 5th Ave, New York City, NY 10028</td><td>The Metropolitan Museum of Art</td><td>https://www.metmuseum.org</td><td>40.779444</td><td>-73.963401</td><td>10028</td></tr><tr><td>180 Greenwich St, New York City, NY 10007</td><td>National September 11 Memorial & Museum</td><td>https://www.911memorial.org</td><td>40.711506</td><td>-74.012484</td><td>10007</td></tr><tr><td>200 Central Park West, New York City, NY 10024</td><td>American Museum of Natural History</td><td>https://www.amnh.org/</td><td>40.781292</td><td>-73.973839</td><td>10024</td></tr><tr><td>11 W 53rd St, New York City, NY 10019</td><td>Museum of Modern Art</td><td>https://www.moma.org/</td><td>40.761332</td><td>-73.977382</td><td>10019</td></tr><tr><td>New York City, NY 10011</td><td>The High Line</td><td>https://www.thehighline.org/</td><td>40.746514</td><td>-74.009467</td><td>10011</td></tr><tr><td>5th Ave, New York City, NY 10022</td><td>St. Patrick's Cathedral</td><td>https://www.saintpatrickscathedral.org/</td><td>40.7612</td><td>-73.975267</td><td>10022</td></tr><tr><td>Brooklyn Bridge, New York City, NY 10038</td><td>Brooklyn Bridge</td><td>null</td><td>40.706069</td><td>-73.99685</td><td>10038</td></tr><tr><td>New York City, NY 10018</td><td>Bryant Park</td><td>null</td><td>40.755342</td><td>-73.99329</td><td>10018</td></tr><tr><td>117 West St, New York City, NY 10006</td><td>One World Observatory</td><td>null</td><td>40.712983</td><td>-74.013154</td><td>10006</td></tr><tr><td>1208 Surf Ave, Brooklyn, NY 11224</td><td>Coney Island & Amusement Park</td><td>null</td><td>40.575309</td><td>-73.979902</td><td>11224</td></tr><tr><td>2900 Southern Blvd, Bronx, NY 10458</td><td>New York Botanical Garden</td><td>https://www.nybg.org/</td><td>40.865472</td><td>-73.881801</td><td>10458</td></tr><tr><td>1260 6th Ave, New York City, NY 10020</td><td>Radio City Music Hall</td><td>null</td><td>40.759972</td><td>-73.980055</td><td>10020</td></tr><tr><td>99 Margaret Corbin Dr, New York City, NY 10040</td><td>The Met Cloisters</td><td>null</td><td>40.861879</td><td>-73.932954</td><td>10040</td></tr><tr><td>null</td><td>New York Public Library</td><td>https://www.nypl.org/</td><td>null</td><td>null</td><td>null</td></tr><tr><td>1 E 70th St, New York City, NY 10021</td><td>Frick Collection</td><td>https://www.frick.org/</td><td>40.771366</td><td>-73.967244</td><td>10021</td></tr><tr><td>Brooklyn, NY</td><td>Prospect Park</td><td>null</td><td>40.678153</td><td>-73.94416</td><td>null</td></tr><tr><td>2300 Southern Blvd, Bronx, NY 10460</td><td>Bronx Zoo</td><td>https://www.bronxzoo.com/</td><td>40.850121</td><td>-73.882529</td><td>10460</td></tr><tr><td>Governor’s Island, Upper New York Bay, New York City</td><td>Governors Island</td><td>null</td><td>40.689458</td><td>-74.016803</td><td>null</td></tr><tr><td>Union Square W &, E 17th St, New York City, NY 10003</td><td>Union Square and Union Square Greenmarket</td><td>null</td><td>40.737138</td><td>-73.990376</td><td>10003</td></tr><tr><td>1071 5th Ave, New York, NY 10128</td><td>Solomon R. Guggenheim Museum</td><td>https://www.guggenheim.org/</td><td>40.783187</td><td>-73.958789</td><td>10128</td></tr><tr><td>Washington Square, New York City, NY 10012</td><td>Washington Square Park</td><td>null</td><td>40.730862</td><td>-73.997323</td><td>10012</td></tr><tr><td>99 Gansevoort St, New York City, NY 10014</td><td>Whitney Museum of American Art</td><td>https://www.whitney.org/</td><td>40.739508</td><td>-74.009146</td><td>10014</td></tr><tr><td>405 Lexington Ave, New York City, NY 10174</td><td>Chrysler Building</td><td>null</td><td>40.751705</td><td>-73.975598</td><td>10174</td></tr><tr><td>Ellis Island Bridge, Jersey City, NJ 10280</td><td>Ellis Island National Museum of Immigration</td><td>null</td><td>40.701352</td><td>-74.04295</td><td>10280</td></tr><tr><td>45 E 42nd St, New York City, NY 10017</td><td>Summit One Vanderbilt</td><td>null</td><td>40.752951</td><td>-73.976857</td><td>10017</td></tr><tr><td>99 Schermerhorn St, Brooklyn, NY 11201</td><td>New York Transit Museum</td><td>null</td><td>40.690594</td><td>-73.990082</td><td>11201</td></tr><tr><td>Montague St &, Pierrepont Pl, Brooklyn, NY 11201</td><td>Brooklyn Heights Promenade</td><td>null</td><td>40.695609</td><td>-73.997379</td><td>11201</td></tr><tr><td>215 Centre St, New York City, NY 10013</td><td>Museum of Chinese in America</td><td>https://www.mocanyc.org/</td><td>40.719478</td><td>-73.999195</td><td>10013</td></tr><tr><td>990 Washington Ave, Brooklyn, NY 11225</td><td>Brooklyn Botanic Garden</td><td>https://www.bbg.org/</td><td>40.66949</td><td>-73.962386</td><td>11225</td></tr><tr><td>225 Madison Ave, New York City, NY 10016</td><td>The Morgan Library & Museum</td><td>https://www.themorgan.org/</td><td>40.749184</td><td>-73.981544</td><td>10016</td></tr><tr><td>31 Centre St, New York City, NY, 10007</td><td>City Hall Station</td><td>null</td><td>40.714077</td><td>-74.003046</td><td>10007</td></tr><tr><td>30 Lincoln Center Plaza, New York City, NY 10023</td><td>Metropolitan Opera House</td><td>null</td><td>40.772779</td><td>-73.98387</td><td>10023</td></tr><tr><td>4 Cortlandt Alley, New York, NY 10013</td><td>Mmuseumm</td><td>https://www.mmuseumm.com/</td><td>40.717498</td><td>-74.00271</td><td>10013</td></tr><tr><td>Wall Street, New York City, NY 10005</td><td>Wall Street</td><td>null</td><td>40.706426</td><td>-74.009476</td><td>10005</td></tr><tr><td>90 Kent Ave, Brooklyn, NY 11211</td><td>Smorgasburg Williamsburg</td><td>null</td><td>40.721499</td><td>-73.96089</td><td>11211</td></tr><tr><td>58 Warren St, New York, NY 10007</td><td>Mysterious Bookshop</td><td>null</td><td>40.714946</td><td>-74.009227</td><td>10007</td></tr><tr><td>103 Orchard St, New York, NY 10002</td><td>Tenement Museum</td><td>https://www.tenement.org/</td><td>40.718707</td><td>-73.990088</td><td>10002</td></tr><tr><td>Pier 86, W 46th St, New York, NY 10036</td><td>Intrepid Sea, Air & Space Museum</td><td>https://www.intrepidmuseum.org/</td><td>40.764608</td><td>-73.999096</td><td>10036</td></tr><tr><td>29 E 4th St, New York, NY 10003</td><td>Merchant's House Museum</td><td>https://www.merchantshouse.org/</td><td>40.727639</td><td>-73.992406</td><td>10003</td></tr><tr><td>New York, NY 10004</td><td>Battery Park</td><td>null</td><td>40.703848</td><td>-74.013834</td><td>10004</td></tr><tr><td>2 E 91st St, New York, NY 10128</td><td>Cooper-Hewitt, Smithsonian Design Museum</td><td>https://www.cooperhewitt.org/</td><td>40.78428</td><td>-73.957813</td><td>10128</td></tr><tr><td>E Rd, New York, NY 10044</td><td>Roosevelt Island Smallpox Hospital Ruins</td><td>null</td><td>40.760637</td><td>-73.949493</td><td>10044</td></tr></tbody></table></div>"
      ]
     },
     "metadata": {
      "application/vnd.databricks.v1+output": {
       "addedWidgets": {},
       "aggData": [],
       "aggError": "",
       "aggOverflow": false,
       "aggSchema": [],
       "aggSeriesLimitReached": false,
       "aggType": "",
       "arguments": {},
       "columnCustomDisplayInfos": {},
       "data": [
        [
         "14 E 60th St, Central Park Conservancy, New York City, NY 10022",
         "Central Park",
         "https://www.centralparknyc.org",
         40.764321,
         -73.97182,
         "10022"
        ],
        [
         "20 W 34th St, New York City, NY 10001",
         "Empire State Building",
         "https://www.esbnyc.com",
         40.748745,
         -73.985709,
         "10001"
        ],
        [
         "Liberty Island, New York City, NY 10004",
         "Statue of Liberty",
         "https://www.nps.gov/stli/index.htm",
         40.689555,
         -74.044949,
         "10004"
        ],
        [
         "Manhattan, NY 10036",
         "Times Square",
         null,
         40.760249,
         -73.99329,
         "10036"
        ],
        [
         "Theater District, New York City, NY 10019",
         "Broadway and the Theater District",
         "https://www.broadway.org/",
         40.758984,
         -73.984473,
         "10019"
        ],
        [
         "5th Ave, New York City, NY 10018",
         "Fifth Avenue",
         "https://www.flickr.com/photos/mariya_umama_wethemba_monastery",
         40.751332,
         -73.982482,
         "10018"
        ],
        [
         "45 Rockefeller Plaza, New York City, NY 10111",
         "Rockefeller Center and Top of the Rock Observation Deck",
         "https://www.rockefellercenter.com",
         40.759126,
         -73.977693,
         "10111"
        ],
        [
         "89 E 42nd St, New York City, NY 10017",
         "Grand Central Terminal",
         "https://www.grandcentralterminal.com",
         40.752741,
         -73.977216,
         "10017"
        ],
        [
         "1000 5th Ave, New York City, NY 10028",
         "The Metropolitan Museum of Art",
         "https://www.metmuseum.org",
         40.779444,
         -73.963401,
         "10028"
        ],
        [
         "180 Greenwich St, New York City, NY 10007",
         "National September 11 Memorial & Museum",
         "https://www.911memorial.org",
         40.711506,
         -74.012484,
         "10007"
        ],
        [
         "200 Central Park West, New York City, NY 10024",
         "American Museum of Natural History",
         "https://www.amnh.org/",
         40.781292,
         -73.973839,
         "10024"
        ],
        [
         "11 W 53rd St, New York City, NY 10019",
         "Museum of Modern Art",
         "https://www.moma.org/",
         40.761332,
         -73.977382,
         "10019"
        ],
        [
         "New York City, NY 10011",
         "The High Line",
         "https://www.thehighline.org/",
         40.746514,
         -74.009467,
         "10011"
        ],
        [
         "5th Ave, New York City, NY 10022",
         "St. Patrick's Cathedral",
         "https://www.saintpatrickscathedral.org/",
         40.7612,
         -73.975267,
         "10022"
        ],
        [
         "Brooklyn Bridge, New York City, NY 10038",
         "Brooklyn Bridge",
         null,
         40.706069,
         -73.99685,
         "10038"
        ],
        [
         "New York City, NY 10018",
         "Bryant Park",
         null,
         40.755342,
         -73.99329,
         "10018"
        ],
        [
         "117 West St, New York City, NY 10006",
         "One World Observatory",
         null,
         40.712983,
         -74.013154,
         "10006"
        ],
        [
         "1208 Surf Ave, Brooklyn, NY 11224",
         "Coney Island & Amusement Park",
         null,
         40.575309,
         -73.979902,
         "11224"
        ],
        [
         "2900 Southern Blvd, Bronx, NY 10458",
         "New York Botanical Garden",
         "https://www.nybg.org/",
         40.865472,
         -73.881801,
         "10458"
        ],
        [
         "1260 6th Ave, New York City, NY 10020",
         "Radio City Music Hall",
         null,
         40.759972,
         -73.980055,
         "10020"
        ],
        [
         "99 Margaret Corbin Dr, New York City, NY 10040",
         "The Met Cloisters",
         null,
         40.861879,
         -73.932954,
         "10040"
        ],
        [
         null,
         "New York Public Library",
         "https://www.nypl.org/",
         null,
         null,
         null
        ],
        [
         "1 E 70th St, New York City, NY 10021",
         "Frick Collection",
         "https://www.frick.org/",
         40.771366,
         -73.967244,
         "10021"
        ],
        [
         "Brooklyn, NY",
         "Prospect Park",
         null,
         40.678153,
         -73.94416,
         null
        ],
        [
         "2300 Southern Blvd, Bronx, NY 10460",
         "Bronx Zoo",
         "https://www.bronxzoo.com/",
         40.850121,
         -73.882529,
         "10460"
        ],
        [
         "Governor’s Island, Upper New York Bay, New York City",
         "Governors Island",
         null,
         40.689458,
         -74.016803,
         null
        ],
        [
         "Union Square W &, E 17th St, New York City, NY 10003",
         "Union Square and Union Square Greenmarket",
         null,
         40.737138,
         -73.990376,
         "10003"
        ],
        [
         "1071 5th Ave, New York, NY 10128",
         "Solomon R. Guggenheim Museum",
         "https://www.guggenheim.org/",
         40.783187,
         -73.958789,
         "10128"
        ],
        [
         "Washington Square, New York City, NY 10012",
         "Washington Square Park",
         null,
         40.730862,
         -73.997323,
         "10012"
        ],
        [
         "99 Gansevoort St, New York City, NY 10014",
         "Whitney Museum of American Art",
         "https://www.whitney.org/",
         40.739508,
         -74.009146,
         "10014"
        ],
        [
         "405 Lexington Ave, New York City, NY 10174",
         "Chrysler Building",
         null,
         40.751705,
         -73.975598,
         "10174"
        ],
        [
         "Ellis Island Bridge, Jersey City, NJ 10280",
         "Ellis Island National Museum of Immigration",
         null,
         40.701352,
         -74.04295,
         "10280"
        ],
        [
         "45 E 42nd St, New York City, NY 10017",
         "Summit One Vanderbilt",
         null,
         40.752951,
         -73.976857,
         "10017"
        ],
        [
         "99 Schermerhorn St, Brooklyn, NY 11201",
         "New York Transit Museum",
         null,
         40.690594,
         -73.990082,
         "11201"
        ],
        [
         "Montague St &, Pierrepont Pl, Brooklyn, NY 11201",
         "Brooklyn Heights Promenade",
         null,
         40.695609,
         -73.997379,
         "11201"
        ],
        [
         "215 Centre St, New York City, NY 10013",
         "Museum of Chinese in America",
         "https://www.mocanyc.org/",
         40.719478,
         -73.999195,
         "10013"
        ],
        [
         "990 Washington Ave, Brooklyn, NY 11225",
         "Brooklyn Botanic Garden",
         "https://www.bbg.org/",
         40.66949,
         -73.962386,
         "11225"
        ],
        [
         "225 Madison Ave, New York City, NY 10016",
         "The Morgan Library & Museum",
         "https://www.themorgan.org/",
         40.749184,
         -73.981544,
         "10016"
        ],
        [
         "31 Centre St, New York City, NY, 10007",
         "City Hall Station",
         null,
         40.714077,
         -74.003046,
         "10007"
        ],
        [
         "30 Lincoln Center Plaza, New York City, NY 10023",
         "Metropolitan Opera House",
         null,
         40.772779,
         -73.98387,
         "10023"
        ],
        [
         "4 Cortlandt Alley, New York, NY 10013",
         "Mmuseumm",
         "https://www.mmuseumm.com/",
         40.717498,
         -74.00271,
         "10013"
        ],
        [
         "Wall Street, New York City, NY 10005",
         "Wall Street",
         null,
         40.706426,
         -74.009476,
         "10005"
        ],
        [
         "90 Kent Ave, Brooklyn, NY 11211",
         "Smorgasburg Williamsburg",
         null,
         40.721499,
         -73.96089,
         "11211"
        ],
        [
         "58 Warren St, New York, NY 10007",
         "Mysterious Bookshop",
         null,
         40.714946,
         -74.009227,
         "10007"
        ],
        [
         "103 Orchard St, New York, NY 10002",
         "Tenement Museum",
         "https://www.tenement.org/",
         40.718707,
         -73.990088,
         "10002"
        ],
        [
         "Pier 86, W 46th St, New York, NY 10036",
         "Intrepid Sea, Air & Space Museum",
         "https://www.intrepidmuseum.org/",
         40.764608,
         -73.999096,
         "10036"
        ],
        [
         "29 E 4th St, New York, NY 10003",
         "Merchant's House Museum",
         "https://www.merchantshouse.org/",
         40.727639,
         -73.992406,
         "10003"
        ],
        [
         "New York, NY 10004",
         "Battery Park",
         null,
         40.703848,
         -74.013834,
         "10004"
        ],
        [
         "2 E 91st St, New York, NY 10128",
         "Cooper-Hewitt, Smithsonian Design Museum",
         "https://www.cooperhewitt.org/",
         40.78428,
         -73.957813,
         "10128"
        ],
        [
         "E Rd, New York, NY 10044",
         "Roosevelt Island Smallpox Hospital Ruins",
         null,
         40.760637,
         -73.949493,
         "10044"
        ]
       ],
       "datasetInfos": [],
       "dbfsResultPath": null,
       "isJsonSchema": true,
       "metadata": {},
       "overflow": false,
       "plotOptions": {
        "customPlotOptions": {},
        "displayType": "table",
        "pivotAggregation": null,
        "pivotColumns": null,
        "xColumns": null,
        "yColumns": null
       },
       "removedWidgets": [],
       "schema": [
        {
         "metadata": "{}",
         "name": "Address",
         "type": "\"string\""
        },
        {
         "metadata": "{}",
         "name": "Attraction",
         "type": "\"string\""
        },
        {
         "metadata": "{}",
         "name": "Website",
         "type": "\"string\""
        },
        {
         "metadata": "{}",
         "name": "latitude",
         "type": "\"double\""
        },
        {
         "metadata": "{}",
         "name": "longitude",
         "type": "\"double\""
        },
        {
         "metadata": "{}",
         "name": "Zipcode",
         "type": "\"string\""
        }
       ],
       "type": "table"
      }
     },
     "output_type": "display_data"
    },
    {
     "output_type": "display_data",
     "data": {
      "text/html": [
       "<style scoped>\n",
       "  .table-result-container {\n",
       "    max-height: 300px;\n",
       "    overflow: auto;\n",
       "  }\n",
       "  table, th, td {\n",
       "    border: 1px solid black;\n",
       "    border-collapse: collapse;\n",
       "  }\n",
       "  th, td {\n",
       "    padding: 5px;\n",
       "  }\n",
       "  th {\n",
       "    text-align: left;\n",
       "  }\n",
       "</style><div class='table-result-container'><table class='table-result'><thead style='background-color: white'><tr><th>Address</th><th>Attraction</th><th>Website</th><th>latitude</th><th>longitude</th><th>Zipcode</th><th>Neighborhood</th></tr></thead><tbody><tr><td>14 E 60th St, Central Park Conservancy, New York City, NY 10022</td><td>Central Park</td><td>https://www.centralparknyc.org</td><td>40.764321</td><td>-73.97182</td><td>10022</td><td>Manhattan</td></tr><tr><td>20 W 34th St, New York City, NY 10001</td><td>Empire State Building</td><td>https://www.esbnyc.com</td><td>40.748745</td><td>-73.985709</td><td>10001</td><td>Manhattan</td></tr><tr><td>Liberty Island, New York City, NY 10004</td><td>Statue of Liberty</td><td>https://www.nps.gov/stli/index.htm</td><td>40.689555</td><td>-74.044949</td><td>10004</td><td>Manhattan</td></tr><tr><td>Manhattan, NY 10036</td><td>Times Square</td><td>null</td><td>40.760249</td><td>-73.99329</td><td>10036</td><td>Manhattan</td></tr><tr><td>Theater District, New York City, NY 10019</td><td>Broadway and the Theater District</td><td>https://www.broadway.org/</td><td>40.758984</td><td>-73.984473</td><td>10019</td><td>Manhattan</td></tr><tr><td>5th Ave, New York City, NY 10018</td><td>Fifth Avenue</td><td>https://www.flickr.com/photos/mariya_umama_wethemba_monastery</td><td>40.751332</td><td>-73.982482</td><td>10018</td><td>Manhattan</td></tr><tr><td>45 Rockefeller Plaza, New York City, NY 10111</td><td>Rockefeller Center and Top of the Rock Observation Deck</td><td>https://www.rockefellercenter.com</td><td>40.759126</td><td>-73.977693</td><td>10111</td><td>Manhattan</td></tr><tr><td>89 E 42nd St, New York City, NY 10017</td><td>Grand Central Terminal</td><td>https://www.grandcentralterminal.com</td><td>40.752741</td><td>-73.977216</td><td>10017</td><td>Manhattan</td></tr><tr><td>1000 5th Ave, New York City, NY 10028</td><td>The Metropolitan Museum of Art</td><td>https://www.metmuseum.org</td><td>40.779444</td><td>-73.963401</td><td>10028</td><td>Manhattan</td></tr><tr><td>180 Greenwich St, New York City, NY 10007</td><td>National September 11 Memorial & Museum</td><td>https://www.911memorial.org</td><td>40.711506</td><td>-74.012484</td><td>10007</td><td>Manhattan</td></tr><tr><td>200 Central Park West, New York City, NY 10024</td><td>American Museum of Natural History</td><td>https://www.amnh.org/</td><td>40.781292</td><td>-73.973839</td><td>10024</td><td>Manhattan</td></tr><tr><td>11 W 53rd St, New York City, NY 10019</td><td>Museum of Modern Art</td><td>https://www.moma.org/</td><td>40.761332</td><td>-73.977382</td><td>10019</td><td>Manhattan</td></tr><tr><td>New York City, NY 10011</td><td>The High Line</td><td>https://www.thehighline.org/</td><td>40.746514</td><td>-74.009467</td><td>10011</td><td>Manhattan</td></tr><tr><td>5th Ave, New York City, NY 10022</td><td>St. Patrick's Cathedral</td><td>https://www.saintpatrickscathedral.org/</td><td>40.7612</td><td>-73.975267</td><td>10022</td><td>Manhattan</td></tr><tr><td>Brooklyn Bridge, New York City, NY 10038</td><td>Brooklyn Bridge</td><td>null</td><td>40.706069</td><td>-73.99685</td><td>10038</td><td>Manhattan</td></tr><tr><td>New York City, NY 10018</td><td>Bryant Park</td><td>null</td><td>40.755342</td><td>-73.99329</td><td>10018</td><td>Manhattan</td></tr><tr><td>117 West St, New York City, NY 10006</td><td>One World Observatory</td><td>null</td><td>40.712983</td><td>-74.013154</td><td>10006</td><td>Manhattan</td></tr><tr><td>1208 Surf Ave, Brooklyn, NY 11224</td><td>Coney Island & Amusement Park</td><td>null</td><td>40.575309</td><td>-73.979902</td><td>11224</td><td>Brooklyn</td></tr><tr><td>2900 Southern Blvd, Bronx, NY 10458</td><td>New York Botanical Garden</td><td>https://www.nybg.org/</td><td>40.865472</td><td>-73.881801</td><td>10458</td><td>Bronx</td></tr><tr><td>1260 6th Ave, New York City, NY 10020</td><td>Radio City Music Hall</td><td>null</td><td>40.759972</td><td>-73.980055</td><td>10020</td><td>Manhattan</td></tr><tr><td>99 Margaret Corbin Dr, New York City, NY 10040</td><td>The Met Cloisters</td><td>null</td><td>40.861879</td><td>-73.932954</td><td>10040</td><td>Manhattan</td></tr><tr><td>null</td><td>New York Public Library</td><td>https://www.nypl.org/</td><td>null</td><td>null</td><td>null</td><td>null</td></tr><tr><td>1 E 70th St, New York City, NY 10021</td><td>Frick Collection</td><td>https://www.frick.org/</td><td>40.771366</td><td>-73.967244</td><td>10021</td><td>Manhattan</td></tr><tr><td>Brooklyn, NY</td><td>Prospect Park</td><td>null</td><td>40.678153</td><td>-73.94416</td><td>null</td><td>null</td></tr><tr><td>2300 Southern Blvd, Bronx, NY 10460</td><td>Bronx Zoo</td><td>https://www.bronxzoo.com/</td><td>40.850121</td><td>-73.882529</td><td>10460</td><td>Bronx</td></tr><tr><td>Governor’s Island, Upper New York Bay, New York City</td><td>Governors Island</td><td>null</td><td>40.689458</td><td>-74.016803</td><td>null</td><td>null</td></tr><tr><td>Union Square W &, E 17th St, New York City, NY 10003</td><td>Union Square and Union Square Greenmarket</td><td>null</td><td>40.737138</td><td>-73.990376</td><td>10003</td><td>Manhattan</td></tr><tr><td>1071 5th Ave, New York, NY 10128</td><td>Solomon R. Guggenheim Museum</td><td>https://www.guggenheim.org/</td><td>40.783187</td><td>-73.958789</td><td>10128</td><td>Manhattan</td></tr><tr><td>Washington Square, New York City, NY 10012</td><td>Washington Square Park</td><td>null</td><td>40.730862</td><td>-73.997323</td><td>10012</td><td>Manhattan</td></tr><tr><td>99 Gansevoort St, New York City, NY 10014</td><td>Whitney Museum of American Art</td><td>https://www.whitney.org/</td><td>40.739508</td><td>-74.009146</td><td>10014</td><td>Manhattan</td></tr><tr><td>405 Lexington Ave, New York City, NY 10174</td><td>Chrysler Building</td><td>null</td><td>40.751705</td><td>-73.975598</td><td>10174</td><td>Manhattan</td></tr><tr><td>Ellis Island Bridge, Jersey City, NJ 10280</td><td>Ellis Island National Museum of Immigration</td><td>null</td><td>40.701352</td><td>-74.04295</td><td>10280</td><td>Manhattan</td></tr><tr><td>45 E 42nd St, New York City, NY 10017</td><td>Summit One Vanderbilt</td><td>null</td><td>40.752951</td><td>-73.976857</td><td>10017</td><td>Manhattan</td></tr><tr><td>99 Schermerhorn St, Brooklyn, NY 11201</td><td>New York Transit Museum</td><td>null</td><td>40.690594</td><td>-73.990082</td><td>11201</td><td>Brooklyn</td></tr><tr><td>Montague St &, Pierrepont Pl, Brooklyn, NY 11201</td><td>Brooklyn Heights Promenade</td><td>null</td><td>40.695609</td><td>-73.997379</td><td>11201</td><td>Brooklyn</td></tr><tr><td>215 Centre St, New York City, NY 10013</td><td>Museum of Chinese in America</td><td>https://www.mocanyc.org/</td><td>40.719478</td><td>-73.999195</td><td>10013</td><td>Manhattan</td></tr><tr><td>990 Washington Ave, Brooklyn, NY 11225</td><td>Brooklyn Botanic Garden</td><td>https://www.bbg.org/</td><td>40.66949</td><td>-73.962386</td><td>11225</td><td>Brooklyn</td></tr><tr><td>225 Madison Ave, New York City, NY 10016</td><td>The Morgan Library & Museum</td><td>https://www.themorgan.org/</td><td>40.749184</td><td>-73.981544</td><td>10016</td><td>Manhattan</td></tr><tr><td>31 Centre St, New York City, NY, 10007</td><td>City Hall Station</td><td>null</td><td>40.714077</td><td>-74.003046</td><td>10007</td><td>Manhattan</td></tr><tr><td>30 Lincoln Center Plaza, New York City, NY 10023</td><td>Metropolitan Opera House</td><td>null</td><td>40.772779</td><td>-73.98387</td><td>10023</td><td>Manhattan</td></tr><tr><td>4 Cortlandt Alley, New York, NY 10013</td><td>Mmuseumm</td><td>https://www.mmuseumm.com/</td><td>40.717498</td><td>-74.00271</td><td>10013</td><td>Manhattan</td></tr><tr><td>Wall Street, New York City, NY 10005</td><td>Wall Street</td><td>null</td><td>40.706426</td><td>-74.009476</td><td>10005</td><td>Manhattan</td></tr><tr><td>90 Kent Ave, Brooklyn, NY 11211</td><td>Smorgasburg Williamsburg</td><td>null</td><td>40.721499</td><td>-73.96089</td><td>11211</td><td>Brooklyn</td></tr><tr><td>58 Warren St, New York, NY 10007</td><td>Mysterious Bookshop</td><td>null</td><td>40.714946</td><td>-74.009227</td><td>10007</td><td>Manhattan</td></tr><tr><td>103 Orchard St, New York, NY 10002</td><td>Tenement Museum</td><td>https://www.tenement.org/</td><td>40.718707</td><td>-73.990088</td><td>10002</td><td>Manhattan</td></tr><tr><td>Pier 86, W 46th St, New York, NY 10036</td><td>Intrepid Sea, Air & Space Museum</td><td>https://www.intrepidmuseum.org/</td><td>40.764608</td><td>-73.999096</td><td>10036</td><td>Manhattan</td></tr><tr><td>29 E 4th St, New York, NY 10003</td><td>Merchant's House Museum</td><td>https://www.merchantshouse.org/</td><td>40.727639</td><td>-73.992406</td><td>10003</td><td>Manhattan</td></tr><tr><td>New York, NY 10004</td><td>Battery Park</td><td>null</td><td>40.703848</td><td>-74.013834</td><td>10004</td><td>Manhattan</td></tr><tr><td>2 E 91st St, New York, NY 10128</td><td>Cooper-Hewitt, Smithsonian Design Museum</td><td>https://www.cooperhewitt.org/</td><td>40.78428</td><td>-73.957813</td><td>10128</td><td>Manhattan</td></tr><tr><td>E Rd, New York, NY 10044</td><td>Roosevelt Island Smallpox Hospital Ruins</td><td>null</td><td>40.760637</td><td>-73.949493</td><td>10044</td><td>Manhattan</td></tr></tbody></table></div>"
      ]
     },
     "metadata": {
      "application/vnd.databricks.v1+output": {
       "addedWidgets": {},
       "aggData": [],
       "aggError": "",
       "aggOverflow": false,
       "aggSchema": [],
       "aggSeriesLimitReached": false,
       "aggType": "",
       "arguments": {},
       "columnCustomDisplayInfos": {},
       "data": [
        [
         "14 E 60th St, Central Park Conservancy, New York City, NY 10022",
         "Central Park",
         "https://www.centralparknyc.org",
         40.764321,
         -73.97182,
         "10022",
         "Manhattan"
        ],
        [
         "20 W 34th St, New York City, NY 10001",
         "Empire State Building",
         "https://www.esbnyc.com",
         40.748745,
         -73.985709,
         "10001",
         "Manhattan"
        ],
        [
         "Liberty Island, New York City, NY 10004",
         "Statue of Liberty",
         "https://www.nps.gov/stli/index.htm",
         40.689555,
         -74.044949,
         "10004",
         "Manhattan"
        ],
        [
         "Manhattan, NY 10036",
         "Times Square",
         null,
         40.760249,
         -73.99329,
         "10036",
         "Manhattan"
        ],
        [
         "Theater District, New York City, NY 10019",
         "Broadway and the Theater District",
         "https://www.broadway.org/",
         40.758984,
         -73.984473,
         "10019",
         "Manhattan"
        ],
        [
         "5th Ave, New York City, NY 10018",
         "Fifth Avenue",
         "https://www.flickr.com/photos/mariya_umama_wethemba_monastery",
         40.751332,
         -73.982482,
         "10018",
         "Manhattan"
        ],
        [
         "45 Rockefeller Plaza, New York City, NY 10111",
         "Rockefeller Center and Top of the Rock Observation Deck",
         "https://www.rockefellercenter.com",
         40.759126,
         -73.977693,
         "10111",
         "Manhattan"
        ],
        [
         "89 E 42nd St, New York City, NY 10017",
         "Grand Central Terminal",
         "https://www.grandcentralterminal.com",
         40.752741,
         -73.977216,
         "10017",
         "Manhattan"
        ],
        [
         "1000 5th Ave, New York City, NY 10028",
         "The Metropolitan Museum of Art",
         "https://www.metmuseum.org",
         40.779444,
         -73.963401,
         "10028",
         "Manhattan"
        ],
        [
         "180 Greenwich St, New York City, NY 10007",
         "National September 11 Memorial & Museum",
         "https://www.911memorial.org",
         40.711506,
         -74.012484,
         "10007",
         "Manhattan"
        ],
        [
         "200 Central Park West, New York City, NY 10024",
         "American Museum of Natural History",
         "https://www.amnh.org/",
         40.781292,
         -73.973839,
         "10024",
         "Manhattan"
        ],
        [
         "11 W 53rd St, New York City, NY 10019",
         "Museum of Modern Art",
         "https://www.moma.org/",
         40.761332,
         -73.977382,
         "10019",
         "Manhattan"
        ],
        [
         "New York City, NY 10011",
         "The High Line",
         "https://www.thehighline.org/",
         40.746514,
         -74.009467,
         "10011",
         "Manhattan"
        ],
        [
         "5th Ave, New York City, NY 10022",
         "St. Patrick's Cathedral",
         "https://www.saintpatrickscathedral.org/",
         40.7612,
         -73.975267,
         "10022",
         "Manhattan"
        ],
        [
         "Brooklyn Bridge, New York City, NY 10038",
         "Brooklyn Bridge",
         null,
         40.706069,
         -73.99685,
         "10038",
         "Manhattan"
        ],
        [
         "New York City, NY 10018",
         "Bryant Park",
         null,
         40.755342,
         -73.99329,
         "10018",
         "Manhattan"
        ],
        [
         "117 West St, New York City, NY 10006",
         "One World Observatory",
         null,
         40.712983,
         -74.013154,
         "10006",
         "Manhattan"
        ],
        [
         "1208 Surf Ave, Brooklyn, NY 11224",
         "Coney Island & Amusement Park",
         null,
         40.575309,
         -73.979902,
         "11224",
         "Brooklyn"
        ],
        [
         "2900 Southern Blvd, Bronx, NY 10458",
         "New York Botanical Garden",
         "https://www.nybg.org/",
         40.865472,
         -73.881801,
         "10458",
         "Bronx"
        ],
        [
         "1260 6th Ave, New York City, NY 10020",
         "Radio City Music Hall",
         null,
         40.759972,
         -73.980055,
         "10020",
         "Manhattan"
        ],
        [
         "99 Margaret Corbin Dr, New York City, NY 10040",
         "The Met Cloisters",
         null,
         40.861879,
         -73.932954,
         "10040",
         "Manhattan"
        ],
        [
         null,
         "New York Public Library",
         "https://www.nypl.org/",
         null,
         null,
         null,
         null
        ],
        [
         "1 E 70th St, New York City, NY 10021",
         "Frick Collection",
         "https://www.frick.org/",
         40.771366,
         -73.967244,
         "10021",
         "Manhattan"
        ],
        [
         "Brooklyn, NY",
         "Prospect Park",
         null,
         40.678153,
         -73.94416,
         null,
         null
        ],
        [
         "2300 Southern Blvd, Bronx, NY 10460",
         "Bronx Zoo",
         "https://www.bronxzoo.com/",
         40.850121,
         -73.882529,
         "10460",
         "Bronx"
        ],
        [
         "Governor’s Island, Upper New York Bay, New York City",
         "Governors Island",
         null,
         40.689458,
         -74.016803,
         null,
         null
        ],
        [
         "Union Square W &, E 17th St, New York City, NY 10003",
         "Union Square and Union Square Greenmarket",
         null,
         40.737138,
         -73.990376,
         "10003",
         "Manhattan"
        ],
        [
         "1071 5th Ave, New York, NY 10128",
         "Solomon R. Guggenheim Museum",
         "https://www.guggenheim.org/",
         40.783187,
         -73.958789,
         "10128",
         "Manhattan"
        ],
        [
         "Washington Square, New York City, NY 10012",
         "Washington Square Park",
         null,
         40.730862,
         -73.997323,
         "10012",
         "Manhattan"
        ],
        [
         "99 Gansevoort St, New York City, NY 10014",
         "Whitney Museum of American Art",
         "https://www.whitney.org/",
         40.739508,
         -74.009146,
         "10014",
         "Manhattan"
        ],
        [
         "405 Lexington Ave, New York City, NY 10174",
         "Chrysler Building",
         null,
         40.751705,
         -73.975598,
         "10174",
         "Manhattan"
        ],
        [
         "Ellis Island Bridge, Jersey City, NJ 10280",
         "Ellis Island National Museum of Immigration",
         null,
         40.701352,
         -74.04295,
         "10280",
         "Manhattan"
        ],
        [
         "45 E 42nd St, New York City, NY 10017",
         "Summit One Vanderbilt",
         null,
         40.752951,
         -73.976857,
         "10017",
         "Manhattan"
        ],
        [
         "99 Schermerhorn St, Brooklyn, NY 11201",
         "New York Transit Museum",
         null,
         40.690594,
         -73.990082,
         "11201",
         "Brooklyn"
        ],
        [
         "Montague St &, Pierrepont Pl, Brooklyn, NY 11201",
         "Brooklyn Heights Promenade",
         null,
         40.695609,
         -73.997379,
         "11201",
         "Brooklyn"
        ],
        [
         "215 Centre St, New York City, NY 10013",
         "Museum of Chinese in America",
         "https://www.mocanyc.org/",
         40.719478,
         -73.999195,
         "10013",
         "Manhattan"
        ],
        [
         "990 Washington Ave, Brooklyn, NY 11225",
         "Brooklyn Botanic Garden",
         "https://www.bbg.org/",
         40.66949,
         -73.962386,
         "11225",
         "Brooklyn"
        ],
        [
         "225 Madison Ave, New York City, NY 10016",
         "The Morgan Library & Museum",
         "https://www.themorgan.org/",
         40.749184,
         -73.981544,
         "10016",
         "Manhattan"
        ],
        [
         "31 Centre St, New York City, NY, 10007",
         "City Hall Station",
         null,
         40.714077,
         -74.003046,
         "10007",
         "Manhattan"
        ],
        [
         "30 Lincoln Center Plaza, New York City, NY 10023",
         "Metropolitan Opera House",
         null,
         40.772779,
         -73.98387,
         "10023",
         "Manhattan"
        ],
        [
         "4 Cortlandt Alley, New York, NY 10013",
         "Mmuseumm",
         "https://www.mmuseumm.com/",
         40.717498,
         -74.00271,
         "10013",
         "Manhattan"
        ],
        [
         "Wall Street, New York City, NY 10005",
         "Wall Street",
         null,
         40.706426,
         -74.009476,
         "10005",
         "Manhattan"
        ],
        [
         "90 Kent Ave, Brooklyn, NY 11211",
         "Smorgasburg Williamsburg",
         null,
         40.721499,
         -73.96089,
         "11211",
         "Brooklyn"
        ],
        [
         "58 Warren St, New York, NY 10007",
         "Mysterious Bookshop",
         null,
         40.714946,
         -74.009227,
         "10007",
         "Manhattan"
        ],
        [
         "103 Orchard St, New York, NY 10002",
         "Tenement Museum",
         "https://www.tenement.org/",
         40.718707,
         -73.990088,
         "10002",
         "Manhattan"
        ],
        [
         "Pier 86, W 46th St, New York, NY 10036",
         "Intrepid Sea, Air & Space Museum",
         "https://www.intrepidmuseum.org/",
         40.764608,
         -73.999096,
         "10036",
         "Manhattan"
        ],
        [
         "29 E 4th St, New York, NY 10003",
         "Merchant's House Museum",
         "https://www.merchantshouse.org/",
         40.727639,
         -73.992406,
         "10003",
         "Manhattan"
        ],
        [
         "New York, NY 10004",
         "Battery Park",
         null,
         40.703848,
         -74.013834,
         "10004",
         "Manhattan"
        ],
        [
         "2 E 91st St, New York, NY 10128",
         "Cooper-Hewitt, Smithsonian Design Museum",
         "https://www.cooperhewitt.org/",
         40.78428,
         -73.957813,
         "10128",
         "Manhattan"
        ],
        [
         "E Rd, New York, NY 10044",
         "Roosevelt Island Smallpox Hospital Ruins",
         null,
         40.760637,
         -73.949493,
         "10044",
         "Manhattan"
        ]
       ],
       "datasetInfos": [],
       "dbfsResultPath": null,
       "isJsonSchema": true,
       "metadata": {},
       "overflow": false,
       "plotOptions": {
        "customPlotOptions": {},
        "displayType": "table",
        "pivotAggregation": null,
        "pivotColumns": null,
        "xColumns": null,
        "yColumns": null
       },
       "removedWidgets": [],
       "schema": [
        {
         "metadata": "{}",
         "name": "Address",
         "type": "\"string\""
        },
        {
         "metadata": "{}",
         "name": "Attraction",
         "type": "\"string\""
        },
        {
         "metadata": "{}",
         "name": "Website",
         "type": "\"string\""
        },
        {
         "metadata": "{}",
         "name": "latitude",
         "type": "\"double\""
        },
        {
         "metadata": "{}",
         "name": "longitude",
         "type": "\"double\""
        },
        {
         "metadata": "{}",
         "name": "Zipcode",
         "type": "\"string\""
        },
        {
         "metadata": "{}",
         "name": "Neighborhood",
         "type": "\"string\""
        }
       ],
       "type": "table"
      }
     },
     "output_type": "display_data"
    },
    {
     "output_type": "display_data",
     "data": {
      "text/html": [
       "<html>\n",
       "<head><meta charset=\"utf-8\" /></head>\n",
       "<body>\n",
       "    <div>            <script src=\"https://cdnjs.cloudflare.com/ajax/libs/mathjax/2.7.5/MathJax.js?config=TeX-AMS-MML_SVG\"></script><script type=\"text/javascript\">if (window.MathJax) {MathJax.Hub.Config({SVG: {font: \"STIX-Web\"}});}</script>                <script type=\"text/javascript\">window.PlotlyConfig = {MathJaxConfig: 'local'};</script>\n",
       "        <script src=\"https://cdn.plot.ly/plotly-2.9.0.min.js\"></script>                <div id=\"6109fc84-1a1d-4977-b2f5-11f9ba3e7786\" class=\"plotly-graph-div\" style=\"height:100%; width:100%;\"></div>            <script type=\"text/javascript\">                                    window.PLOTLYENV=window.PLOTLYENV || {};                                    if (document.getElementById(\"6109fc84-1a1d-4977-b2f5-11f9ba3e7786\")) {                    Plotly.newPlot(                        \"6109fc84-1a1d-4977-b2f5-11f9ba3e7786\",                        [{\"lat\":[40.764321,40.748745,40.689555,40.760249,40.758984,40.751332,40.759126,40.752741,40.779444,40.711506,40.781292,40.761332,40.746514,40.7612,40.706069,40.755342,40.712983,40.575309,40.865472,40.759972,40.861879,null,40.771366,40.678153,40.850121,40.689458,40.737138,40.783187,40.730862,40.739508,40.751705,40.701352,40.752951,40.690594,40.695609,40.719478,40.66949,40.749184,40.714077,40.772779,40.717498,40.706426,40.721499,40.714946,40.718707,40.764608,40.727639,40.703848,40.78428,40.760637],\"lon\":[-73.97182,-73.985709,-74.044949,-73.99329,-73.984473,-73.982482,-73.977693,-73.977216,-73.963401,-74.012484,-73.973839,-73.977382,-74.009467,-73.975267,-73.99685,-73.99329,-74.013154,-73.979902,-73.881801,-73.980055,-73.932954,null,-73.967244,-73.94416,-73.882529,-74.016803,-73.990376,-73.958789,-73.997323,-74.009146,-73.975598,-74.04295,-73.976857,-73.990082,-73.997379,-73.999195,-73.962386,-73.981544,-74.003046,-73.98387,-74.00271,-74.009476,-73.96089,-74.009227,-73.990088,-73.999096,-73.992406,-74.013834,-73.957813,-73.949493],\"mode\":\"markers\",\"text\":[\"Central Park\",\"Empire State Building\",\"Statue of Liberty\",\"Times Square\",\"Broadway and the Theater District\",\"Fifth Avenue\",\"Rockefeller Center and Top of the Rock Observation Deck\",\"Grand Central Terminal\",\"The Metropolitan Museum of Art\",\"National September 11 Memorial & Museum\",\"American Museum of Natural History\",\"Museum of Modern Art\",\"The High Line\",\"St. Patrick's Cathedral\",\"Brooklyn Bridge\",\"Bryant Park\",\"One World Observatory\",\"Coney Island & Amusement Park\",\"New York Botanical Garden\",\"Radio City Music Hall\",\"The Met Cloisters\",\"New York Public Library\",\"Frick Collection\",\"Prospect Park\",\"Bronx Zoo\",\"Governors Island\",\"Union Square and Union Square Greenmarket\",\"Solomon R. Guggenheim Museum\",\"Washington Square Park\",\"Whitney Museum of American Art\",\"Chrysler Building\",\"Ellis Island National Museum of Immigration\",\"Summit One Vanderbilt\",\"New York Transit Museum\",\"Brooklyn Heights Promenade\",\"Museum of Chinese in America\",\"Brooklyn Botanic Garden\",\"The Morgan Library & Museum\",\"City Hall Station\",\"Metropolitan Opera House\",\"Mmuseumm\",\"Wall Street\",\"Smorgasburg Williamsburg\",\"Mysterious Bookshop\",\"Tenement Museum\",\"Intrepid Sea, Air & Space Museum\",\"Merchant's House Museum\",\"Battery Park\",\"Cooper-Hewitt, Smithsonian Design Museum\",\"Roosevelt Island Smallpox Hospital Ruins\"],\"type\":\"scattergeo\"}],                        {\"template\":{\"data\":{\"bar\":[{\"error_x\":{\"color\":\"#2a3f5f\"},\"error_y\":{\"color\":\"#2a3f5f\"},\"marker\":{\"line\":{\"color\":\"#E5ECF6\",\"width\":0.5},\"pattern\":{\"fillmode\":\"overlay\",\"size\":10,\"solidity\":0.2}},\"type\":\"bar\"}],\"barpolar\":[{\"marker\":{\"line\":{\"color\":\"#E5ECF6\",\"width\":0.5},\"pattern\":{\"fillmode\":\"overlay\",\"size\":10,\"solidity\":0.2}},\"type\":\"barpolar\"}],\"carpet\":[{\"aaxis\":{\"endlinecolor\":\"#2a3f5f\",\"gridcolor\":\"white\",\"linecolor\":\"white\",\"minorgridcolor\":\"white\",\"startlinecolor\":\"#2a3f5f\"},\"baxis\":{\"endlinecolor\":\"#2a3f5f\",\"gridcolor\":\"white\",\"linecolor\":\"white\",\"minorgridcolor\":\"white\",\"startlinecolor\":\"#2a3f5f\"},\"type\":\"carpet\"}],\"choropleth\":[{\"colorbar\":{\"outlinewidth\":0,\"ticks\":\"\"},\"type\":\"choropleth\"}],\"contour\":[{\"colorbar\":{\"outlinewidth\":0,\"ticks\":\"\"},\"colorscale\":[[0.0,\"#0d0887\"],[0.1111111111111111,\"#46039f\"],[0.2222222222222222,\"#7201a8\"],[0.3333333333333333,\"#9c179e\"],[0.4444444444444444,\"#bd3786\"],[0.5555555555555556,\"#d8576b\"],[0.6666666666666666,\"#ed7953\"],[0.7777777777777778,\"#fb9f3a\"],[0.8888888888888888,\"#fdca26\"],[1.0,\"#f0f921\"]],\"type\":\"contour\"}],\"contourcarpet\":[{\"colorbar\":{\"outlinewidth\":0,\"ticks\":\"\"},\"type\":\"contourcarpet\"}],\"heatmap\":[{\"colorbar\":{\"outlinewidth\":0,\"ticks\":\"\"},\"colorscale\":[[0.0,\"#0d0887\"],[0.1111111111111111,\"#46039f\"],[0.2222222222222222,\"#7201a8\"],[0.3333333333333333,\"#9c179e\"],[0.4444444444444444,\"#bd3786\"],[0.5555555555555556,\"#d8576b\"],[0.6666666666666666,\"#ed7953\"],[0.7777777777777778,\"#fb9f3a\"],[0.8888888888888888,\"#fdca26\"],[1.0,\"#f0f921\"]],\"type\":\"heatmap\"}],\"heatmapgl\":[{\"colorbar\":{\"outlinewidth\":0,\"ticks\":\"\"},\"colorscale\":[[0.0,\"#0d0887\"],[0.1111111111111111,\"#46039f\"],[0.2222222222222222,\"#7201a8\"],[0.3333333333333333,\"#9c179e\"],[0.4444444444444444,\"#bd3786\"],[0.5555555555555556,\"#d8576b\"],[0.6666666666666666,\"#ed7953\"],[0.7777777777777778,\"#fb9f3a\"],[0.8888888888888888,\"#fdca26\"],[1.0,\"#f0f921\"]],\"type\":\"heatmapgl\"}],\"histogram\":[{\"marker\":{\"pattern\":{\"fillmode\":\"overlay\",\"size\":10,\"solidity\":0.2}},\"type\":\"histogram\"}],\"histogram2d\":[{\"colorbar\":{\"outlinewidth\":0,\"ticks\":\"\"},\"colorscale\":[[0.0,\"#0d0887\"],[0.1111111111111111,\"#46039f\"],[0.2222222222222222,\"#7201a8\"],[0.3333333333333333,\"#9c179e\"],[0.4444444444444444,\"#bd3786\"],[0.5555555555555556,\"#d8576b\"],[0.6666666666666666,\"#ed7953\"],[0.7777777777777778,\"#fb9f3a\"],[0.8888888888888888,\"#fdca26\"],[1.0,\"#f0f921\"]],\"type\":\"histogram2d\"}],\"histogram2dcontour\":[{\"colorbar\":{\"outlinewidth\":0,\"ticks\":\"\"},\"colorscale\":[[0.0,\"#0d0887\"],[0.1111111111111111,\"#46039f\"],[0.2222222222222222,\"#7201a8\"],[0.3333333333333333,\"#9c179e\"],[0.4444444444444444,\"#bd3786\"],[0.5555555555555556,\"#d8576b\"],[0.6666666666666666,\"#ed7953\"],[0.7777777777777778,\"#fb9f3a\"],[0.8888888888888888,\"#fdca26\"],[1.0,\"#f0f921\"]],\"type\":\"histogram2dcontour\"}],\"mesh3d\":[{\"colorbar\":{\"outlinewidth\":0,\"ticks\":\"\"},\"type\":\"mesh3d\"}],\"parcoords\":[{\"line\":{\"colorbar\":{\"outlinewidth\":0,\"ticks\":\"\"}},\"type\":\"parcoords\"}],\"pie\":[{\"automargin\":true,\"type\":\"pie\"}],\"scatter\":[{\"marker\":{\"colorbar\":{\"outlinewidth\":0,\"ticks\":\"\"}},\"type\":\"scatter\"}],\"scatter3d\":[{\"line\":{\"colorbar\":{\"outlinewidth\":0,\"ticks\":\"\"}},\"marker\":{\"colorbar\":{\"outlinewidth\":0,\"ticks\":\"\"}},\"type\":\"scatter3d\"}],\"scattercarpet\":[{\"marker\":{\"colorbar\":{\"outlinewidth\":0,\"ticks\":\"\"}},\"type\":\"scattercarpet\"}],\"scattergeo\":[{\"marker\":{\"colorbar\":{\"outlinewidth\":0,\"ticks\":\"\"}},\"type\":\"scattergeo\"}],\"scattergl\":[{\"marker\":{\"colorbar\":{\"outlinewidth\":0,\"ticks\":\"\"}},\"type\":\"scattergl\"}],\"scattermapbox\":[{\"marker\":{\"colorbar\":{\"outlinewidth\":0,\"ticks\":\"\"}},\"type\":\"scattermapbox\"}],\"scatterpolar\":[{\"marker\":{\"colorbar\":{\"outlinewidth\":0,\"ticks\":\"\"}},\"type\":\"scatterpolar\"}],\"scatterpolargl\":[{\"marker\":{\"colorbar\":{\"outlinewidth\":0,\"ticks\":\"\"}},\"type\":\"scatterpolargl\"}],\"scatterternary\":[{\"marker\":{\"colorbar\":{\"outlinewidth\":0,\"ticks\":\"\"}},\"type\":\"scatterternary\"}],\"surface\":[{\"colorbar\":{\"outlinewidth\":0,\"ticks\":\"\"},\"colorscale\":[[0.0,\"#0d0887\"],[0.1111111111111111,\"#46039f\"],[0.2222222222222222,\"#7201a8\"],[0.3333333333333333,\"#9c179e\"],[0.4444444444444444,\"#bd3786\"],[0.5555555555555556,\"#d8576b\"],[0.6666666666666666,\"#ed7953\"],[0.7777777777777778,\"#fb9f3a\"],[0.8888888888888888,\"#fdca26\"],[1.0,\"#f0f921\"]],\"type\":\"surface\"}],\"table\":[{\"cells\":{\"fill\":{\"color\":\"#EBF0F8\"},\"line\":{\"color\":\"white\"}},\"header\":{\"fill\":{\"color\":\"#C8D4E3\"},\"line\":{\"color\":\"white\"}},\"type\":\"table\"}]},\"layout\":{\"annotationdefaults\":{\"arrowcolor\":\"#2a3f5f\",\"arrowhead\":0,\"arrowwidth\":1},\"autotypenumbers\":\"strict\",\"coloraxis\":{\"colorbar\":{\"outlinewidth\":0,\"ticks\":\"\"}},\"colorscale\":{\"diverging\":[[0,\"#8e0152\"],[0.1,\"#c51b7d\"],[0.2,\"#de77ae\"],[0.3,\"#f1b6da\"],[0.4,\"#fde0ef\"],[0.5,\"#f7f7f7\"],[0.6,\"#e6f5d0\"],[0.7,\"#b8e186\"],[0.8,\"#7fbc41\"],[0.9,\"#4d9221\"],[1,\"#276419\"]],\"sequential\":[[0.0,\"#0d0887\"],[0.1111111111111111,\"#46039f\"],[0.2222222222222222,\"#7201a8\"],[0.3333333333333333,\"#9c179e\"],[0.4444444444444444,\"#bd3786\"],[0.5555555555555556,\"#d8576b\"],[0.6666666666666666,\"#ed7953\"],[0.7777777777777778,\"#fb9f3a\"],[0.8888888888888888,\"#fdca26\"],[1.0,\"#f0f921\"]],\"sequentialminus\":[[0.0,\"#0d0887\"],[0.1111111111111111,\"#46039f\"],[0.2222222222222222,\"#7201a8\"],[0.3333333333333333,\"#9c179e\"],[0.4444444444444444,\"#bd3786\"],[0.5555555555555556,\"#d8576b\"],[0.6666666666666666,\"#ed7953\"],[0.7777777777777778,\"#fb9f3a\"],[0.8888888888888888,\"#fdca26\"],[1.0,\"#f0f921\"]]},\"colorway\":[\"#636efa\",\"#EF553B\",\"#00cc96\",\"#ab63fa\",\"#FFA15A\",\"#19d3f3\",\"#FF6692\",\"#B6E880\",\"#FF97FF\",\"#FECB52\"],\"font\":{\"color\":\"#2a3f5f\"},\"geo\":{\"bgcolor\":\"white\",\"lakecolor\":\"white\",\"landcolor\":\"#E5ECF6\",\"showlakes\":true,\"showland\":true,\"subunitcolor\":\"white\"},\"hoverlabel\":{\"align\":\"left\"},\"hovermode\":\"closest\",\"mapbox\":{\"style\":\"light\"},\"paper_bgcolor\":\"white\",\"plot_bgcolor\":\"#E5ECF6\",\"polar\":{\"angularaxis\":{\"gridcolor\":\"white\",\"linecolor\":\"white\",\"ticks\":\"\"},\"bgcolor\":\"#E5ECF6\",\"radialaxis\":{\"gridcolor\":\"white\",\"linecolor\":\"white\",\"ticks\":\"\"}},\"scene\":{\"xaxis\":{\"backgroundcolor\":\"#E5ECF6\",\"gridcolor\":\"white\",\"gridwidth\":2,\"linecolor\":\"white\",\"showbackground\":true,\"ticks\":\"\",\"zerolinecolor\":\"white\"},\"yaxis\":{\"backgroundcolor\":\"#E5ECF6\",\"gridcolor\":\"white\",\"gridwidth\":2,\"linecolor\":\"white\",\"showbackground\":true,\"ticks\":\"\",\"zerolinecolor\":\"white\"},\"zaxis\":{\"backgroundcolor\":\"#E5ECF6\",\"gridcolor\":\"white\",\"gridwidth\":2,\"linecolor\":\"white\",\"showbackground\":true,\"ticks\":\"\",\"zerolinecolor\":\"white\"}},\"shapedefaults\":{\"line\":{\"color\":\"#2a3f5f\"}},\"ternary\":{\"aaxis\":{\"gridcolor\":\"white\",\"linecolor\":\"white\",\"ticks\":\"\"},\"baxis\":{\"gridcolor\":\"white\",\"linecolor\":\"white\",\"ticks\":\"\"},\"bgcolor\":\"#E5ECF6\",\"caxis\":{\"gridcolor\":\"white\",\"linecolor\":\"white\",\"ticks\":\"\"}},\"title\":{\"x\":0.05},\"xaxis\":{\"automargin\":true,\"gridcolor\":\"white\",\"linecolor\":\"white\",\"ticks\":\"\",\"title\":{\"standoff\":15},\"zerolinecolor\":\"white\",\"zerolinewidth\":2},\"yaxis\":{\"automargin\":true,\"gridcolor\":\"white\",\"linecolor\":\"white\",\"ticks\":\"\",\"title\":{\"standoff\":15},\"zerolinecolor\":\"white\",\"zerolinewidth\":2}}},\"geo\":{\"scope\":\"usa\"},\"title\":{\"text\":\"Most trafficked US airports<br>(Hover for airport names)\"}},                        {\"responsive\": true}                    )                };                            </script>        </div>\n",
       "</body>\n",
       "</html>"
      ]
     },
     "metadata": {
      "application/vnd.databricks.v1+output": {
       "addedWidgets": {},
       "arguments": {},
       "data": "<html>\n<head><meta charset=\"utf-8\" /></head>\n<body>\n    <div>            <script src=\"https://cdnjs.cloudflare.com/ajax/libs/mathjax/2.7.5/MathJax.js?config=TeX-AMS-MML_SVG\"></script><script type=\"text/javascript\">if (window.MathJax) {MathJax.Hub.Config({SVG: {font: \"STIX-Web\"}});}</script>                <script type=\"text/javascript\">window.PlotlyConfig = {MathJaxConfig: 'local'};</script>\n        <script src=\"https://cdn.plot.ly/plotly-2.9.0.min.js\"></script>                <div id=\"6109fc84-1a1d-4977-b2f5-11f9ba3e7786\" class=\"plotly-graph-div\" style=\"height:100%; width:100%;\"></div>            <script type=\"text/javascript\">                                    window.PLOTLYENV=window.PLOTLYENV || {};                                    if (document.getElementById(\"6109fc84-1a1d-4977-b2f5-11f9ba3e7786\")) {                    Plotly.newPlot(                        \"6109fc84-1a1d-4977-b2f5-11f9ba3e7786\",                        [{\"lat\":[40.764321,40.748745,40.689555,40.760249,40.758984,40.751332,40.759126,40.752741,40.779444,40.711506,40.781292,40.761332,40.746514,40.7612,40.706069,40.755342,40.712983,40.575309,40.865472,40.759972,40.861879,null,40.771366,40.678153,40.850121,40.689458,40.737138,40.783187,40.730862,40.739508,40.751705,40.701352,40.752951,40.690594,40.695609,40.719478,40.66949,40.749184,40.714077,40.772779,40.717498,40.706426,40.721499,40.714946,40.718707,40.764608,40.727639,40.703848,40.78428,40.760637],\"lon\":[-73.97182,-73.985709,-74.044949,-73.99329,-73.984473,-73.982482,-73.977693,-73.977216,-73.963401,-74.012484,-73.973839,-73.977382,-74.009467,-73.975267,-73.99685,-73.99329,-74.013154,-73.979902,-73.881801,-73.980055,-73.932954,null,-73.967244,-73.94416,-73.882529,-74.016803,-73.990376,-73.958789,-73.997323,-74.009146,-73.975598,-74.04295,-73.976857,-73.990082,-73.997379,-73.999195,-73.962386,-73.981544,-74.003046,-73.98387,-74.00271,-74.009476,-73.96089,-74.009227,-73.990088,-73.999096,-73.992406,-74.013834,-73.957813,-73.949493],\"mode\":\"markers\",\"text\":[\"Central Park\",\"Empire State Building\",\"Statue of Liberty\",\"Times Square\",\"Broadway and the Theater District\",\"Fifth Avenue\",\"Rockefeller Center and Top of the Rock Observation Deck\",\"Grand Central Terminal\",\"The Metropolitan Museum of Art\",\"National September 11 Memorial & Museum\",\"American Museum of Natural History\",\"Museum of Modern Art\",\"The High Line\",\"St. Patrick's Cathedral\",\"Brooklyn Bridge\",\"Bryant Park\",\"One World Observatory\",\"Coney Island & Amusement Park\",\"New York Botanical Garden\",\"Radio City Music Hall\",\"The Met Cloisters\",\"New York Public Library\",\"Frick Collection\",\"Prospect Park\",\"Bronx Zoo\",\"Governors Island\",\"Union Square and Union Square Greenmarket\",\"Solomon R. Guggenheim Museum\",\"Washington Square Park\",\"Whitney Museum of American Art\",\"Chrysler Building\",\"Ellis Island National Museum of Immigration\",\"Summit One Vanderbilt\",\"New York Transit Museum\",\"Brooklyn Heights Promenade\",\"Museum of Chinese in America\",\"Brooklyn Botanic Garden\",\"The Morgan Library & Museum\",\"City Hall Station\",\"Metropolitan Opera House\",\"Mmuseumm\",\"Wall Street\",\"Smorgasburg Williamsburg\",\"Mysterious Bookshop\",\"Tenement Museum\",\"Intrepid Sea, Air & Space Museum\",\"Merchant's House Museum\",\"Battery Park\",\"Cooper-Hewitt, Smithsonian Design Museum\",\"Roosevelt Island Smallpox Hospital Ruins\"],\"type\":\"scattergeo\"}],                        {\"template\":{\"data\":{\"bar\":[{\"error_x\":{\"color\":\"#2a3f5f\"},\"error_y\":{\"color\":\"#2a3f5f\"},\"marker\":{\"line\":{\"color\":\"#E5ECF6\",\"width\":0.5},\"pattern\":{\"fillmode\":\"overlay\",\"size\":10,\"solidity\":0.2}},\"type\":\"bar\"}],\"barpolar\":[{\"marker\":{\"line\":{\"color\":\"#E5ECF6\",\"width\":0.5},\"pattern\":{\"fillmode\":\"overlay\",\"size\":10,\"solidity\":0.2}},\"type\":\"barpolar\"}],\"carpet\":[{\"aaxis\":{\"endlinecolor\":\"#2a3f5f\",\"gridcolor\":\"white\",\"linecolor\":\"white\",\"minorgridcolor\":\"white\",\"startlinecolor\":\"#2a3f5f\"},\"baxis\":{\"endlinecolor\":\"#2a3f5f\",\"gridcolor\":\"white\",\"linecolor\":\"white\",\"minorgridcolor\":\"white\",\"startlinecolor\":\"#2a3f5f\"},\"type\":\"carpet\"}],\"choropleth\":[{\"colorbar\":{\"outlinewidth\":0,\"ticks\":\"\"},\"type\":\"choropleth\"}],\"contour\":[{\"colorbar\":{\"outlinewidth\":0,\"ticks\":\"\"},\"colorscale\":[[0.0,\"#0d0887\"],[0.1111111111111111,\"#46039f\"],[0.2222222222222222,\"#7201a8\"],[0.3333333333333333,\"#9c179e\"],[0.4444444444444444,\"#bd3786\"],[0.5555555555555556,\"#d8576b\"],[0.6666666666666666,\"#ed7953\"],[0.7777777777777778,\"#fb9f3a\"],[0.8888888888888888,\"#fdca26\"],[1.0,\"#f0f921\"]],\"type\":\"contour\"}],\"contourcarpet\":[{\"colorbar\":{\"outlinewidth\":0,\"ticks\":\"\"},\"type\":\"contourcarpet\"}],\"heatmap\":[{\"colorbar\":{\"outlinewidth\":0,\"ticks\":\"\"},\"colorscale\":[[0.0,\"#0d0887\"],[0.1111111111111111,\"#46039f\"],[0.2222222222222222,\"#7201a8\"],[0.3333333333333333,\"#9c179e\"],[0.4444444444444444,\"#bd3786\"],[0.5555555555555556,\"#d8576b\"],[0.6666666666666666,\"#ed7953\"],[0.7777777777777778,\"#fb9f3a\"],[0.8888888888888888,\"#fdca26\"],[1.0,\"#f0f921\"]],\"type\":\"heatmap\"}],\"heatmapgl\":[{\"colorbar\":{\"outlinewidth\":0,\"ticks\":\"\"},\"colorscale\":[[0.0,\"#0d0887\"],[0.1111111111111111,\"#46039f\"],[0.2222222222222222,\"#7201a8\"],[0.3333333333333333,\"#9c179e\"],[0.4444444444444444,\"#bd3786\"],[0.5555555555555556,\"#d8576b\"],[0.6666666666666666,\"#ed7953\"],[0.7777777777777778,\"#fb9f3a\"],[0.8888888888888888,\"#fdca26\"],[1.0,\"#f0f921\"]],\"type\":\"heatmapgl\"}],\"histogram\":[{\"marker\":{\"pattern\":{\"fillmode\":\"overlay\",\"size\":10,\"solidity\":0.2}},\"type\":\"histogram\"}],\"histogram2d\":[{\"colorbar\":{\"outlinewidth\":0,\"ticks\":\"\"},\"colorscale\":[[0.0,\"#0d0887\"],[0.1111111111111111,\"#46039f\"],[0.2222222222222222,\"#7201a8\"],[0.3333333333333333,\"#9c179e\"],[0.4444444444444444,\"#bd3786\"],[0.5555555555555556,\"#d8576b\"],[0.6666666666666666,\"#ed7953\"],[0.7777777777777778,\"#fb9f3a\"],[0.8888888888888888,\"#fdca26\"],[1.0,\"#f0f921\"]],\"type\":\"histogram2d\"}],\"histogram2dcontour\":[{\"colorbar\":{\"outlinewidth\":0,\"ticks\":\"\"},\"colorscale\":[[0.0,\"#0d0887\"],[0.1111111111111111,\"#46039f\"],[0.2222222222222222,\"#7201a8\"],[0.3333333333333333,\"#9c179e\"],[0.4444444444444444,\"#bd3786\"],[0.5555555555555556,\"#d8576b\"],[0.6666666666666666,\"#ed7953\"],[0.7777777777777778,\"#fb9f3a\"],[0.8888888888888888,\"#fdca26\"],[1.0,\"#f0f921\"]],\"type\":\"histogram2dcontour\"}],\"mesh3d\":[{\"colorbar\":{\"outlinewidth\":0,\"ticks\":\"\"},\"type\":\"mesh3d\"}],\"parcoords\":[{\"line\":{\"colorbar\":{\"outlinewidth\":0,\"ticks\":\"\"}},\"type\":\"parcoords\"}],\"pie\":[{\"automargin\":true,\"type\":\"pie\"}],\"scatter\":[{\"marker\":{\"colorbar\":{\"outlinewidth\":0,\"ticks\":\"\"}},\"type\":\"scatter\"}],\"scatter3d\":[{\"line\":{\"colorbar\":{\"outlinewidth\":0,\"ticks\":\"\"}},\"marker\":{\"colorbar\":{\"outlinewidth\":0,\"ticks\":\"\"}},\"type\":\"scatter3d\"}],\"scattercarpet\":[{\"marker\":{\"colorbar\":{\"outlinewidth\":0,\"ticks\":\"\"}},\"type\":\"scattercarpet\"}],\"scattergeo\":[{\"marker\":{\"colorbar\":{\"outlinewidth\":0,\"ticks\":\"\"}},\"type\":\"scattergeo\"}],\"scattergl\":[{\"marker\":{\"colorbar\":{\"outlinewidth\":0,\"ticks\":\"\"}},\"type\":\"scattergl\"}],\"scattermapbox\":[{\"marker\":{\"colorbar\":{\"outlinewidth\":0,\"ticks\":\"\"}},\"type\":\"scattermapbox\"}],\"scatterpolar\":[{\"marker\":{\"colorbar\":{\"outlinewidth\":0,\"ticks\":\"\"}},\"type\":\"scatterpolar\"}],\"scatterpolargl\":[{\"marker\":{\"colorbar\":{\"outlinewidth\":0,\"ticks\":\"\"}},\"type\":\"scatterpolargl\"}],\"scatterternary\":[{\"marker\":{\"colorbar\":{\"outlinewidth\":0,\"ticks\":\"\"}},\"type\":\"scatterternary\"}],\"surface\":[{\"colorbar\":{\"outlinewidth\":0,\"ticks\":\"\"},\"colorscale\":[[0.0,\"#0d0887\"],[0.1111111111111111,\"#46039f\"],[0.2222222222222222,\"#7201a8\"],[0.3333333333333333,\"#9c179e\"],[0.4444444444444444,\"#bd3786\"],[0.5555555555555556,\"#d8576b\"],[0.6666666666666666,\"#ed7953\"],[0.7777777777777778,\"#fb9f3a\"],[0.8888888888888888,\"#fdca26\"],[1.0,\"#f0f921\"]],\"type\":\"surface\"}],\"table\":[{\"cells\":{\"fill\":{\"color\":\"#EBF0F8\"},\"line\":{\"color\":\"white\"}},\"header\":{\"fill\":{\"color\":\"#C8D4E3\"},\"line\":{\"color\":\"white\"}},\"type\":\"table\"}]},\"layout\":{\"annotationdefaults\":{\"arrowcolor\":\"#2a3f5f\",\"arrowhead\":0,\"arrowwidth\":1},\"autotypenumbers\":\"strict\",\"coloraxis\":{\"colorbar\":{\"outlinewidth\":0,\"ticks\":\"\"}},\"colorscale\":{\"diverging\":[[0,\"#8e0152\"],[0.1,\"#c51b7d\"],[0.2,\"#de77ae\"],[0.3,\"#f1b6da\"],[0.4,\"#fde0ef\"],[0.5,\"#f7f7f7\"],[0.6,\"#e6f5d0\"],[0.7,\"#b8e186\"],[0.8,\"#7fbc41\"],[0.9,\"#4d9221\"],[1,\"#276419\"]],\"sequential\":[[0.0,\"#0d0887\"],[0.1111111111111111,\"#46039f\"],[0.2222222222222222,\"#7201a8\"],[0.3333333333333333,\"#9c179e\"],[0.4444444444444444,\"#bd3786\"],[0.5555555555555556,\"#d8576b\"],[0.6666666666666666,\"#ed7953\"],[0.7777777777777778,\"#fb9f3a\"],[0.8888888888888888,\"#fdca26\"],[1.0,\"#f0f921\"]],\"sequentialminus\":[[0.0,\"#0d0887\"],[0.1111111111111111,\"#46039f\"],[0.2222222222222222,\"#7201a8\"],[0.3333333333333333,\"#9c179e\"],[0.4444444444444444,\"#bd3786\"],[0.5555555555555556,\"#d8576b\"],[0.6666666666666666,\"#ed7953\"],[0.7777777777777778,\"#fb9f3a\"],[0.8888888888888888,\"#fdca26\"],[1.0,\"#f0f921\"]]},\"colorway\":[\"#636efa\",\"#EF553B\",\"#00cc96\",\"#ab63fa\",\"#FFA15A\",\"#19d3f3\",\"#FF6692\",\"#B6E880\",\"#FF97FF\",\"#FECB52\"],\"font\":{\"color\":\"#2a3f5f\"},\"geo\":{\"bgcolor\":\"white\",\"lakecolor\":\"white\",\"landcolor\":\"#E5ECF6\",\"showlakes\":true,\"showland\":true,\"subunitcolor\":\"white\"},\"hoverlabel\":{\"align\":\"left\"},\"hovermode\":\"closest\",\"mapbox\":{\"style\":\"light\"},\"paper_bgcolor\":\"white\",\"plot_bgcolor\":\"#E5ECF6\",\"polar\":{\"angularaxis\":{\"gridcolor\":\"white\",\"linecolor\":\"white\",\"ticks\":\"\"},\"bgcolor\":\"#E5ECF6\",\"radialaxis\":{\"gridcolor\":\"white\",\"linecolor\":\"white\",\"ticks\":\"\"}},\"scene\":{\"xaxis\":{\"backgroundcolor\":\"#E5ECF6\",\"gridcolor\":\"white\",\"gridwidth\":2,\"linecolor\":\"white\",\"showbackground\":true,\"ticks\":\"\",\"zerolinecolor\":\"white\"},\"yaxis\":{\"backgroundcolor\":\"#E5ECF6\",\"gridcolor\":\"white\",\"gridwidth\":2,\"linecolor\":\"white\",\"showbackground\":true,\"ticks\":\"\",\"zerolinecolor\":\"white\"},\"zaxis\":{\"backgroundcolor\":\"#E5ECF6\",\"gridcolor\":\"white\",\"gridwidth\":2,\"linecolor\":\"white\",\"showbackground\":true,\"ticks\":\"\",\"zerolinecolor\":\"white\"}},\"shapedefaults\":{\"line\":{\"color\":\"#2a3f5f\"}},\"ternary\":{\"aaxis\":{\"gridcolor\":\"white\",\"linecolor\":\"white\",\"ticks\":\"\"},\"baxis\":{\"gridcolor\":\"white\",\"linecolor\":\"white\",\"ticks\":\"\"},\"bgcolor\":\"#E5ECF6\",\"caxis\":{\"gridcolor\":\"white\",\"linecolor\":\"white\",\"ticks\":\"\"}},\"title\":{\"x\":0.05},\"xaxis\":{\"automargin\":true,\"gridcolor\":\"white\",\"linecolor\":\"white\",\"ticks\":\"\",\"title\":{\"standoff\":15},\"zerolinecolor\":\"white\",\"zerolinewidth\":2},\"yaxis\":{\"automargin\":true,\"gridcolor\":\"white\",\"linecolor\":\"white\",\"ticks\":\"\",\"title\":{\"standoff\":15},\"zerolinecolor\":\"white\",\"zerolinewidth\":2}}},\"geo\":{\"scope\":\"usa\"},\"title\":{\"text\":\"Most trafficked US airports<br>(Hover for airport names)\"}},                        {\"responsive\": true}                    )                };                            </script>        </div>\n</body>\n</html>",
       "datasetInfos": [],
       "metadata": {},
       "removedWidgets": [],
       "textData": null,
       "type": "htmlSandbox"
      }
     },
     "output_type": "display_data"
    }
   ],
   "source": [
    "import plotly.graph_objects as go\n",
    "\n",
    "\n",
    "display(touristdf)\n",
    "\n",
    "def getzipcode(x):\n",
    "    try:\n",
    "        if x is not None:\n",
    "            mylist = x.split(\" \")\n",
    "            # print(mylist)\n",
    "            val = int(mylist[-1])\n",
    "            val = str(val)\n",
    "        else:\n",
    "            val = None\n",
    "    except:\n",
    "        val = None\n",
    "    return val\n",
    "touristdf['Zipcode'] = touristdf['Address'].map(lambda x:getzipcode(x))\n",
    "display(touristdf)\n",
    "\n",
    "def getnames2(x):\n",
    "    mydict = {'1':'Manhattan',\n",
    "            '2':'Bronx',\n",
    "            '5':'Staten Island',\n",
    "            '4':'Queens',\n",
    "            '3':'Brooklyn'}\n",
    "    try:\n",
    "        if int(x) >= 10001 and int(x) <=10282:\n",
    "            return mydict.get('1')\n",
    "        elif int(x) >= 10301 and int(x) <=10314:\n",
    "            return mydict.get('5')\n",
    "        elif int(x) >= 10451 and int(x) <=10475:\n",
    "            return mydict.get('2')\n",
    "        elif int(x) >= 11004 and int(x) <=11109:\n",
    "            return mydict.get('4')\n",
    "        elif int(x) >= 11351 and int(x) <=11697:\n",
    "            return mydict.get('4')\n",
    "        elif int(x) >= 11201 and int(x) <=11256:\n",
    "            return mydict.get('3')\n",
    "        else:\n",
    "            return None\n",
    "    except:\n",
    "        return None\n",
    "\n",
    "touristdf['Neighborhood'] = touristdf['Zipcode'].map(lambda x: getnames2(x))\n",
    "display(touristdf)\n",
    "\n",
    "\n",
    "fig = go.Figure(data=go.Scattergeo(\n",
    "        lon = touristdf['longitude'],\n",
    "        lat = touristdf['latitude'],\n",
    "        text = touristdf['Attraction'],\n",
    "        mode = 'markers',\n",
    "       \n",
    "        ))\n",
    "\n",
    "fig.update_layout(\n",
    "        title = ' ',\n",
    "        geo_scope='usa',\n",
    "    )\n",
    "fig.show()"
   ]
  },
  {
   "cell_type": "code",
   "execution_count": 0,
   "metadata": {
    "application/vnd.databricks.v1+cell": {
     "cellMetadata": {
      "byteLimit": 2048000,
      "rowLimit": 10000
     },
     "inputWidgets": {},
     "nuid": "c3f68cc3-2f51-4be0-9337-03dba0d35a87",
     "showTitle": false,
     "title": ""
    }
   },
   "outputs": [
    {
     "output_type": "display_data",
     "data": {
      "text/html": [
       "<style scoped>\n",
       "  .table-result-container {\n",
       "    max-height: 300px;\n",
       "    overflow: auto;\n",
       "  }\n",
       "  table, th, td {\n",
       "    border: 1px solid black;\n",
       "    border-collapse: collapse;\n",
       "  }\n",
       "  th, td {\n",
       "    padding: 5px;\n",
       "  }\n",
       "  th {\n",
       "    text-align: left;\n",
       "  }\n",
       "</style><div class='table-result-container'><table class='table-result'><thead style='background-color: white'><tr><th>Address</th><th>Attraction</th><th>Website</th><th>latitude</th><th>longitude</th><th>Zipcode</th><th>Neighborhood</th></tr></thead><tbody><tr><td>14 E 60th St, Central Park Conservancy, New York City, NY 10022</td><td>Central Park</td><td>https://www.centralparknyc.org</td><td>40.764321</td><td>-73.97182</td><td>10022</td><td>Manhattan</td></tr><tr><td>20 W 34th St, New York City, NY 10001</td><td>Empire State Building</td><td>https://www.esbnyc.com</td><td>40.748745</td><td>-73.985709</td><td>10001</td><td>Manhattan</td></tr><tr><td>Liberty Island, New York City, NY 10004</td><td>Statue of Liberty</td><td>https://www.nps.gov/stli/index.htm</td><td>40.689555</td><td>-74.044949</td><td>10004</td><td>Manhattan</td></tr><tr><td>Manhattan, NY 10036</td><td>Times Square</td><td>null</td><td>40.760249</td><td>-73.99329</td><td>10036</td><td>Manhattan</td></tr><tr><td>Theater District, New York City, NY 10019</td><td>Broadway and the Theater District</td><td>https://www.broadway.org/</td><td>40.758984</td><td>-73.984473</td><td>10019</td><td>Manhattan</td></tr><tr><td>5th Ave, New York City, NY 10018</td><td>Fifth Avenue</td><td>https://www.flickr.com/photos/mariya_umama_wethemba_monastery</td><td>40.751332</td><td>-73.982482</td><td>10018</td><td>Manhattan</td></tr><tr><td>45 Rockefeller Plaza, New York City, NY 10111</td><td>Rockefeller Center and Top of the Rock Observation Deck</td><td>https://www.rockefellercenter.com</td><td>40.759126</td><td>-73.977693</td><td>10111</td><td>Manhattan</td></tr><tr><td>89 E 42nd St, New York City, NY 10017</td><td>Grand Central Terminal</td><td>https://www.grandcentralterminal.com</td><td>40.752741</td><td>-73.977216</td><td>10017</td><td>Manhattan</td></tr><tr><td>1000 5th Ave, New York City, NY 10028</td><td>The Metropolitan Museum of Art</td><td>https://www.metmuseum.org</td><td>40.779444</td><td>-73.963401</td><td>10028</td><td>Manhattan</td></tr><tr><td>180 Greenwich St, New York City, NY 10007</td><td>National September 11 Memorial & Museum</td><td>https://www.911memorial.org</td><td>40.711506</td><td>-74.012484</td><td>10007</td><td>Manhattan</td></tr><tr><td>200 Central Park West, New York City, NY 10024</td><td>American Museum of Natural History</td><td>https://www.amnh.org/</td><td>40.781292</td><td>-73.973839</td><td>10024</td><td>Manhattan</td></tr><tr><td>11 W 53rd St, New York City, NY 10019</td><td>Museum of Modern Art</td><td>https://www.moma.org/</td><td>40.761332</td><td>-73.977382</td><td>10019</td><td>Manhattan</td></tr><tr><td>New York City, NY 10011</td><td>The High Line</td><td>https://www.thehighline.org/</td><td>40.746514</td><td>-74.009467</td><td>10011</td><td>Manhattan</td></tr><tr><td>5th Ave, New York City, NY 10022</td><td>St. Patrick's Cathedral</td><td>https://www.saintpatrickscathedral.org/</td><td>40.7612</td><td>-73.975267</td><td>10022</td><td>Manhattan</td></tr><tr><td>Brooklyn Bridge, New York City, NY 10038</td><td>Brooklyn Bridge</td><td>null</td><td>40.706069</td><td>-73.99685</td><td>10038</td><td>Manhattan</td></tr><tr><td>New York City, NY 10018</td><td>Bryant Park</td><td>null</td><td>40.755342</td><td>-73.99329</td><td>10018</td><td>Manhattan</td></tr><tr><td>117 West St, New York City, NY 10006</td><td>One World Observatory</td><td>null</td><td>40.712983</td><td>-74.013154</td><td>10006</td><td>Manhattan</td></tr><tr><td>1208 Surf Ave, Brooklyn, NY 11224</td><td>Coney Island & Amusement Park</td><td>null</td><td>40.575309</td><td>-73.979902</td><td>11224</td><td>Brooklyn</td></tr><tr><td>2900 Southern Blvd, Bronx, NY 10458</td><td>New York Botanical Garden</td><td>https://www.nybg.org/</td><td>40.865472</td><td>-73.881801</td><td>10458</td><td>Bronx</td></tr><tr><td>1260 6th Ave, New York City, NY 10020</td><td>Radio City Music Hall</td><td>null</td><td>40.759972</td><td>-73.980055</td><td>10020</td><td>Manhattan</td></tr><tr><td>99 Margaret Corbin Dr, New York City, NY 10040</td><td>The Met Cloisters</td><td>null</td><td>40.861879</td><td>-73.932954</td><td>10040</td><td>Manhattan</td></tr><tr><td>null</td><td>New York Public Library</td><td>https://www.nypl.org/</td><td>null</td><td>null</td><td>null</td><td>null</td></tr><tr><td>1 E 70th St, New York City, NY 10021</td><td>Frick Collection</td><td>https://www.frick.org/</td><td>40.771366</td><td>-73.967244</td><td>10021</td><td>Manhattan</td></tr><tr><td>Brooklyn, NY</td><td>Prospect Park</td><td>null</td><td>40.678153</td><td>-73.94416</td><td>null</td><td>null</td></tr><tr><td>2300 Southern Blvd, Bronx, NY 10460</td><td>Bronx Zoo</td><td>https://www.bronxzoo.com/</td><td>40.850121</td><td>-73.882529</td><td>10460</td><td>Bronx</td></tr><tr><td>Governor’s Island, Upper New York Bay, New York City</td><td>Governors Island</td><td>null</td><td>40.689458</td><td>-74.016803</td><td>null</td><td>null</td></tr><tr><td>Union Square W &, E 17th St, New York City, NY 10003</td><td>Union Square and Union Square Greenmarket</td><td>null</td><td>40.737138</td><td>-73.990376</td><td>10003</td><td>Manhattan</td></tr><tr><td>1071 5th Ave, New York, NY 10128</td><td>Solomon R. Guggenheim Museum</td><td>https://www.guggenheim.org/</td><td>40.783187</td><td>-73.958789</td><td>10128</td><td>Manhattan</td></tr><tr><td>Washington Square, New York City, NY 10012</td><td>Washington Square Park</td><td>null</td><td>40.730862</td><td>-73.997323</td><td>10012</td><td>Manhattan</td></tr><tr><td>99 Gansevoort St, New York City, NY 10014</td><td>Whitney Museum of American Art</td><td>https://www.whitney.org/</td><td>40.739508</td><td>-74.009146</td><td>10014</td><td>Manhattan</td></tr><tr><td>405 Lexington Ave, New York City, NY 10174</td><td>Chrysler Building</td><td>null</td><td>40.751705</td><td>-73.975598</td><td>10174</td><td>Manhattan</td></tr><tr><td>Ellis Island Bridge, Jersey City, NJ 10280</td><td>Ellis Island National Museum of Immigration</td><td>null</td><td>40.701352</td><td>-74.04295</td><td>10280</td><td>Manhattan</td></tr><tr><td>45 E 42nd St, New York City, NY 10017</td><td>Summit One Vanderbilt</td><td>null</td><td>40.752951</td><td>-73.976857</td><td>10017</td><td>Manhattan</td></tr><tr><td>99 Schermerhorn St, Brooklyn, NY 11201</td><td>New York Transit Museum</td><td>null</td><td>40.690594</td><td>-73.990082</td><td>11201</td><td>Brooklyn</td></tr><tr><td>Montague St &, Pierrepont Pl, Brooklyn, NY 11201</td><td>Brooklyn Heights Promenade</td><td>null</td><td>40.695609</td><td>-73.997379</td><td>11201</td><td>Brooklyn</td></tr><tr><td>215 Centre St, New York City, NY 10013</td><td>Museum of Chinese in America</td><td>https://www.mocanyc.org/</td><td>40.719478</td><td>-73.999195</td><td>10013</td><td>Manhattan</td></tr><tr><td>990 Washington Ave, Brooklyn, NY 11225</td><td>Brooklyn Botanic Garden</td><td>https://www.bbg.org/</td><td>40.66949</td><td>-73.962386</td><td>11225</td><td>Brooklyn</td></tr><tr><td>225 Madison Ave, New York City, NY 10016</td><td>The Morgan Library & Museum</td><td>https://www.themorgan.org/</td><td>40.749184</td><td>-73.981544</td><td>10016</td><td>Manhattan</td></tr><tr><td>31 Centre St, New York City, NY, 10007</td><td>City Hall Station</td><td>null</td><td>40.714077</td><td>-74.003046</td><td>10007</td><td>Manhattan</td></tr><tr><td>30 Lincoln Center Plaza, New York City, NY 10023</td><td>Metropolitan Opera House</td><td>null</td><td>40.772779</td><td>-73.98387</td><td>10023</td><td>Manhattan</td></tr><tr><td>4 Cortlandt Alley, New York, NY 10013</td><td>Mmuseumm</td><td>https://www.mmuseumm.com/</td><td>40.717498</td><td>-74.00271</td><td>10013</td><td>Manhattan</td></tr><tr><td>Wall Street, New York City, NY 10005</td><td>Wall Street</td><td>null</td><td>40.706426</td><td>-74.009476</td><td>10005</td><td>Manhattan</td></tr><tr><td>90 Kent Ave, Brooklyn, NY 11211</td><td>Smorgasburg Williamsburg</td><td>null</td><td>40.721499</td><td>-73.96089</td><td>11211</td><td>Brooklyn</td></tr><tr><td>58 Warren St, New York, NY 10007</td><td>Mysterious Bookshop</td><td>null</td><td>40.714946</td><td>-74.009227</td><td>10007</td><td>Manhattan</td></tr><tr><td>103 Orchard St, New York, NY 10002</td><td>Tenement Museum</td><td>https://www.tenement.org/</td><td>40.718707</td><td>-73.990088</td><td>10002</td><td>Manhattan</td></tr><tr><td>Pier 86, W 46th St, New York, NY 10036</td><td>Intrepid Sea, Air & Space Museum</td><td>https://www.intrepidmuseum.org/</td><td>40.764608</td><td>-73.999096</td><td>10036</td><td>Manhattan</td></tr><tr><td>29 E 4th St, New York, NY 10003</td><td>Merchant's House Museum</td><td>https://www.merchantshouse.org/</td><td>40.727639</td><td>-73.992406</td><td>10003</td><td>Manhattan</td></tr><tr><td>New York, NY 10004</td><td>Battery Park</td><td>null</td><td>40.703848</td><td>-74.013834</td><td>10004</td><td>Manhattan</td></tr><tr><td>2 E 91st St, New York, NY 10128</td><td>Cooper-Hewitt, Smithsonian Design Museum</td><td>https://www.cooperhewitt.org/</td><td>40.78428</td><td>-73.957813</td><td>10128</td><td>Manhattan</td></tr><tr><td>E Rd, New York, NY 10044</td><td>Roosevelt Island Smallpox Hospital Ruins</td><td>null</td><td>40.760637</td><td>-73.949493</td><td>10044</td><td>Manhattan</td></tr></tbody></table></div>"
      ]
     },
     "metadata": {
      "application/vnd.databricks.v1+output": {
       "addedWidgets": {},
       "aggData": [],
       "aggError": "",
       "aggOverflow": false,
       "aggSchema": [],
       "aggSeriesLimitReached": false,
       "aggType": "",
       "arguments": {},
       "columnCustomDisplayInfos": {},
       "data": [
        [
         "14 E 60th St, Central Park Conservancy, New York City, NY 10022",
         "Central Park",
         "https://www.centralparknyc.org",
         40.764321,
         -73.97182,
         "10022",
         "Manhattan"
        ],
        [
         "20 W 34th St, New York City, NY 10001",
         "Empire State Building",
         "https://www.esbnyc.com",
         40.748745,
         -73.985709,
         "10001",
         "Manhattan"
        ],
        [
         "Liberty Island, New York City, NY 10004",
         "Statue of Liberty",
         "https://www.nps.gov/stli/index.htm",
         40.689555,
         -74.044949,
         "10004",
         "Manhattan"
        ],
        [
         "Manhattan, NY 10036",
         "Times Square",
         null,
         40.760249,
         -73.99329,
         "10036",
         "Manhattan"
        ],
        [
         "Theater District, New York City, NY 10019",
         "Broadway and the Theater District",
         "https://www.broadway.org/",
         40.758984,
         -73.984473,
         "10019",
         "Manhattan"
        ],
        [
         "5th Ave, New York City, NY 10018",
         "Fifth Avenue",
         "https://www.flickr.com/photos/mariya_umama_wethemba_monastery",
         40.751332,
         -73.982482,
         "10018",
         "Manhattan"
        ],
        [
         "45 Rockefeller Plaza, New York City, NY 10111",
         "Rockefeller Center and Top of the Rock Observation Deck",
         "https://www.rockefellercenter.com",
         40.759126,
         -73.977693,
         "10111",
         "Manhattan"
        ],
        [
         "89 E 42nd St, New York City, NY 10017",
         "Grand Central Terminal",
         "https://www.grandcentralterminal.com",
         40.752741,
         -73.977216,
         "10017",
         "Manhattan"
        ],
        [
         "1000 5th Ave, New York City, NY 10028",
         "The Metropolitan Museum of Art",
         "https://www.metmuseum.org",
         40.779444,
         -73.963401,
         "10028",
         "Manhattan"
        ],
        [
         "180 Greenwich St, New York City, NY 10007",
         "National September 11 Memorial & Museum",
         "https://www.911memorial.org",
         40.711506,
         -74.012484,
         "10007",
         "Manhattan"
        ],
        [
         "200 Central Park West, New York City, NY 10024",
         "American Museum of Natural History",
         "https://www.amnh.org/",
         40.781292,
         -73.973839,
         "10024",
         "Manhattan"
        ],
        [
         "11 W 53rd St, New York City, NY 10019",
         "Museum of Modern Art",
         "https://www.moma.org/",
         40.761332,
         -73.977382,
         "10019",
         "Manhattan"
        ],
        [
         "New York City, NY 10011",
         "The High Line",
         "https://www.thehighline.org/",
         40.746514,
         -74.009467,
         "10011",
         "Manhattan"
        ],
        [
         "5th Ave, New York City, NY 10022",
         "St. Patrick's Cathedral",
         "https://www.saintpatrickscathedral.org/",
         40.7612,
         -73.975267,
         "10022",
         "Manhattan"
        ],
        [
         "Brooklyn Bridge, New York City, NY 10038",
         "Brooklyn Bridge",
         null,
         40.706069,
         -73.99685,
         "10038",
         "Manhattan"
        ],
        [
         "New York City, NY 10018",
         "Bryant Park",
         null,
         40.755342,
         -73.99329,
         "10018",
         "Manhattan"
        ],
        [
         "117 West St, New York City, NY 10006",
         "One World Observatory",
         null,
         40.712983,
         -74.013154,
         "10006",
         "Manhattan"
        ],
        [
         "1208 Surf Ave, Brooklyn, NY 11224",
         "Coney Island & Amusement Park",
         null,
         40.575309,
         -73.979902,
         "11224",
         "Brooklyn"
        ],
        [
         "2900 Southern Blvd, Bronx, NY 10458",
         "New York Botanical Garden",
         "https://www.nybg.org/",
         40.865472,
         -73.881801,
         "10458",
         "Bronx"
        ],
        [
         "1260 6th Ave, New York City, NY 10020",
         "Radio City Music Hall",
         null,
         40.759972,
         -73.980055,
         "10020",
         "Manhattan"
        ],
        [
         "99 Margaret Corbin Dr, New York City, NY 10040",
         "The Met Cloisters",
         null,
         40.861879,
         -73.932954,
         "10040",
         "Manhattan"
        ],
        [
         null,
         "New York Public Library",
         "https://www.nypl.org/",
         null,
         null,
         null,
         null
        ],
        [
         "1 E 70th St, New York City, NY 10021",
         "Frick Collection",
         "https://www.frick.org/",
         40.771366,
         -73.967244,
         "10021",
         "Manhattan"
        ],
        [
         "Brooklyn, NY",
         "Prospect Park",
         null,
         40.678153,
         -73.94416,
         null,
         null
        ],
        [
         "2300 Southern Blvd, Bronx, NY 10460",
         "Bronx Zoo",
         "https://www.bronxzoo.com/",
         40.850121,
         -73.882529,
         "10460",
         "Bronx"
        ],
        [
         "Governor’s Island, Upper New York Bay, New York City",
         "Governors Island",
         null,
         40.689458,
         -74.016803,
         null,
         null
        ],
        [
         "Union Square W &, E 17th St, New York City, NY 10003",
         "Union Square and Union Square Greenmarket",
         null,
         40.737138,
         -73.990376,
         "10003",
         "Manhattan"
        ],
        [
         "1071 5th Ave, New York, NY 10128",
         "Solomon R. Guggenheim Museum",
         "https://www.guggenheim.org/",
         40.783187,
         -73.958789,
         "10128",
         "Manhattan"
        ],
        [
         "Washington Square, New York City, NY 10012",
         "Washington Square Park",
         null,
         40.730862,
         -73.997323,
         "10012",
         "Manhattan"
        ],
        [
         "99 Gansevoort St, New York City, NY 10014",
         "Whitney Museum of American Art",
         "https://www.whitney.org/",
         40.739508,
         -74.009146,
         "10014",
         "Manhattan"
        ],
        [
         "405 Lexington Ave, New York City, NY 10174",
         "Chrysler Building",
         null,
         40.751705,
         -73.975598,
         "10174",
         "Manhattan"
        ],
        [
         "Ellis Island Bridge, Jersey City, NJ 10280",
         "Ellis Island National Museum of Immigration",
         null,
         40.701352,
         -74.04295,
         "10280",
         "Manhattan"
        ],
        [
         "45 E 42nd St, New York City, NY 10017",
         "Summit One Vanderbilt",
         null,
         40.752951,
         -73.976857,
         "10017",
         "Manhattan"
        ],
        [
         "99 Schermerhorn St, Brooklyn, NY 11201",
         "New York Transit Museum",
         null,
         40.690594,
         -73.990082,
         "11201",
         "Brooklyn"
        ],
        [
         "Montague St &, Pierrepont Pl, Brooklyn, NY 11201",
         "Brooklyn Heights Promenade",
         null,
         40.695609,
         -73.997379,
         "11201",
         "Brooklyn"
        ],
        [
         "215 Centre St, New York City, NY 10013",
         "Museum of Chinese in America",
         "https://www.mocanyc.org/",
         40.719478,
         -73.999195,
         "10013",
         "Manhattan"
        ],
        [
         "990 Washington Ave, Brooklyn, NY 11225",
         "Brooklyn Botanic Garden",
         "https://www.bbg.org/",
         40.66949,
         -73.962386,
         "11225",
         "Brooklyn"
        ],
        [
         "225 Madison Ave, New York City, NY 10016",
         "The Morgan Library & Museum",
         "https://www.themorgan.org/",
         40.749184,
         -73.981544,
         "10016",
         "Manhattan"
        ],
        [
         "31 Centre St, New York City, NY, 10007",
         "City Hall Station",
         null,
         40.714077,
         -74.003046,
         "10007",
         "Manhattan"
        ],
        [
         "30 Lincoln Center Plaza, New York City, NY 10023",
         "Metropolitan Opera House",
         null,
         40.772779,
         -73.98387,
         "10023",
         "Manhattan"
        ],
        [
         "4 Cortlandt Alley, New York, NY 10013",
         "Mmuseumm",
         "https://www.mmuseumm.com/",
         40.717498,
         -74.00271,
         "10013",
         "Manhattan"
        ],
        [
         "Wall Street, New York City, NY 10005",
         "Wall Street",
         null,
         40.706426,
         -74.009476,
         "10005",
         "Manhattan"
        ],
        [
         "90 Kent Ave, Brooklyn, NY 11211",
         "Smorgasburg Williamsburg",
         null,
         40.721499,
         -73.96089,
         "11211",
         "Brooklyn"
        ],
        [
         "58 Warren St, New York, NY 10007",
         "Mysterious Bookshop",
         null,
         40.714946,
         -74.009227,
         "10007",
         "Manhattan"
        ],
        [
         "103 Orchard St, New York, NY 10002",
         "Tenement Museum",
         "https://www.tenement.org/",
         40.718707,
         -73.990088,
         "10002",
         "Manhattan"
        ],
        [
         "Pier 86, W 46th St, New York, NY 10036",
         "Intrepid Sea, Air & Space Museum",
         "https://www.intrepidmuseum.org/",
         40.764608,
         -73.999096,
         "10036",
         "Manhattan"
        ],
        [
         "29 E 4th St, New York, NY 10003",
         "Merchant's House Museum",
         "https://www.merchantshouse.org/",
         40.727639,
         -73.992406,
         "10003",
         "Manhattan"
        ],
        [
         "New York, NY 10004",
         "Battery Park",
         null,
         40.703848,
         -74.013834,
         "10004",
         "Manhattan"
        ],
        [
         "2 E 91st St, New York, NY 10128",
         "Cooper-Hewitt, Smithsonian Design Museum",
         "https://www.cooperhewitt.org/",
         40.78428,
         -73.957813,
         "10128",
         "Manhattan"
        ],
        [
         "E Rd, New York, NY 10044",
         "Roosevelt Island Smallpox Hospital Ruins",
         null,
         40.760637,
         -73.949493,
         "10044",
         "Manhattan"
        ]
       ],
       "datasetInfos": [],
       "dbfsResultPath": null,
       "isJsonSchema": true,
       "metadata": {},
       "overflow": false,
       "plotOptions": {
        "customPlotOptions": {},
        "displayType": "table",
        "pivotAggregation": null,
        "pivotColumns": null,
        "xColumns": null,
        "yColumns": null
       },
       "removedWidgets": [],
       "schema": [
        {
         "metadata": "{}",
         "name": "Address",
         "type": "\"string\""
        },
        {
         "metadata": "{}",
         "name": "Attraction",
         "type": "\"string\""
        },
        {
         "metadata": "{}",
         "name": "Website",
         "type": "\"string\""
        },
        {
         "metadata": "{}",
         "name": "latitude",
         "type": "\"double\""
        },
        {
         "metadata": "{}",
         "name": "longitude",
         "type": "\"double\""
        },
        {
         "metadata": "{}",
         "name": "Zipcode",
         "type": "\"string\""
        },
        {
         "metadata": "{}",
         "name": "Neighborhood",
         "type": "\"string\""
        }
       ],
       "type": "table"
      }
     },
     "output_type": "display_data"
    }
   ],
   "source": [
    "# touristdf = spark.createDataFrame(touristdf)\n",
    "# display(touristdf)\n",
    "\n",
    "# touristdf.write.mode(\"overwrite\").options(header='True').csv('/mnt/shirleycho-group3/Attractions_clean/tourist_attractions')"
   ]
  }
 ],
 "metadata": {
  "application/vnd.databricks.v1+notebook": {
   "dashboards": [],
   "language": "python",
   "notebookMetadata": {
    "pythonIndentUnit": 4
   },
   "notebookName": "Tourist_Attractions_Webscrape",
   "widgets": {}
  }
 },
 "nbformat": 4,
 "nbformat_minor": 0
}
